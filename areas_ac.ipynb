{
 "cells": [
  {
   "cell_type": "code",
   "execution_count": 1,
   "metadata": {},
   "outputs": [],
   "source": [
    "# Librerías necesarias\n",
    "import pandas as pd\n",
    "import re\n",
    "import requests"
   ]
  },
  {
   "cell_type": "code",
   "execution_count": 31,
   "metadata": {},
   "outputs": [
    {
     "data": {
      "text/html": [
       "<div>\n",
       "<style scoped>\n",
       "    .dataframe tbody tr th:only-of-type {\n",
       "        vertical-align: middle;\n",
       "    }\n",
       "\n",
       "    .dataframe tbody tr th {\n",
       "        vertical-align: top;\n",
       "    }\n",
       "\n",
       "    .dataframe thead th {\n",
       "        text-align: right;\n",
       "    }\n",
       "</style>\n",
       "<table border=\"1\" class=\"dataframe\">\n",
       "  <thead>\n",
       "    <tr style=\"text-align: right;\">\n",
       "      <th></th>\n",
       "      <th>WKT</th>\n",
       "      <th>NOMBRE</th>\n",
       "    </tr>\n",
       "  </thead>\n",
       "  <tbody>\n",
       "    <tr>\n",
       "      <th>0</th>\n",
       "      <td>POINT (-0.4098 39.06956 0.0)</td>\n",
       "      <td>Area AC Hort de Soriano (Carcaixent)  (Gratuit...</td>\n",
       "    </tr>\n",
       "    <tr>\n",
       "      <th>1</th>\n",
       "      <td>POINT (-8.89696 42.64159 0.0)</td>\n",
       "      <td>Area de ac playa de BarraÃ±a (Boiro)  (Gratuit...</td>\n",
       "    </tr>\n",
       "    <tr>\n",
       "      <th>2</th>\n",
       "      <td>POINT (0.35921 42.90715 0.0)</td>\n",
       "      <td>Arreau Ã¡rea AC municipal  (2 eurosAgua:sivaci...</td>\n",
       "    </tr>\n",
       "    <tr>\n",
       "      <th>3</th>\n",
       "      <td>POINT (-0.41007 38.39479 0.0)</td>\n",
       "      <td>Camper Area Campello Beach   (14eur/nocheAgua:...</td>\n",
       "    </tr>\n",
       "    <tr>\n",
       "      <th>4</th>\n",
       "      <td>POINT (-8.44443 43.37179 0.0)</td>\n",
       "      <td>A CoruÃ±a  Gratuito: Si Pernocta: Si WC: Si Ag...</td>\n",
       "    </tr>\n",
       "  </tbody>\n",
       "</table>\n",
       "</div>"
      ],
      "text/plain": [
       "                             WKT  \\\n",
       "0   POINT (-0.4098 39.06956 0.0)   \n",
       "1  POINT (-8.89696 42.64159 0.0)   \n",
       "2   POINT (0.35921 42.90715 0.0)   \n",
       "3  POINT (-0.41007 38.39479 0.0)   \n",
       "4  POINT (-8.44443 43.37179 0.0)   \n",
       "\n",
       "                                              NOMBRE  \n",
       "0  Area AC Hort de Soriano (Carcaixent)  (Gratuit...  \n",
       "1  Area de ac playa de BarraÃ±a (Boiro)  (Gratuit...  \n",
       "2  Arreau Ã¡rea AC municipal  (2 eurosAgua:sivaci...  \n",
       "3  Camper Area Campello Beach   (14eur/nocheAgua:...  \n",
       "4  A CoruÃ±a  Gratuito: Si Pernocta: Si WC: Si Ag...  "
      ]
     },
     "execution_count": 31,
     "metadata": {},
     "output_type": "execute_result"
    }
   ],
   "source": [
    "df = pd.read_csv(\"ficheros/areas_ac.csv\")\n",
    "df.head()"
   ]
  },
  {
   "cell_type": "code",
   "execution_count": 3,
   "metadata": {},
   "outputs": [
    {
     "data": {
      "text/plain": [
       "WKT       0\n",
       "NOMBRE    0\n",
       "dtype: int64"
      ]
     },
     "execution_count": 3,
     "metadata": {},
     "output_type": "execute_result"
    }
   ],
   "source": [
    "\n",
    "df.isnull().sum()"
   ]
  },
  {
   "cell_type": "code",
   "execution_count": 4,
   "metadata": {},
   "outputs": [
    {
     "data": {
      "text/plain": [
       "WKT       object\n",
       "NOMBRE    object\n",
       "dtype: object"
      ]
     },
     "execution_count": 4,
     "metadata": {},
     "output_type": "execute_result"
    }
   ],
   "source": [
    "df.dtypes"
   ]
  },
  {
   "attachments": {},
   "cell_type": "markdown",
   "metadata": {},
   "source": [
    "### EXTRAER LA INFORMACIÓN LAS COLUMNAS\n",
    "---"
   ]
  },
  {
   "cell_type": "code",
   "execution_count": 32,
   "metadata": {},
   "outputs": [],
   "source": [
    "# Función para sacar las coordenadas de la columna WKT\n",
    "def sacar_latitud(col):\n",
    "    patron = \"-?\\d+\\.\\d+\" \n",
    "    return re.findall(patron, col)[1]\n",
    "\n",
    "def sacar_longitud(col):\n",
    "    patron = \"-?\\d+\\.\\d+\" \n",
    "    return re.findall(patron, col)[0]"
   ]
  },
  {
   "cell_type": "code",
   "execution_count": 33,
   "metadata": {},
   "outputs": [],
   "source": [
    "df[\"latitude\"]= df[\"WKT\"].apply(sacar_latitud)"
   ]
  },
  {
   "cell_type": "code",
   "execution_count": 34,
   "metadata": {},
   "outputs": [],
   "source": [
    "df[\"longitude\"] = df[\"WKT\"].apply(sacar_longitud)"
   ]
  },
  {
   "cell_type": "code",
   "execution_count": 35,
   "metadata": {},
   "outputs": [
    {
     "data": {
      "text/html": [
       "<div>\n",
       "<style scoped>\n",
       "    .dataframe tbody tr th:only-of-type {\n",
       "        vertical-align: middle;\n",
       "    }\n",
       "\n",
       "    .dataframe tbody tr th {\n",
       "        vertical-align: top;\n",
       "    }\n",
       "\n",
       "    .dataframe thead th {\n",
       "        text-align: right;\n",
       "    }\n",
       "</style>\n",
       "<table border=\"1\" class=\"dataframe\">\n",
       "  <thead>\n",
       "    <tr style=\"text-align: right;\">\n",
       "      <th></th>\n",
       "      <th>WKT</th>\n",
       "      <th>NOMBRE</th>\n",
       "      <th>latitude</th>\n",
       "      <th>longitude</th>\n",
       "    </tr>\n",
       "  </thead>\n",
       "  <tbody>\n",
       "    <tr>\n",
       "      <th>0</th>\n",
       "      <td>POINT (-0.4098 39.06956 0.0)</td>\n",
       "      <td>Area AC Hort de Soriano (Carcaixent)  (Gratuit...</td>\n",
       "      <td>39.06956</td>\n",
       "      <td>-0.4098</td>\n",
       "    </tr>\n",
       "    <tr>\n",
       "      <th>1</th>\n",
       "      <td>POINT (-8.89696 42.64159 0.0)</td>\n",
       "      <td>Area de ac playa de BarraÃ±a (Boiro)  (Gratuit...</td>\n",
       "      <td>42.64159</td>\n",
       "      <td>-8.89696</td>\n",
       "    </tr>\n",
       "  </tbody>\n",
       "</table>\n",
       "</div>"
      ],
      "text/plain": [
       "                             WKT  \\\n",
       "0   POINT (-0.4098 39.06956 0.0)   \n",
       "1  POINT (-8.89696 42.64159 0.0)   \n",
       "\n",
       "                                              NOMBRE  latitude longitude  \n",
       "0  Area AC Hort de Soriano (Carcaixent)  (Gratuit...  39.06956   -0.4098  \n",
       "1  Area de ac playa de BarraÃ±a (Boiro)  (Gratuit...  42.64159  -8.89696  "
      ]
     },
     "execution_count": 35,
     "metadata": {},
     "output_type": "execute_result"
    }
   ],
   "source": [
    "df.head(2)"
   ]
  },
  {
   "cell_type": "code",
   "execution_count": 36,
   "metadata": {},
   "outputs": [],
   "source": [
    "# Función para buscar si es de pago o no\n",
    "def precio(col):\n",
    "    \n",
    "    patron1 = \"[G|g]ratuito:*\\s*[N|n]o\"\n",
    "    patron2 = \"[G|g]ratuito\"\n",
    "    patron3 = \".*\\d+\"\n",
    "    if re.findall(patron1,col):             \n",
    "        return \"Paying\"\n",
    "    elif re.findall(patron2,col):             \n",
    "        return \"Free\"\n",
    "    elif re.findall(patron3,col):             \n",
    "        return \"Paying\"\n",
    "    else:\n",
    "        return \"Free\""
   ]
  },
  {
   "cell_type": "code",
   "execution_count": 37,
   "metadata": {},
   "outputs": [],
   "source": [
    "df[\"price\"] = df[\"NOMBRE\"].apply(precio)"
   ]
  },
  {
   "cell_type": "code",
   "execution_count": 38,
   "metadata": {},
   "outputs": [
    {
     "data": {
      "text/html": [
       "<div>\n",
       "<style scoped>\n",
       "    .dataframe tbody tr th:only-of-type {\n",
       "        vertical-align: middle;\n",
       "    }\n",
       "\n",
       "    .dataframe tbody tr th {\n",
       "        vertical-align: top;\n",
       "    }\n",
       "\n",
       "    .dataframe thead th {\n",
       "        text-align: right;\n",
       "    }\n",
       "</style>\n",
       "<table border=\"1\" class=\"dataframe\">\n",
       "  <thead>\n",
       "    <tr style=\"text-align: right;\">\n",
       "      <th></th>\n",
       "      <th>WKT</th>\n",
       "      <th>NOMBRE</th>\n",
       "      <th>latitude</th>\n",
       "      <th>longitude</th>\n",
       "      <th>price</th>\n",
       "    </tr>\n",
       "  </thead>\n",
       "  <tbody>\n",
       "    <tr>\n",
       "      <th>0</th>\n",
       "      <td>POINT (-0.4098 39.06956 0.0)</td>\n",
       "      <td>Area AC Hort de Soriano (Carcaixent)  (Gratuit...</td>\n",
       "      <td>39.06956</td>\n",
       "      <td>-0.4098</td>\n",
       "      <td>Free</td>\n",
       "    </tr>\n",
       "    <tr>\n",
       "      <th>1</th>\n",
       "      <td>POINT (-8.89696 42.64159 0.0)</td>\n",
       "      <td>Area de ac playa de BarraÃ±a (Boiro)  (Gratuit...</td>\n",
       "      <td>42.64159</td>\n",
       "      <td>-8.89696</td>\n",
       "      <td>Free</td>\n",
       "    </tr>\n",
       "  </tbody>\n",
       "</table>\n",
       "</div>"
      ],
      "text/plain": [
       "                             WKT  \\\n",
       "0   POINT (-0.4098 39.06956 0.0)   \n",
       "1  POINT (-8.89696 42.64159 0.0)   \n",
       "\n",
       "                                              NOMBRE  latitude longitude price  \n",
       "0  Area AC Hort de Soriano (Carcaixent)  (Gratuit...  39.06956   -0.4098  Free  \n",
       "1  Area de ac playa de BarraÃ±a (Boiro)  (Gratuit...  42.64159  -8.89696  Free  "
      ]
     },
     "execution_count": 38,
     "metadata": {},
     "output_type": "execute_result"
    }
   ],
   "source": [
    "df.head(2)"
   ]
  },
  {
   "cell_type": "code",
   "execution_count": 39,
   "metadata": {},
   "outputs": [
    {
     "data": {
      "text/plain": [
       "Free      552\n",
       "Paying    361\n",
       "Name: price, dtype: int64"
      ]
     },
     "execution_count": 39,
     "metadata": {},
     "output_type": "execute_result"
    }
   ],
   "source": [
    "df.price.value_counts()"
   ]
  },
  {
   "cell_type": "code",
   "execution_count": 40,
   "metadata": {},
   "outputs": [],
   "source": [
    "# Función para saber si disponen de servicio de aguas o no\n",
    "def buscar_agua(col):\n",
    "    patron = \"[A|a]gua:*\\s*[N|n]o*\"\n",
    "    patron2 = \"[A|a]gua:*\\s*[S|s]*i*\"\n",
    "    if re.findall(patron, col):\n",
    "        return \"no\"\n",
    "    elif re.findall(patron2, col):\n",
    "        return \"yes\"\n",
    "    else:\n",
    "        return \"unknown\""
   ]
  },
  {
   "cell_type": "code",
   "execution_count": 41,
   "metadata": {},
   "outputs": [],
   "source": [
    "df[\"water\"] = df[\"NOMBRE\"].apply(buscar_agua)"
   ]
  },
  {
   "cell_type": "code",
   "execution_count": 42,
   "metadata": {},
   "outputs": [
    {
     "data": {
      "text/html": [
       "<div>\n",
       "<style scoped>\n",
       "    .dataframe tbody tr th:only-of-type {\n",
       "        vertical-align: middle;\n",
       "    }\n",
       "\n",
       "    .dataframe tbody tr th {\n",
       "        vertical-align: top;\n",
       "    }\n",
       "\n",
       "    .dataframe thead th {\n",
       "        text-align: right;\n",
       "    }\n",
       "</style>\n",
       "<table border=\"1\" class=\"dataframe\">\n",
       "  <thead>\n",
       "    <tr style=\"text-align: right;\">\n",
       "      <th></th>\n",
       "      <th>WKT</th>\n",
       "      <th>NOMBRE</th>\n",
       "      <th>latitude</th>\n",
       "      <th>longitude</th>\n",
       "      <th>price</th>\n",
       "      <th>water</th>\n",
       "    </tr>\n",
       "  </thead>\n",
       "  <tbody>\n",
       "    <tr>\n",
       "      <th>0</th>\n",
       "      <td>POINT (-0.4098 39.06956 0.0)</td>\n",
       "      <td>Area AC Hort de Soriano (Carcaixent)  (Gratuit...</td>\n",
       "      <td>39.06956</td>\n",
       "      <td>-0.4098</td>\n",
       "      <td>Free</td>\n",
       "      <td>yes</td>\n",
       "    </tr>\n",
       "    <tr>\n",
       "      <th>1</th>\n",
       "      <td>POINT (-8.89696 42.64159 0.0)</td>\n",
       "      <td>Area de ac playa de BarraÃ±a (Boiro)  (Gratuit...</td>\n",
       "      <td>42.64159</td>\n",
       "      <td>-8.89696</td>\n",
       "      <td>Free</td>\n",
       "      <td>yes</td>\n",
       "    </tr>\n",
       "  </tbody>\n",
       "</table>\n",
       "</div>"
      ],
      "text/plain": [
       "                             WKT  \\\n",
       "0   POINT (-0.4098 39.06956 0.0)   \n",
       "1  POINT (-8.89696 42.64159 0.0)   \n",
       "\n",
       "                                              NOMBRE  latitude longitude  \\\n",
       "0  Area AC Hort de Soriano (Carcaixent)  (Gratuit...  39.06956   -0.4098   \n",
       "1  Area de ac playa de BarraÃ±a (Boiro)  (Gratuit...  42.64159  -8.89696   \n",
       "\n",
       "  price water  \n",
       "0  Free   yes  \n",
       "1  Free   yes  "
      ]
     },
     "execution_count": 42,
     "metadata": {},
     "output_type": "execute_result"
    }
   ],
   "source": [
    "df.head(2)"
   ]
  },
  {
   "cell_type": "code",
   "execution_count": 43,
   "metadata": {},
   "outputs": [
    {
     "data": {
      "text/plain": [
       "yes        885\n",
       "no          19\n",
       "unknown      9\n",
       "Name: water, dtype: int64"
      ]
     },
     "execution_count": 43,
     "metadata": {},
     "output_type": "execute_result"
    }
   ],
   "source": [
    "df[\"water\"].value_counts()"
   ]
  },
  {
   "cell_type": "code",
   "execution_count": 46,
   "metadata": {},
   "outputs": [],
   "source": [
    "# Función para saber si tienen wc\n",
    "def buscar_wc(col):\n",
    "    patron = \"[W|w][C|c]:*\\s*[N|n]o*\"\n",
    "    patron2 = \"[W|w][C|c]:*\\s*[S|s]*i*\"\n",
    "    if re.findall(patron, col):\n",
    "        return \"no\"\n",
    "    elif re.findall(patron2, col):\n",
    "        return \"yes\"\n",
    "    else:\n",
    "        return \"unknown\""
   ]
  },
  {
   "cell_type": "code",
   "execution_count": 47,
   "metadata": {},
   "outputs": [],
   "source": [
    "df[\"wc\"] = df[\"NOMBRE\"].apply(buscar_wc)"
   ]
  },
  {
   "cell_type": "code",
   "execution_count": 48,
   "metadata": {},
   "outputs": [
    {
     "data": {
      "text/html": [
       "<div>\n",
       "<style scoped>\n",
       "    .dataframe tbody tr th:only-of-type {\n",
       "        vertical-align: middle;\n",
       "    }\n",
       "\n",
       "    .dataframe tbody tr th {\n",
       "        vertical-align: top;\n",
       "    }\n",
       "\n",
       "    .dataframe thead th {\n",
       "        text-align: right;\n",
       "    }\n",
       "</style>\n",
       "<table border=\"1\" class=\"dataframe\">\n",
       "  <thead>\n",
       "    <tr style=\"text-align: right;\">\n",
       "      <th></th>\n",
       "      <th>WKT</th>\n",
       "      <th>NOMBRE</th>\n",
       "      <th>latitude</th>\n",
       "      <th>longitude</th>\n",
       "      <th>price</th>\n",
       "      <th>water</th>\n",
       "      <th>wc</th>\n",
       "    </tr>\n",
       "  </thead>\n",
       "  <tbody>\n",
       "    <tr>\n",
       "      <th>0</th>\n",
       "      <td>POINT (-0.4098 39.06956 0.0)</td>\n",
       "      <td>Area AC Hort de Soriano (Carcaixent)  (Gratuit...</td>\n",
       "      <td>39.06956</td>\n",
       "      <td>-0.4098</td>\n",
       "      <td>Free</td>\n",
       "      <td>yes</td>\n",
       "      <td>yes</td>\n",
       "    </tr>\n",
       "    <tr>\n",
       "      <th>1</th>\n",
       "      <td>POINT (-8.89696 42.64159 0.0)</td>\n",
       "      <td>Area de ac playa de BarraÃ±a (Boiro)  (Gratuit...</td>\n",
       "      <td>42.64159</td>\n",
       "      <td>-8.89696</td>\n",
       "      <td>Free</td>\n",
       "      <td>yes</td>\n",
       "      <td>yes</td>\n",
       "    </tr>\n",
       "  </tbody>\n",
       "</table>\n",
       "</div>"
      ],
      "text/plain": [
       "                             WKT  \\\n",
       "0   POINT (-0.4098 39.06956 0.0)   \n",
       "1  POINT (-8.89696 42.64159 0.0)   \n",
       "\n",
       "                                              NOMBRE  latitude longitude  \\\n",
       "0  Area AC Hort de Soriano (Carcaixent)  (Gratuit...  39.06956   -0.4098   \n",
       "1  Area de ac playa de BarraÃ±a (Boiro)  (Gratuit...  42.64159  -8.89696   \n",
       "\n",
       "  price water   wc  \n",
       "0  Free   yes  yes  \n",
       "1  Free   yes  yes  "
      ]
     },
     "execution_count": 48,
     "metadata": {},
     "output_type": "execute_result"
    }
   ],
   "source": [
    "df.head(2)"
   ]
  },
  {
   "cell_type": "code",
   "execution_count": 49,
   "metadata": {},
   "outputs": [
    {
     "data": {
      "text/plain": [
       "no         511\n",
       "yes        363\n",
       "unknown     39\n",
       "Name: wc, dtype: int64"
      ]
     },
     "execution_count": 49,
     "metadata": {},
     "output_type": "execute_result"
    }
   ],
   "source": [
    "df.wc.value_counts()"
   ]
  },
  {
   "cell_type": "code",
   "execution_count": 50,
   "metadata": {},
   "outputs": [],
   "source": [
    "# Función para saber si le han etiquetado el servicio de vaciado\n",
    "def vaciado(col):\n",
    "    patron = \"[V|v]aciado:*\\s*[N|n]o*\"\n",
    "    patron2 = \"[V|v]aciado:*\\s*[S|s]*i*\"\n",
    "    if re.findall(patron, col):\n",
    "        return \"no\"\n",
    "    elif re.findall(patron2, col):\n",
    "        return \"yes\"\n",
    "    else:\n",
    "        return \"unknown\""
   ]
  },
  {
   "cell_type": "code",
   "execution_count": 52,
   "metadata": {},
   "outputs": [],
   "source": [
    "df[\"grey_water\"] = df[\"NOMBRE\"].apply(vaciado)"
   ]
  },
  {
   "cell_type": "code",
   "execution_count": 53,
   "metadata": {},
   "outputs": [
    {
     "data": {
      "text/html": [
       "<div>\n",
       "<style scoped>\n",
       "    .dataframe tbody tr th:only-of-type {\n",
       "        vertical-align: middle;\n",
       "    }\n",
       "\n",
       "    .dataframe tbody tr th {\n",
       "        vertical-align: top;\n",
       "    }\n",
       "\n",
       "    .dataframe thead th {\n",
       "        text-align: right;\n",
       "    }\n",
       "</style>\n",
       "<table border=\"1\" class=\"dataframe\">\n",
       "  <thead>\n",
       "    <tr style=\"text-align: right;\">\n",
       "      <th></th>\n",
       "      <th>WKT</th>\n",
       "      <th>NOMBRE</th>\n",
       "      <th>latitude</th>\n",
       "      <th>longitude</th>\n",
       "      <th>price</th>\n",
       "      <th>water</th>\n",
       "      <th>wc</th>\n",
       "      <th>grey_water</th>\n",
       "    </tr>\n",
       "  </thead>\n",
       "  <tbody>\n",
       "    <tr>\n",
       "      <th>0</th>\n",
       "      <td>POINT (-0.4098 39.06956 0.0)</td>\n",
       "      <td>Area AC Hort de Soriano (Carcaixent)  (Gratuit...</td>\n",
       "      <td>39.06956</td>\n",
       "      <td>-0.4098</td>\n",
       "      <td>Free</td>\n",
       "      <td>yes</td>\n",
       "      <td>yes</td>\n",
       "      <td>yes</td>\n",
       "    </tr>\n",
       "    <tr>\n",
       "      <th>1</th>\n",
       "      <td>POINT (-8.89696 42.64159 0.0)</td>\n",
       "      <td>Area de ac playa de BarraÃ±a (Boiro)  (Gratuit...</td>\n",
       "      <td>42.64159</td>\n",
       "      <td>-8.89696</td>\n",
       "      <td>Free</td>\n",
       "      <td>yes</td>\n",
       "      <td>yes</td>\n",
       "      <td>unknown</td>\n",
       "    </tr>\n",
       "  </tbody>\n",
       "</table>\n",
       "</div>"
      ],
      "text/plain": [
       "                             WKT  \\\n",
       "0   POINT (-0.4098 39.06956 0.0)   \n",
       "1  POINT (-8.89696 42.64159 0.0)   \n",
       "\n",
       "                                              NOMBRE  latitude longitude  \\\n",
       "0  Area AC Hort de Soriano (Carcaixent)  (Gratuit...  39.06956   -0.4098   \n",
       "1  Area de ac playa de BarraÃ±a (Boiro)  (Gratuit...  42.64159  -8.89696   \n",
       "\n",
       "  price water   wc grey_water  \n",
       "0  Free   yes  yes        yes  \n",
       "1  Free   yes  yes    unknown  "
      ]
     },
     "execution_count": 53,
     "metadata": {},
     "output_type": "execute_result"
    }
   ],
   "source": [
    "df.head(2)"
   ]
  },
  {
   "cell_type": "code",
   "execution_count": 54,
   "metadata": {},
   "outputs": [
    {
     "data": {
      "text/plain": [
       "yes        629\n",
       "unknown    278\n",
       "no           6\n",
       "Name: grey_water, dtype: int64"
      ]
     },
     "execution_count": 54,
     "metadata": {},
     "output_type": "execute_result"
    }
   ],
   "source": [
    "df.grey_water.value_counts()"
   ]
  },
  {
   "cell_type": "code",
   "execution_count": 55,
   "metadata": {},
   "outputs": [],
   "source": [
    "# Después de extraer la información, elimino la columna WKT\n",
    "df.drop(columns=[\"WKT\", \"NOMBRE\"], axis=1, inplace= True)"
   ]
  },
  {
   "attachments": {},
   "cell_type": "markdown",
   "metadata": {},
   "source": [
    "### API PARA EXTRAER LA LOCALIDAD, PROVINCIA Y PAIS\n",
    "--- "
   ]
  },
  {
   "cell_type": "code",
   "execution_count": 56,
   "metadata": {},
   "outputs": [],
   "source": [
    "def localidad(lat, lon):\n",
    "    \n",
    "    # hacemos la llamada  a la API\n",
    "    url = f'https://nominatim.openstreetmap.org/reverse?format=jsonv2&lat={lat}&lon={lon}'\n",
    "\n",
    "    response = requests.get(url=url)\n",
    "    codigo_estado = response.status_code\n",
    "    razon_estado = response.reason\n",
    "   \n",
    "    respuesta = response.json()\n",
    "    direccion = respuesta[\"address\"]\n",
    "    lista = direccion.keys()\n",
    "    \n",
    "    # Dependiendo del país y del tamaño, vienen con diferente denominación\n",
    "    if \"town\" in lista:        \n",
    "        return direccion[\"town\"]\n",
    "    elif \"city\" in lista:\n",
    "        return direccion[\"city\"]\n",
    "    elif \"village\" in lista:\n",
    "        return direccion[\"village\"]\n",
    "    elif \"municipality\" in lista:\n",
    "        return direccion[\"municipality\"]\n",
    "    else:\n",
    "        return \"unknown\""
   ]
  },
  {
   "cell_type": "code",
   "execution_count": 58,
   "metadata": {},
   "outputs": [],
   "source": [
    "df[\"town\"] = df.apply(lambda ciudad: localidad(ciudad[\"latitude\"], ciudad[\"longitude\"]), axis= 1)"
   ]
  },
  {
   "cell_type": "code",
   "execution_count": 59,
   "metadata": {},
   "outputs": [
    {
     "data": {
      "text/html": [
       "<div>\n",
       "<style scoped>\n",
       "    .dataframe tbody tr th:only-of-type {\n",
       "        vertical-align: middle;\n",
       "    }\n",
       "\n",
       "    .dataframe tbody tr th {\n",
       "        vertical-align: top;\n",
       "    }\n",
       "\n",
       "    .dataframe thead th {\n",
       "        text-align: right;\n",
       "    }\n",
       "</style>\n",
       "<table border=\"1\" class=\"dataframe\">\n",
       "  <thead>\n",
       "    <tr style=\"text-align: right;\">\n",
       "      <th></th>\n",
       "      <th>latitude</th>\n",
       "      <th>longitude</th>\n",
       "      <th>price</th>\n",
       "      <th>water</th>\n",
       "      <th>wc</th>\n",
       "      <th>grey_water</th>\n",
       "      <th>town</th>\n",
       "    </tr>\n",
       "  </thead>\n",
       "  <tbody>\n",
       "    <tr>\n",
       "      <th>0</th>\n",
       "      <td>39.06956</td>\n",
       "      <td>-0.4098</td>\n",
       "      <td>Free</td>\n",
       "      <td>yes</td>\n",
       "      <td>yes</td>\n",
       "      <td>yes</td>\n",
       "      <td>Carcaixent</td>\n",
       "    </tr>\n",
       "    <tr>\n",
       "      <th>1</th>\n",
       "      <td>42.64159</td>\n",
       "      <td>-8.89696</td>\n",
       "      <td>Free</td>\n",
       "      <td>yes</td>\n",
       "      <td>yes</td>\n",
       "      <td>unknown</td>\n",
       "      <td>Boiro</td>\n",
       "    </tr>\n",
       "    <tr>\n",
       "      <th>2</th>\n",
       "      <td>42.90715</td>\n",
       "      <td>0.35921</td>\n",
       "      <td>Paying</td>\n",
       "      <td>yes</td>\n",
       "      <td>no</td>\n",
       "      <td>yes</td>\n",
       "      <td>Arreau</td>\n",
       "    </tr>\n",
       "    <tr>\n",
       "      <th>3</th>\n",
       "      <td>38.39479</td>\n",
       "      <td>-0.41007</td>\n",
       "      <td>Paying</td>\n",
       "      <td>yes</td>\n",
       "      <td>yes</td>\n",
       "      <td>unknown</td>\n",
       "      <td>el Campello</td>\n",
       "    </tr>\n",
       "    <tr>\n",
       "      <th>4</th>\n",
       "      <td>43.37179</td>\n",
       "      <td>-8.44443</td>\n",
       "      <td>Free</td>\n",
       "      <td>yes</td>\n",
       "      <td>yes</td>\n",
       "      <td>unknown</td>\n",
       "      <td>A Coruña</td>\n",
       "    </tr>\n",
       "  </tbody>\n",
       "</table>\n",
       "</div>"
      ],
      "text/plain": [
       "   latitude longitude   price water   wc grey_water         town\n",
       "0  39.06956   -0.4098    Free   yes  yes        yes   Carcaixent\n",
       "1  42.64159  -8.89696    Free   yes  yes    unknown        Boiro\n",
       "2  42.90715   0.35921  Paying   yes   no        yes       Arreau\n",
       "3  38.39479  -0.41007  Paying   yes  yes    unknown  el Campello\n",
       "4  43.37179  -8.44443    Free   yes  yes    unknown     A Coruña"
      ]
     },
     "execution_count": 59,
     "metadata": {},
     "output_type": "execute_result"
    }
   ],
   "source": [
    "df.head()"
   ]
  },
  {
   "cell_type": "code",
   "execution_count": 60,
   "metadata": {},
   "outputs": [
    {
     "data": {
      "text/plain": [
       "Encamp                  3\n",
       "Thann                   2\n",
       "Campan                  2\n",
       "Roma                    2\n",
       "Ljubljana               2\n",
       "                       ..\n",
       "Jumièges                1\n",
       "Kalmar                  1\n",
       "Karlskrona              1\n",
       "Kaysersberg-Vignoble    1\n",
       "Cúllar                  1\n",
       "Name: town, Length: 887, dtype: int64"
      ]
     },
     "execution_count": 60,
     "metadata": {},
     "output_type": "execute_result"
    }
   ],
   "source": [
    "df[\"town\"].value_counts()"
   ]
  },
  {
   "cell_type": "code",
   "execution_count": 61,
   "metadata": {},
   "outputs": [],
   "source": [
    "def region(lat, lon):\n",
    "    \n",
    "    # hacemos la llamada  a la API\n",
    "    url = f'https://nominatim.openstreetmap.org/reverse?format=jsonv2&lat={lat}&lon={lon}'\n",
    "\n",
    "    response = requests.get(url=url)\n",
    "    codigo_estado = response.status_code\n",
    "    razon_estado = response.reason\n",
    "   \n",
    "    respuesta = response.json()\n",
    "    direccion = respuesta[\"address\"]\n",
    "    lista = direccion.keys()\n",
    "    \n",
    "    if \"state\" in lista:\n",
    "        return direccion[\"state\"]\n",
    "    elif \"county\" in lista:\n",
    "        return direccion[\"county\"]\n",
    "    else:\n",
    "        return direccion[\"country\"]"
   ]
  },
  {
   "cell_type": "code",
   "execution_count": 62,
   "metadata": {},
   "outputs": [],
   "source": [
    "df[\"region\"] = df.apply(lambda pepe: region(pepe[\"latitude\"], pepe[\"longitude\"]), axis= 1)"
   ]
  },
  {
   "cell_type": "code",
   "execution_count": 63,
   "metadata": {},
   "outputs": [
    {
     "data": {
      "text/html": [
       "<div>\n",
       "<style scoped>\n",
       "    .dataframe tbody tr th:only-of-type {\n",
       "        vertical-align: middle;\n",
       "    }\n",
       "\n",
       "    .dataframe tbody tr th {\n",
       "        vertical-align: top;\n",
       "    }\n",
       "\n",
       "    .dataframe thead th {\n",
       "        text-align: right;\n",
       "    }\n",
       "</style>\n",
       "<table border=\"1\" class=\"dataframe\">\n",
       "  <thead>\n",
       "    <tr style=\"text-align: right;\">\n",
       "      <th></th>\n",
       "      <th>latitude</th>\n",
       "      <th>longitude</th>\n",
       "      <th>price</th>\n",
       "      <th>water</th>\n",
       "      <th>wc</th>\n",
       "      <th>grey_water</th>\n",
       "      <th>town</th>\n",
       "      <th>region</th>\n",
       "    </tr>\n",
       "  </thead>\n",
       "  <tbody>\n",
       "    <tr>\n",
       "      <th>0</th>\n",
       "      <td>39.06956</td>\n",
       "      <td>-0.4098</td>\n",
       "      <td>Free</td>\n",
       "      <td>yes</td>\n",
       "      <td>yes</td>\n",
       "      <td>yes</td>\n",
       "      <td>Carcaixent</td>\n",
       "      <td>Comunitat Valenciana</td>\n",
       "    </tr>\n",
       "    <tr>\n",
       "      <th>1</th>\n",
       "      <td>42.64159</td>\n",
       "      <td>-8.89696</td>\n",
       "      <td>Free</td>\n",
       "      <td>yes</td>\n",
       "      <td>yes</td>\n",
       "      <td>unknown</td>\n",
       "      <td>Boiro</td>\n",
       "      <td>Galicia</td>\n",
       "    </tr>\n",
       "  </tbody>\n",
       "</table>\n",
       "</div>"
      ],
      "text/plain": [
       "   latitude longitude price water   wc grey_water        town  \\\n",
       "0  39.06956   -0.4098  Free   yes  yes        yes  Carcaixent   \n",
       "1  42.64159  -8.89696  Free   yes  yes    unknown       Boiro   \n",
       "\n",
       "                 region  \n",
       "0  Comunitat Valenciana  \n",
       "1               Galicia  "
      ]
     },
     "execution_count": 63,
     "metadata": {},
     "output_type": "execute_result"
    }
   ],
   "source": [
    "df.head(2)"
   ]
  },
  {
   "cell_type": "code",
   "execution_count": 64,
   "metadata": {},
   "outputs": [
    {
     "data": {
      "text/plain": [
       "Nouvelle-Aquitaine     100\n",
       "Occitanie               66\n",
       "Catalunya               64\n",
       "Galicia                 58\n",
       "Andalucía               38\n",
       "                      ... \n",
       "Puglia                   1\n",
       "Norge                    1\n",
       "England                  1\n",
       "Comunidad de Madrid      1\n",
       "San Marino               1\n",
       "Name: region, Length: 111, dtype: int64"
      ]
     },
     "execution_count": 64,
     "metadata": {},
     "output_type": "execute_result"
    }
   ],
   "source": [
    "df[\"region\"].value_counts()"
   ]
  },
  {
   "cell_type": "code",
   "execution_count": 65,
   "metadata": {},
   "outputs": [],
   "source": [
    "def pais(lat, lon):\n",
    "    \n",
    "    # hacemos la llamada  a la API\n",
    "    url = f'https://nominatim.openstreetmap.org/reverse?format=jsonv2&lat={lat}&lon={lon}'\n",
    "\n",
    "    response = requests.get(url=url)\n",
    "    codigo_estado = response.status_code\n",
    "    razon_estado = response.reason\n",
    "   \n",
    "    respuesta = response.json()\n",
    "    direccion = respuesta[\"address\"]\n",
    "    lista = direccion.keys()\n",
    "    \n",
    "    return direccion[\"country\"]"
   ]
  },
  {
   "cell_type": "code",
   "execution_count": 66,
   "metadata": {},
   "outputs": [],
   "source": [
    "df[\"country\"] = df.apply(lambda pepe: pais(pepe[\"latitude\"], pepe[\"longitude\"]), axis= 1)"
   ]
  },
  {
   "cell_type": "code",
   "execution_count": 67,
   "metadata": {},
   "outputs": [
    {
     "data": {
      "text/html": [
       "<div>\n",
       "<style scoped>\n",
       "    .dataframe tbody tr th:only-of-type {\n",
       "        vertical-align: middle;\n",
       "    }\n",
       "\n",
       "    .dataframe tbody tr th {\n",
       "        vertical-align: top;\n",
       "    }\n",
       "\n",
       "    .dataframe thead th {\n",
       "        text-align: right;\n",
       "    }\n",
       "</style>\n",
       "<table border=\"1\" class=\"dataframe\">\n",
       "  <thead>\n",
       "    <tr style=\"text-align: right;\">\n",
       "      <th></th>\n",
       "      <th>latitude</th>\n",
       "      <th>longitude</th>\n",
       "      <th>price</th>\n",
       "      <th>water</th>\n",
       "      <th>wc</th>\n",
       "      <th>grey_water</th>\n",
       "      <th>town</th>\n",
       "      <th>region</th>\n",
       "      <th>country</th>\n",
       "    </tr>\n",
       "  </thead>\n",
       "  <tbody>\n",
       "    <tr>\n",
       "      <th>0</th>\n",
       "      <td>39.06956</td>\n",
       "      <td>-0.4098</td>\n",
       "      <td>Free</td>\n",
       "      <td>yes</td>\n",
       "      <td>yes</td>\n",
       "      <td>yes</td>\n",
       "      <td>Carcaixent</td>\n",
       "      <td>Comunitat Valenciana</td>\n",
       "      <td>España</td>\n",
       "    </tr>\n",
       "    <tr>\n",
       "      <th>1</th>\n",
       "      <td>42.64159</td>\n",
       "      <td>-8.89696</td>\n",
       "      <td>Free</td>\n",
       "      <td>yes</td>\n",
       "      <td>yes</td>\n",
       "      <td>unknown</td>\n",
       "      <td>Boiro</td>\n",
       "      <td>Galicia</td>\n",
       "      <td>España</td>\n",
       "    </tr>\n",
       "  </tbody>\n",
       "</table>\n",
       "</div>"
      ],
      "text/plain": [
       "   latitude longitude price water   wc grey_water        town  \\\n",
       "0  39.06956   -0.4098  Free   yes  yes        yes  Carcaixent   \n",
       "1  42.64159  -8.89696  Free   yes  yes    unknown       Boiro   \n",
       "\n",
       "                 region country  \n",
       "0  Comunitat Valenciana  España  \n",
       "1               Galicia  España  "
      ]
     },
     "execution_count": 67,
     "metadata": {},
     "output_type": "execute_result"
    }
   ],
   "source": [
    "df.head(2)"
   ]
  },
  {
   "cell_type": "code",
   "execution_count": 68,
   "metadata": {},
   "outputs": [
    {
     "data": {
      "text/plain": [
       "España                            347\n",
       "France                            343\n",
       "Deutschland                        62\n",
       "Italia                             59\n",
       "Portugal                           37\n",
       "Slovenija                          12\n",
       "Norge                              10\n",
       "Sverige                             8\n",
       "Andorra                             6\n",
       "Nederland                           5\n",
       "Danmark                             5\n",
       "België / Belgique / Belgien         5\n",
       "Schweiz/Suisse/Svizzera/Svizra      2\n",
       "Österreich                          2\n",
       "United Kingdom                      2\n",
       "Hrvatska                            2\n",
       "Australia                           1\n",
       "Suomi / Finland                     1\n",
       "Lëtzebuerg                          1\n",
       "Polska                              1\n",
       "Slovensko                           1\n",
       "San Marino                          1\n",
       "Name: country, dtype: int64"
      ]
     },
     "execution_count": 68,
     "metadata": {},
     "output_type": "execute_result"
    }
   ],
   "source": [
    "df[\"country\"].value_counts()"
   ]
  },
  {
   "cell_type": "code",
   "execution_count": 69,
   "metadata": {},
   "outputs": [
    {
     "data": {
      "text/html": [
       "<div>\n",
       "<style scoped>\n",
       "    .dataframe tbody tr th:only-of-type {\n",
       "        vertical-align: middle;\n",
       "    }\n",
       "\n",
       "    .dataframe tbody tr th {\n",
       "        vertical-align: top;\n",
       "    }\n",
       "\n",
       "    .dataframe thead th {\n",
       "        text-align: right;\n",
       "    }\n",
       "</style>\n",
       "<table border=\"1\" class=\"dataframe\">\n",
       "  <thead>\n",
       "    <tr style=\"text-align: right;\">\n",
       "      <th></th>\n",
       "      <th>latitude</th>\n",
       "      <th>longitude</th>\n",
       "      <th>price</th>\n",
       "      <th>water</th>\n",
       "      <th>wc</th>\n",
       "      <th>grey_water</th>\n",
       "      <th>town</th>\n",
       "      <th>region</th>\n",
       "      <th>country</th>\n",
       "    </tr>\n",
       "  </thead>\n",
       "  <tbody>\n",
       "    <tr>\n",
       "      <th>0</th>\n",
       "      <td>39.06956</td>\n",
       "      <td>-0.4098</td>\n",
       "      <td>Free</td>\n",
       "      <td>yes</td>\n",
       "      <td>yes</td>\n",
       "      <td>yes</td>\n",
       "      <td>Carcaixent</td>\n",
       "      <td>Comunitat Valenciana</td>\n",
       "      <td>España</td>\n",
       "    </tr>\n",
       "    <tr>\n",
       "      <th>1</th>\n",
       "      <td>42.64159</td>\n",
       "      <td>-8.89696</td>\n",
       "      <td>Free</td>\n",
       "      <td>yes</td>\n",
       "      <td>yes</td>\n",
       "      <td>unknown</td>\n",
       "      <td>Boiro</td>\n",
       "      <td>Galicia</td>\n",
       "      <td>España</td>\n",
       "    </tr>\n",
       "  </tbody>\n",
       "</table>\n",
       "</div>"
      ],
      "text/plain": [
       "   latitude longitude price water   wc grey_water        town  \\\n",
       "0  39.06956   -0.4098  Free   yes  yes        yes  Carcaixent   \n",
       "1  42.64159  -8.89696  Free   yes  yes    unknown       Boiro   \n",
       "\n",
       "                 region country  \n",
       "0  Comunitat Valenciana  España  \n",
       "1               Galicia  España  "
      ]
     },
     "execution_count": 69,
     "metadata": {},
     "output_type": "execute_result"
    }
   ],
   "source": [
    "df.head(2)"
   ]
  },
  {
   "cell_type": "code",
   "execution_count": 70,
   "metadata": {},
   "outputs": [
    {
     "data": {
      "text/html": [
       "<div>\n",
       "<style scoped>\n",
       "    .dataframe tbody tr th:only-of-type {\n",
       "        vertical-align: middle;\n",
       "    }\n",
       "\n",
       "    .dataframe tbody tr th {\n",
       "        vertical-align: top;\n",
       "    }\n",
       "\n",
       "    .dataframe thead th {\n",
       "        text-align: right;\n",
       "    }\n",
       "</style>\n",
       "<table border=\"1\" class=\"dataframe\">\n",
       "  <thead>\n",
       "    <tr style=\"text-align: right;\">\n",
       "      <th></th>\n",
       "      <th>latitude</th>\n",
       "      <th>longitude</th>\n",
       "      <th>town</th>\n",
       "      <th>region</th>\n",
       "      <th>country</th>\n",
       "      <th>price</th>\n",
       "      <th>water</th>\n",
       "      <th>wc</th>\n",
       "      <th>grey_water</th>\n",
       "    </tr>\n",
       "  </thead>\n",
       "  <tbody>\n",
       "    <tr>\n",
       "      <th>0</th>\n",
       "      <td>39.06956</td>\n",
       "      <td>-0.4098</td>\n",
       "      <td>Carcaixent</td>\n",
       "      <td>Comunitat Valenciana</td>\n",
       "      <td>España</td>\n",
       "      <td>Free</td>\n",
       "      <td>yes</td>\n",
       "      <td>yes</td>\n",
       "      <td>yes</td>\n",
       "    </tr>\n",
       "    <tr>\n",
       "      <th>1</th>\n",
       "      <td>42.64159</td>\n",
       "      <td>-8.89696</td>\n",
       "      <td>Boiro</td>\n",
       "      <td>Galicia</td>\n",
       "      <td>España</td>\n",
       "      <td>Free</td>\n",
       "      <td>yes</td>\n",
       "      <td>yes</td>\n",
       "      <td>unknown</td>\n",
       "    </tr>\n",
       "  </tbody>\n",
       "</table>\n",
       "</div>"
      ],
      "text/plain": [
       "   latitude longitude        town                region country price water  \\\n",
       "0  39.06956   -0.4098  Carcaixent  Comunitat Valenciana  España  Free   yes   \n",
       "1  42.64159  -8.89696       Boiro               Galicia  España  Free   yes   \n",
       "\n",
       "    wc grey_water  \n",
       "0  yes        yes  \n",
       "1  yes    unknown  "
      ]
     },
     "execution_count": 70,
     "metadata": {},
     "output_type": "execute_result"
    }
   ],
   "source": [
    "df = df.reindex(columns=[\"latitude\", \"longitude\", \"town\", \"region\", \"country\", \"price\", \"water\", \"wc\", \"grey_water\"])\n",
    "df.head(2)"
   ]
  },
  {
   "cell_type": "code",
   "execution_count": 71,
   "metadata": {},
   "outputs": [],
   "source": [
    "df.to_csv(\"ficheros/areas_limpio.csv\")"
   ]
  }
 ],
 "metadata": {
  "kernelspec": {
   "display_name": "base",
   "language": "python",
   "name": "python3"
  },
  "language_info": {
   "codemirror_mode": {
    "name": "ipython",
    "version": 3
   },
   "file_extension": ".py",
   "mimetype": "text/x-python",
   "name": "python",
   "nbconvert_exporter": "python",
   "pygments_lexer": "ipython3",
   "version": "3.9.7"
  },
  "orig_nbformat": 4,
  "vscode": {
   "interpreter": {
    "hash": "f25093244bacc7e62393c275f4a06a2027bcbdb9a67d7fe53680dbd2484adc03"
   }
  }
 },
 "nbformat": 4,
 "nbformat_minor": 2
}
