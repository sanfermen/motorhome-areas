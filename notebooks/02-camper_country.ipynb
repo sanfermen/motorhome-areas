{
 "cells": [
  {
   "attachments": {},
   "cell_type": "markdown",
   "metadata": {},
   "source": [
    "### Libraries"
   ]
  },
  {
   "cell_type": "code",
   "execution_count": 1,
   "metadata": {},
   "outputs": [],
   "source": [
    "import pandas as pd\n",
    "import requests\n",
    "import support_country as sc"
   ]
  },
  {
   "attachments": {},
   "cell_type": "markdown",
   "metadata": {},
   "source": [
    "---\n",
    "**Objective**: Extract information from an API that gives address from coordinates\n",
    "---"
   ]
  },
  {
   "cell_type": "code",
   "execution_count": 2,
   "metadata": {},
   "outputs": [
    {
     "data": {
      "text/html": [
       "<div>\n",
       "<style scoped>\n",
       "    .dataframe tbody tr th:only-of-type {\n",
       "        vertical-align: middle;\n",
       "    }\n",
       "\n",
       "    .dataframe tbody tr th {\n",
       "        vertical-align: top;\n",
       "    }\n",
       "\n",
       "    .dataframe thead th {\n",
       "        text-align: right;\n",
       "    }\n",
       "</style>\n",
       "<table border=\"1\" class=\"dataframe\">\n",
       "  <thead>\n",
       "    <tr style=\"text-align: right;\">\n",
       "      <th></th>\n",
       "      <th>latitude</th>\n",
       "      <th>longitude</th>\n",
       "      <th>price</th>\n",
       "      <th>water</th>\n",
       "      <th>wc</th>\n",
       "      <th>grey_water</th>\n",
       "    </tr>\n",
       "  </thead>\n",
       "  <tbody>\n",
       "    <tr>\n",
       "      <th>0</th>\n",
       "      <td>39.06956</td>\n",
       "      <td>-0.40980</td>\n",
       "      <td>Free</td>\n",
       "      <td>yes</td>\n",
       "      <td>yes</td>\n",
       "      <td>yes</td>\n",
       "    </tr>\n",
       "    <tr>\n",
       "      <th>1</th>\n",
       "      <td>42.64159</td>\n",
       "      <td>-8.89696</td>\n",
       "      <td>Free</td>\n",
       "      <td>yes</td>\n",
       "      <td>yes</td>\n",
       "      <td>unknown</td>\n",
       "    </tr>\n",
       "    <tr>\n",
       "      <th>2</th>\n",
       "      <td>42.90715</td>\n",
       "      <td>0.35921</td>\n",
       "      <td>Paying</td>\n",
       "      <td>yes</td>\n",
       "      <td>no</td>\n",
       "      <td>yes</td>\n",
       "    </tr>\n",
       "    <tr>\n",
       "      <th>3</th>\n",
       "      <td>38.39479</td>\n",
       "      <td>-0.41007</td>\n",
       "      <td>Paying</td>\n",
       "      <td>yes</td>\n",
       "      <td>yes</td>\n",
       "      <td>unknown</td>\n",
       "    </tr>\n",
       "    <tr>\n",
       "      <th>4</th>\n",
       "      <td>43.37179</td>\n",
       "      <td>-8.44443</td>\n",
       "      <td>Free</td>\n",
       "      <td>yes</td>\n",
       "      <td>yes</td>\n",
       "      <td>unknown</td>\n",
       "    </tr>\n",
       "  </tbody>\n",
       "</table>\n",
       "</div>"
      ],
      "text/plain": [
       "   latitude  longitude   price water   wc grey_water\n",
       "0  39.06956   -0.40980    Free   yes  yes        yes\n",
       "1  42.64159   -8.89696    Free   yes  yes    unknown\n",
       "2  42.90715    0.35921  Paying   yes   no        yes\n",
       "3  38.39479   -0.41007  Paying   yes  yes    unknown\n",
       "4  43.37179   -8.44443    Free   yes  yes    unknown"
      ]
     },
     "execution_count": 2,
     "metadata": {},
     "output_type": "execute_result"
    }
   ],
   "source": [
    "# Open the csv created in the 01-camper_area notebook\n",
    "df = pd.read_csv(\"../files/02-areas_clean.csv\", index_col=0)\n",
    "df.head()"
   ]
  },
  {
   "attachments": {},
   "cell_type": "markdown",
   "metadata": {},
   "source": [
    "Create columns for \"town\", \"region\" and \"country\" calling the functions in support_country.py"
   ]
  },
  {
   "cell_type": "code",
   "execution_count": 3,
   "metadata": {},
   "outputs": [],
   "source": [
    "\n",
    "df[\"town\"] = df.apply(lambda city: sc.location(city[\"latitude\"], city[\"longitude\"]), axis= 1)"
   ]
  },
  {
   "cell_type": "code",
   "execution_count": 4,
   "metadata": {},
   "outputs": [],
   "source": [
    "df[\"region\"] = df.apply(lambda county: sc.region(county[\"latitude\"], county[\"longitude\"]), axis= 1)"
   ]
  },
  {
   "cell_type": "code",
   "execution_count": 6,
   "metadata": {},
   "outputs": [],
   "source": [
    "df[\"country\"] = df.apply(lambda pais: sc.country(pais[\"latitude\"], pais[\"longitude\"]), axis= 1)"
   ]
  },
  {
   "cell_type": "code",
   "execution_count": 7,
   "metadata": {},
   "outputs": [
    {
     "data": {
      "text/html": [
       "<div>\n",
       "<style scoped>\n",
       "    .dataframe tbody tr th:only-of-type {\n",
       "        vertical-align: middle;\n",
       "    }\n",
       "\n",
       "    .dataframe tbody tr th {\n",
       "        vertical-align: top;\n",
       "    }\n",
       "\n",
       "    .dataframe thead th {\n",
       "        text-align: right;\n",
       "    }\n",
       "</style>\n",
       "<table border=\"1\" class=\"dataframe\">\n",
       "  <thead>\n",
       "    <tr style=\"text-align: right;\">\n",
       "      <th></th>\n",
       "      <th>latitude</th>\n",
       "      <th>longitude</th>\n",
       "      <th>price</th>\n",
       "      <th>water</th>\n",
       "      <th>wc</th>\n",
       "      <th>grey_water</th>\n",
       "      <th>town</th>\n",
       "      <th>region</th>\n",
       "      <th>country</th>\n",
       "    </tr>\n",
       "  </thead>\n",
       "  <tbody>\n",
       "    <tr>\n",
       "      <th>0</th>\n",
       "      <td>39.06956</td>\n",
       "      <td>-0.40980</td>\n",
       "      <td>Free</td>\n",
       "      <td>yes</td>\n",
       "      <td>yes</td>\n",
       "      <td>yes</td>\n",
       "      <td>Carcaixent</td>\n",
       "      <td>Comunitat Valenciana</td>\n",
       "      <td>España</td>\n",
       "    </tr>\n",
       "    <tr>\n",
       "      <th>1</th>\n",
       "      <td>42.64159</td>\n",
       "      <td>-8.89696</td>\n",
       "      <td>Free</td>\n",
       "      <td>yes</td>\n",
       "      <td>yes</td>\n",
       "      <td>unknown</td>\n",
       "      <td>Boiro</td>\n",
       "      <td>Galicia</td>\n",
       "      <td>España</td>\n",
       "    </tr>\n",
       "    <tr>\n",
       "      <th>2</th>\n",
       "      <td>42.90715</td>\n",
       "      <td>0.35921</td>\n",
       "      <td>Paying</td>\n",
       "      <td>yes</td>\n",
       "      <td>no</td>\n",
       "      <td>yes</td>\n",
       "      <td>Arreau</td>\n",
       "      <td>Occitanie</td>\n",
       "      <td>France</td>\n",
       "    </tr>\n",
       "    <tr>\n",
       "      <th>3</th>\n",
       "      <td>38.39479</td>\n",
       "      <td>-0.41007</td>\n",
       "      <td>Paying</td>\n",
       "      <td>yes</td>\n",
       "      <td>yes</td>\n",
       "      <td>unknown</td>\n",
       "      <td>el Campello</td>\n",
       "      <td>Comunitat Valenciana</td>\n",
       "      <td>España</td>\n",
       "    </tr>\n",
       "    <tr>\n",
       "      <th>4</th>\n",
       "      <td>43.37179</td>\n",
       "      <td>-8.44443</td>\n",
       "      <td>Free</td>\n",
       "      <td>yes</td>\n",
       "      <td>yes</td>\n",
       "      <td>unknown</td>\n",
       "      <td>A Coruña</td>\n",
       "      <td>Galicia</td>\n",
       "      <td>España</td>\n",
       "    </tr>\n",
       "  </tbody>\n",
       "</table>\n",
       "</div>"
      ],
      "text/plain": [
       "   latitude  longitude   price water   wc grey_water         town  \\\n",
       "0  39.06956   -0.40980    Free   yes  yes        yes   Carcaixent   \n",
       "1  42.64159   -8.89696    Free   yes  yes    unknown        Boiro   \n",
       "2  42.90715    0.35921  Paying   yes   no        yes       Arreau   \n",
       "3  38.39479   -0.41007  Paying   yes  yes    unknown  el Campello   \n",
       "4  43.37179   -8.44443    Free   yes  yes    unknown     A Coruña   \n",
       "\n",
       "                 region country  \n",
       "0  Comunitat Valenciana  España  \n",
       "1               Galicia  España  \n",
       "2             Occitanie  France  \n",
       "3  Comunitat Valenciana  España  \n",
       "4               Galicia  España  "
      ]
     },
     "execution_count": 7,
     "metadata": {},
     "output_type": "execute_result"
    }
   ],
   "source": [
    "df.head()"
   ]
  },
  {
   "cell_type": "code",
   "execution_count": 8,
   "metadata": {},
   "outputs": [
    {
     "data": {
      "text/html": [
       "<div>\n",
       "<style scoped>\n",
       "    .dataframe tbody tr th:only-of-type {\n",
       "        vertical-align: middle;\n",
       "    }\n",
       "\n",
       "    .dataframe tbody tr th {\n",
       "        vertical-align: top;\n",
       "    }\n",
       "\n",
       "    .dataframe thead th {\n",
       "        text-align: right;\n",
       "    }\n",
       "</style>\n",
       "<table border=\"1\" class=\"dataframe\">\n",
       "  <thead>\n",
       "    <tr style=\"text-align: right;\">\n",
       "      <th></th>\n",
       "      <th>latitude</th>\n",
       "      <th>longitude</th>\n",
       "      <th>town</th>\n",
       "      <th>region</th>\n",
       "      <th>country</th>\n",
       "      <th>price</th>\n",
       "      <th>water</th>\n",
       "      <th>wc</th>\n",
       "      <th>grey_water</th>\n",
       "    </tr>\n",
       "  </thead>\n",
       "  <tbody>\n",
       "    <tr>\n",
       "      <th>0</th>\n",
       "      <td>39.06956</td>\n",
       "      <td>-0.40980</td>\n",
       "      <td>Carcaixent</td>\n",
       "      <td>Comunitat Valenciana</td>\n",
       "      <td>España</td>\n",
       "      <td>Free</td>\n",
       "      <td>yes</td>\n",
       "      <td>yes</td>\n",
       "      <td>yes</td>\n",
       "    </tr>\n",
       "    <tr>\n",
       "      <th>1</th>\n",
       "      <td>42.64159</td>\n",
       "      <td>-8.89696</td>\n",
       "      <td>Boiro</td>\n",
       "      <td>Galicia</td>\n",
       "      <td>España</td>\n",
       "      <td>Free</td>\n",
       "      <td>yes</td>\n",
       "      <td>yes</td>\n",
       "      <td>unknown</td>\n",
       "    </tr>\n",
       "  </tbody>\n",
       "</table>\n",
       "</div>"
      ],
      "text/plain": [
       "   latitude  longitude        town                region country price water  \\\n",
       "0  39.06956   -0.40980  Carcaixent  Comunitat Valenciana  España  Free   yes   \n",
       "1  42.64159   -8.89696       Boiro               Galicia  España  Free   yes   \n",
       "\n",
       "    wc grey_water  \n",
       "0  yes        yes  \n",
       "1  yes    unknown  "
      ]
     },
     "execution_count": 8,
     "metadata": {},
     "output_type": "execute_result"
    }
   ],
   "source": [
    "# Reorder columns\n",
    "df = df.reindex(columns=[\"latitude\", \"longitude\", \"town\", \"region\", \"country\", \"price\", \"water\", \"wc\", \"grey_water\"])\n",
    "df.head(2)"
   ]
  },
  {
   "cell_type": "code",
   "execution_count": 9,
   "metadata": {},
   "outputs": [
    {
     "data": {
      "text/plain": [
       "latitude      0\n",
       "longitude     0\n",
       "town          0\n",
       "region        0\n",
       "country       0\n",
       "price         0\n",
       "water         0\n",
       "wc            0\n",
       "grey_water    0\n",
       "dtype: int64"
      ]
     },
     "execution_count": 9,
     "metadata": {},
     "output_type": "execute_result"
    }
   ],
   "source": [
    "df.isnull().sum()"
   ]
  },
  {
   "cell_type": "code",
   "execution_count": 10,
   "metadata": {},
   "outputs": [],
   "source": [
    "# Save the dataframe in a new file\n",
    "df.to_csv(\"../files/03-areas_country.csv\")"
   ]
  }
 ],
 "metadata": {
  "kernelspec": {
   "display_name": "base",
   "language": "python",
   "name": "python3"
  },
  "language_info": {
   "codemirror_mode": {
    "name": "ipython",
    "version": 3
   },
   "file_extension": ".py",
   "mimetype": "text/x-python",
   "name": "python",
   "nbconvert_exporter": "python",
   "pygments_lexer": "ipython3",
   "version": "3.9.7"
  },
  "orig_nbformat": 4,
  "vscode": {
   "interpreter": {
    "hash": "f25093244bacc7e62393c275f4a06a2027bcbdb9a67d7fe53680dbd2484adc03"
   }
  }
 },
 "nbformat": 4,
 "nbformat_minor": 2
}
