{
 "cells": [
  {
   "cell_type": "code",
   "execution_count": 1,
   "metadata": {},
   "outputs": [
    {
     "data": {
      "text/plain": [
       "True"
      ]
     },
     "execution_count": 1,
     "metadata": {},
     "output_type": "execute_result"
    }
   ],
   "source": [
    "import requests\n",
    "import pandas as pd\n",
    "import time\n",
    "\n",
    "import os\n",
    "from dotenv import load_dotenv\n",
    "load_dotenv()"
   ]
  },
  {
   "attachments": {},
   "cell_type": "markdown",
   "metadata": {},
   "source": [
    "### Using the Foursquare API"
   ]
  },
  {
   "cell_type": "code",
   "execution_count": 2,
   "metadata": {},
   "outputs": [],
   "source": [
    "api_key = os.getenv(\"Foursquare_key\")"
   ]
  },
  {
   "cell_type": "code",
   "execution_count": 3,
   "metadata": {},
   "outputs": [
    {
     "data": {
      "text/html": [
       "<div>\n",
       "<style scoped>\n",
       "    .dataframe tbody tr th:only-of-type {\n",
       "        vertical-align: middle;\n",
       "    }\n",
       "\n",
       "    .dataframe tbody tr th {\n",
       "        vertical-align: top;\n",
       "    }\n",
       "\n",
       "    .dataframe thead th {\n",
       "        text-align: right;\n",
       "    }\n",
       "</style>\n",
       "<table border=\"1\" class=\"dataframe\">\n",
       "  <thead>\n",
       "    <tr style=\"text-align: right;\">\n",
       "      <th></th>\n",
       "      <th>latitude</th>\n",
       "      <th>longitude</th>\n",
       "      <th>town</th>\n",
       "      <th>region</th>\n",
       "      <th>country</th>\n",
       "      <th>price</th>\n",
       "      <th>water</th>\n",
       "      <th>wc</th>\n",
       "      <th>grey_water</th>\n",
       "    </tr>\n",
       "  </thead>\n",
       "  <tbody>\n",
       "    <tr>\n",
       "      <th>0</th>\n",
       "      <td>39.06956</td>\n",
       "      <td>-0.40980</td>\n",
       "      <td>Carcaixent</td>\n",
       "      <td>Comunitat Valenciana</td>\n",
       "      <td>España</td>\n",
       "      <td>Free</td>\n",
       "      <td>yes</td>\n",
       "      <td>yes</td>\n",
       "      <td>yes</td>\n",
       "    </tr>\n",
       "    <tr>\n",
       "      <th>1</th>\n",
       "      <td>42.64159</td>\n",
       "      <td>-8.89696</td>\n",
       "      <td>Boiro</td>\n",
       "      <td>Galicia</td>\n",
       "      <td>España</td>\n",
       "      <td>Free</td>\n",
       "      <td>yes</td>\n",
       "      <td>yes</td>\n",
       "      <td>unknown</td>\n",
       "    </tr>\n",
       "  </tbody>\n",
       "</table>\n",
       "</div>"
      ],
      "text/plain": [
       "   latitude  longitude        town                region country price water  \\\n",
       "0  39.06956   -0.40980  Carcaixent  Comunitat Valenciana  España  Free   yes   \n",
       "1  42.64159   -8.89696       Boiro               Galicia  España  Free   yes   \n",
       "\n",
       "    wc grey_water  \n",
       "0  yes        yes  \n",
       "1  yes    unknown  "
      ]
     },
     "execution_count": 3,
     "metadata": {},
     "output_type": "execute_result"
    }
   ],
   "source": [
    "# Open the areas csv\n",
    "df = pd.read_csv(\"../files/03-areas_country.csv\", index_col= 0)\n",
    "df.head(2)"
   ]
  },
  {
   "cell_type": "code",
   "execution_count": 22,
   "metadata": {},
   "outputs": [],
   "source": [
    "def foursq(coord):\n",
    "    # Call the API to show supermarkets near an area\n",
    "    url = \"https://api.foursquare.com/v3/places/search\"\n",
    "\n",
    "    params = {\"query\": \"supermarket\",\n",
    "  \t        \"ll\": coord,\n",
    "            \"radius\": 10000,\n",
    "  \t        \"sort\":\"DISTANCE\"}\n",
    "\n",
    "    headers = {\"Accept\": \"application/json\",\n",
    "            \"Authorization\": api_key}\n",
    "\n",
    "    response = requests.request(\"GET\", url, params=params, headers=headers)\n",
    "    dict = response.json()\n",
    "    dic2 = dict[\"results\"]\n",
    "    num = len(dict[\"results\"])\n",
    "\n",
    "    if num > 0:\n",
    "        supermarket = {\"name\":[],\n",
    "                        \"direction\": [],\n",
    "                        \"town\": [],\n",
    "                        \"region\": []}\n",
    "        \n",
    "        for sup in range(len(dic2)):\n",
    "                supermarket[\"name\"].append(dic2[sup][\"name\"])\n",
    "                supermarket[\"direction\"].append(dic2[sup][\"location\"][\"address\"])\n",
    "                supermarket[\"town\"].append(dic2[sup][\"location\"][\"locality\"])\n",
    "                supermarket[\"region\"].append(dic2[sup][\"location\"][\"region\"])\n",
    "\n",
    "        df_super = pd.DataFrame(supermarket)\n",
    "        return df_super\n",
    "    \n",
    "    else:\n",
    "        return \"Impossible to find\""
   ]
  },
  {
   "cell_type": "code",
   "execution_count": 19,
   "metadata": {},
   "outputs": [
    {
     "data": {
      "text/html": [
       "<div>\n",
       "<style scoped>\n",
       "    .dataframe tbody tr th:only-of-type {\n",
       "        vertical-align: middle;\n",
       "    }\n",
       "\n",
       "    .dataframe tbody tr th {\n",
       "        vertical-align: top;\n",
       "    }\n",
       "\n",
       "    .dataframe thead th {\n",
       "        text-align: right;\n",
       "    }\n",
       "</style>\n",
       "<table border=\"1\" class=\"dataframe\">\n",
       "  <thead>\n",
       "    <tr style=\"text-align: right;\">\n",
       "      <th></th>\n",
       "      <th>latitude</th>\n",
       "      <th>longitude</th>\n",
       "      <th>town</th>\n",
       "      <th>region</th>\n",
       "      <th>country</th>\n",
       "      <th>price</th>\n",
       "      <th>water</th>\n",
       "      <th>wc</th>\n",
       "      <th>grey_water</th>\n",
       "    </tr>\n",
       "  </thead>\n",
       "  <tbody>\n",
       "    <tr>\n",
       "      <th>30</th>\n",
       "      <td>44.15179</td>\n",
       "      <td>1.75121</td>\n",
       "      <td>Saint-Antonin-Noble-Val</td>\n",
       "      <td>Occitanie</td>\n",
       "      <td>France</td>\n",
       "      <td>Free</td>\n",
       "      <td>yes</td>\n",
       "      <td>no</td>\n",
       "      <td>unknown</td>\n",
       "    </tr>\n",
       "    <tr>\n",
       "      <th>449</th>\n",
       "      <td>41.56393</td>\n",
       "      <td>9.33596</td>\n",
       "      <td>Porto-Vecchio</td>\n",
       "      <td>Corse</td>\n",
       "      <td>France</td>\n",
       "      <td>Paying</td>\n",
       "      <td>yes</td>\n",
       "      <td>no</td>\n",
       "      <td>unknown</td>\n",
       "    </tr>\n",
       "    <tr>\n",
       "      <th>349</th>\n",
       "      <td>43.21760</td>\n",
       "      <td>-3.43927</td>\n",
       "      <td>Lanestosa</td>\n",
       "      <td>Euskadi</td>\n",
       "      <td>España</td>\n",
       "      <td>Paying</td>\n",
       "      <td>yes</td>\n",
       "      <td>yes</td>\n",
       "      <td>yes</td>\n",
       "    </tr>\n",
       "    <tr>\n",
       "      <th>804</th>\n",
       "      <td>52.48906</td>\n",
       "      <td>5.06037</td>\n",
       "      <td>Volendam</td>\n",
       "      <td>Noord-Holland</td>\n",
       "      <td>Nederland</td>\n",
       "      <td>Paying</td>\n",
       "      <td>yes</td>\n",
       "      <td>no</td>\n",
       "      <td>yes</td>\n",
       "    </tr>\n",
       "  </tbody>\n",
       "</table>\n",
       "</div>"
      ],
      "text/plain": [
       "     latitude  longitude                     town         region    country  \\\n",
       "30   44.15179    1.75121  Saint-Antonin-Noble-Val      Occitanie     France   \n",
       "449  41.56393    9.33596            Porto-Vecchio          Corse     France   \n",
       "349  43.21760   -3.43927                Lanestosa        Euskadi     España   \n",
       "804  52.48906    5.06037                 Volendam  Noord-Holland  Nederland   \n",
       "\n",
       "      price water   wc grey_water  \n",
       "30     Free   yes   no    unknown  \n",
       "449  Paying   yes   no    unknown  \n",
       "349  Paying   yes  yes        yes  \n",
       "804  Paying   yes   no        yes  "
      ]
     },
     "execution_count": 19,
     "metadata": {},
     "output_type": "execute_result"
    }
   ],
   "source": [
    "df.sample(4)"
   ]
  },
  {
   "cell_type": "code",
   "execution_count": 25,
   "metadata": {},
   "outputs": [],
   "source": [
    "coord1 = \"44.15179,1.75121\"\n",
    "coord2 = \"41.56393,9.33596\"\n",
    "coord3 = \"43.21760,-3.43927\"\n",
    "coord4 = \"52.48906,5.06037\""
   ]
  },
  {
   "cell_type": "code",
   "execution_count": 23,
   "metadata": {},
   "outputs": [
    {
     "data": {
      "text/html": [
       "<div>\n",
       "<style scoped>\n",
       "    .dataframe tbody tr th:only-of-type {\n",
       "        vertical-align: middle;\n",
       "    }\n",
       "\n",
       "    .dataframe tbody tr th {\n",
       "        vertical-align: top;\n",
       "    }\n",
       "\n",
       "    .dataframe thead th {\n",
       "        text-align: right;\n",
       "    }\n",
       "</style>\n",
       "<table border=\"1\" class=\"dataframe\">\n",
       "  <thead>\n",
       "    <tr style=\"text-align: right;\">\n",
       "      <th></th>\n",
       "      <th>name</th>\n",
       "      <th>direction</th>\n",
       "      <th>town</th>\n",
       "      <th>region</th>\n",
       "    </tr>\n",
       "  </thead>\n",
       "  <tbody>\n",
       "    <tr>\n",
       "      <th>0</th>\n",
       "      <td>Carrefour Contact</td>\n",
       "      <td>115 chemin Fontales</td>\n",
       "      <td>Saint Antonin Noble Val</td>\n",
       "      <td>Tarn-et-Garonne</td>\n",
       "    </tr>\n",
       "    <tr>\n",
       "      <th>1</th>\n",
       "      <td>Carrefour Express</td>\n",
       "      <td>Côte de la Rodaneze</td>\n",
       "      <td>Saint Antonin Noble Val</td>\n",
       "      <td>Tarn-et-Garonne</td>\n",
       "    </tr>\n",
       "  </tbody>\n",
       "</table>\n",
       "</div>"
      ],
      "text/plain": [
       "                name            direction                     town  \\\n",
       "0  Carrefour Contact  115 chemin Fontales  Saint Antonin Noble Val   \n",
       "1  Carrefour Express  Côte de la Rodaneze  Saint Antonin Noble Val   \n",
       "\n",
       "            region  \n",
       "0  Tarn-et-Garonne  \n",
       "1  Tarn-et-Garonne  "
      ]
     },
     "execution_count": 23,
     "metadata": {},
     "output_type": "execute_result"
    }
   ],
   "source": [
    "foursq(coord1)"
   ]
  },
  {
   "cell_type": "code",
   "execution_count": 24,
   "metadata": {},
   "outputs": [
    {
     "data": {
      "text/html": [
       "<div>\n",
       "<style scoped>\n",
       "    .dataframe tbody tr th:only-of-type {\n",
       "        vertical-align: middle;\n",
       "    }\n",
       "\n",
       "    .dataframe tbody tr th {\n",
       "        vertical-align: top;\n",
       "    }\n",
       "\n",
       "    .dataframe thead th {\n",
       "        text-align: right;\n",
       "    }\n",
       "</style>\n",
       "<table border=\"1\" class=\"dataframe\">\n",
       "  <thead>\n",
       "    <tr style=\"text-align: right;\">\n",
       "      <th></th>\n",
       "      <th>name</th>\n",
       "      <th>direction</th>\n",
       "      <th>town</th>\n",
       "      <th>region</th>\n",
       "    </tr>\n",
       "  </thead>\n",
       "  <tbody>\n",
       "    <tr>\n",
       "      <th>0</th>\n",
       "      <td>Géant Casino</td>\n",
       "      <td>avenue de Bastia</td>\n",
       "      <td>Porto-Vecchio</td>\n",
       "      <td>Corsica</td>\n",
       "    </tr>\n",
       "    <tr>\n",
       "      <th>1</th>\n",
       "      <td>Super U</td>\n",
       "      <td>17 T 10</td>\n",
       "      <td>Porto-Vecchio</td>\n",
       "      <td>Corsica</td>\n",
       "    </tr>\n",
       "  </tbody>\n",
       "</table>\n",
       "</div>"
      ],
      "text/plain": [
       "           name         direction           town   region\n",
       "0  Géant Casino  avenue de Bastia  Porto-Vecchio  Corsica\n",
       "1       Super U           17 T 10  Porto-Vecchio  Corsica"
      ]
     },
     "execution_count": 24,
     "metadata": {},
     "output_type": "execute_result"
    }
   ],
   "source": [
    "foursq(coord2)"
   ]
  },
  {
   "cell_type": "code",
   "execution_count": 26,
   "metadata": {},
   "outputs": [
    {
     "data": {
      "text/plain": [
       "'Impossible to find'"
      ]
     },
     "execution_count": 26,
     "metadata": {},
     "output_type": "execute_result"
    }
   ],
   "source": [
    "foursq(coord3)"
   ]
  },
  {
   "cell_type": "code",
   "execution_count": 27,
   "metadata": {},
   "outputs": [
    {
     "ename": "KeyError",
     "evalue": "'address'",
     "output_type": "error",
     "traceback": [
      "\u001b[0;31m---------------------------------------------------------------------------\u001b[0m",
      "\u001b[0;31mKeyError\u001b[0m                                  Traceback (most recent call last)",
      "\u001b[0;32m/tmp/ipykernel_664/3984809198.py\u001b[0m in \u001b[0;36m<module>\u001b[0;34m\u001b[0m\n\u001b[0;32m----> 1\u001b[0;31m \u001b[0mfoursq\u001b[0m\u001b[0;34m(\u001b[0m\u001b[0mcoord4\u001b[0m\u001b[0;34m)\u001b[0m\u001b[0;34m\u001b[0m\u001b[0;34m\u001b[0m\u001b[0m\n\u001b[0m",
      "\u001b[0;32m/tmp/ipykernel_664/3276480288.py\u001b[0m in \u001b[0;36mfoursq\u001b[0;34m(coord)\u001b[0m\n\u001b[1;32m     24\u001b[0m         \u001b[0;32mfor\u001b[0m \u001b[0msup\u001b[0m \u001b[0;32min\u001b[0m \u001b[0mrange\u001b[0m\u001b[0;34m(\u001b[0m\u001b[0mlen\u001b[0m\u001b[0;34m(\u001b[0m\u001b[0mdic2\u001b[0m\u001b[0;34m)\u001b[0m\u001b[0;34m)\u001b[0m\u001b[0;34m:\u001b[0m\u001b[0;34m\u001b[0m\u001b[0;34m\u001b[0m\u001b[0m\n\u001b[1;32m     25\u001b[0m                 \u001b[0msupermarket\u001b[0m\u001b[0;34m[\u001b[0m\u001b[0;34m\"name\"\u001b[0m\u001b[0;34m]\u001b[0m\u001b[0;34m.\u001b[0m\u001b[0mappend\u001b[0m\u001b[0;34m(\u001b[0m\u001b[0mdic2\u001b[0m\u001b[0;34m[\u001b[0m\u001b[0msup\u001b[0m\u001b[0;34m]\u001b[0m\u001b[0;34m[\u001b[0m\u001b[0;34m\"name\"\u001b[0m\u001b[0;34m]\u001b[0m\u001b[0;34m)\u001b[0m\u001b[0;34m\u001b[0m\u001b[0;34m\u001b[0m\u001b[0m\n\u001b[0;32m---> 26\u001b[0;31m                 \u001b[0msupermarket\u001b[0m\u001b[0;34m[\u001b[0m\u001b[0;34m\"direction\"\u001b[0m\u001b[0;34m]\u001b[0m\u001b[0;34m.\u001b[0m\u001b[0mappend\u001b[0m\u001b[0;34m(\u001b[0m\u001b[0mdic2\u001b[0m\u001b[0;34m[\u001b[0m\u001b[0msup\u001b[0m\u001b[0;34m]\u001b[0m\u001b[0;34m[\u001b[0m\u001b[0;34m\"location\"\u001b[0m\u001b[0;34m]\u001b[0m\u001b[0;34m[\u001b[0m\u001b[0;34m\"address\"\u001b[0m\u001b[0;34m]\u001b[0m\u001b[0;34m)\u001b[0m\u001b[0;34m\u001b[0m\u001b[0;34m\u001b[0m\u001b[0m\n\u001b[0m\u001b[1;32m     27\u001b[0m                 \u001b[0msupermarket\u001b[0m\u001b[0;34m[\u001b[0m\u001b[0;34m\"town\"\u001b[0m\u001b[0;34m]\u001b[0m\u001b[0;34m.\u001b[0m\u001b[0mappend\u001b[0m\u001b[0;34m(\u001b[0m\u001b[0mdic2\u001b[0m\u001b[0;34m[\u001b[0m\u001b[0msup\u001b[0m\u001b[0;34m]\u001b[0m\u001b[0;34m[\u001b[0m\u001b[0;34m\"location\"\u001b[0m\u001b[0;34m]\u001b[0m\u001b[0;34m[\u001b[0m\u001b[0;34m\"locality\"\u001b[0m\u001b[0;34m]\u001b[0m\u001b[0;34m)\u001b[0m\u001b[0;34m\u001b[0m\u001b[0;34m\u001b[0m\u001b[0m\n\u001b[1;32m     28\u001b[0m                 \u001b[0msupermarket\u001b[0m\u001b[0;34m[\u001b[0m\u001b[0;34m\"region\"\u001b[0m\u001b[0;34m]\u001b[0m\u001b[0;34m.\u001b[0m\u001b[0mappend\u001b[0m\u001b[0;34m(\u001b[0m\u001b[0mdic2\u001b[0m\u001b[0;34m[\u001b[0m\u001b[0msup\u001b[0m\u001b[0;34m]\u001b[0m\u001b[0;34m[\u001b[0m\u001b[0;34m\"location\"\u001b[0m\u001b[0;34m]\u001b[0m\u001b[0;34m[\u001b[0m\u001b[0;34m\"region\"\u001b[0m\u001b[0;34m]\u001b[0m\u001b[0;34m)\u001b[0m\u001b[0;34m\u001b[0m\u001b[0;34m\u001b[0m\u001b[0m\n",
      "\u001b[0;31mKeyError\u001b[0m: 'address'"
     ]
    }
   ],
   "source": [
    "foursq(coord4)"
   ]
  }
 ],
 "metadata": {
  "kernelspec": {
   "display_name": "base",
   "language": "python",
   "name": "python3"
  },
  "language_info": {
   "codemirror_mode": {
    "name": "ipython",
    "version": 3
   },
   "file_extension": ".py",
   "mimetype": "text/x-python",
   "name": "python",
   "nbconvert_exporter": "python",
   "pygments_lexer": "ipython3",
   "version": "3.9.7"
  },
  "orig_nbformat": 4,
  "vscode": {
   "interpreter": {
    "hash": "f25093244bacc7e62393c275f4a06a2027bcbdb9a67d7fe53680dbd2484adc03"
   }
  }
 },
 "nbformat": 4,
 "nbformat_minor": 2
}
