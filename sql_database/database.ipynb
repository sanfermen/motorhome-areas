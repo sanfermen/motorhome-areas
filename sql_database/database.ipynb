{
 "cells": [
  {
   "cell_type": "code",
   "execution_count": 1,
   "metadata": {},
   "outputs": [],
   "source": [
    "import pandas as pd\n",
    "import numpy as np\n",
    "import mysql.connector\n",
    "import db_support as db"
   ]
  },
  {
   "attachments": {},
   "cell_type": "markdown",
   "metadata": {},
   "source": [
    "In this notebook, we are going to create a database in MySQL. Then we create 2 tables with the information we obtained previously."
   ]
  },
  {
   "cell_type": "code",
   "execution_count": 2,
   "metadata": {},
   "outputs": [],
   "source": [
    "# Creating a new object called area, which is a database.\n",
    "area = db.Database_SQL(\"motorhome_area\", \"AlumnaAdalab\")"
   ]
  },
  {
   "cell_type": "code",
   "execution_count": 3,
   "metadata": {},
   "outputs": [
    {
     "name": "stdout",
     "output_type": "stream",
     "text": [
      "Connection successful\n",
      "CMySQLCursor: CREATE DATABASE IF NOT EXISTS motorhome_..\n"
     ]
    }
   ],
   "source": [
    "# Creating the database\n",
    "area.create_bbdd()"
   ]
  },
  {
   "cell_type": "code",
   "execution_count": 4,
   "metadata": {},
   "outputs": [],
   "source": [
    "area_table = '''\n",
    "CREATE TABLE IF NOT EXISTS `area` (\n",
    "  `id_area` INT NOT NULL AUTO_INCREMENT,\n",
    "  `latitude` DECIMAL NOT NULL,\n",
    "  `longitude` DECIMAL NOT NULL,\n",
    "  `town` VARCHAR (200) NOT NULL,\n",
    "  `region` VARCHAR (200) NOT NULL,\n",
    "  `country` VARCHAR (45) NOT NULL,\n",
    "  `price` VARCHAR (45) NOT NULL,\n",
    "  `water` VARCHAR (45) NOT NULL,\n",
    "  `wc` VARCHAR (45) NOT NULL,\n",
    "  `grey_water` VARCHAR (45) NOT NULL,\n",
    "  PRIMARY KEY (`id_area`))\n",
    "  ;'''"
   ]
  },
  {
   "cell_type": "code",
   "execution_count": 5,
   "metadata": {},
   "outputs": [],
   "source": [
    "temperature_table = '''\n",
    "CREATE TABLE IF NOT EXISTS `avg_temperature` (\n",
    "    `id_area` INT NOT NULL AUTO_INCREMENT,\n",
    "    `Jan` DECIMAL NOT NULL,\n",
    "    `Feb` DECIMAL NOT NULL,\n",
    "    `Mar` DECIMAL NOT NULL,\n",
    "    `Apr` DECIMAL NOT NULL,\n",
    "    `May` DECIMAL NOT NULL,\n",
    "    `Jun` DECIMAL NOT NULL,\n",
    "    `Jul` DECIMAL NOT NULL,\n",
    "    `Aug` DECIMAL NOT NULL,\n",
    "    `Sep` DECIMAL NOT NULL,\n",
    "    `Oct` DECIMAL NOT NULL,\n",
    "    `Nov` DECIMAL NOT NULL,\n",
    "    `Dec` DECIMAL NOT NULL,\n",
    "    `latitude` DECIMAL NOT NULL,\n",
    "    `longitude` DECIMAL NOT NULL,\n",
    "    `town` VARCHAR (200) NOT NULL,\n",
    "    `country` VARCHAR (45) NOT NULL,\n",
    "    PRIMARY KEY (`id_area`),\n",
    "    CONSTRAINT `fk_temperature_area` \n",
    "        FOREIGN KEY (`id_area`) \n",
    "        REFERENCES `area`(`id_area`))\n",
    "  ;'''"
   ]
  },
  {
   "cell_type": "code",
   "execution_count": 6,
   "metadata": {},
   "outputs": [],
   "source": [
    "# Creating the tables with the queries above\n",
    "area.create_table(area_table)\n",
    "area.create_table(temperature_table)"
   ]
  },
  {
   "cell_type": "code",
   "execution_count": 7,
   "metadata": {},
   "outputs": [
    {
     "data": {
      "text/html": [
       "<div>\n",
       "<style scoped>\n",
       "    .dataframe tbody tr th:only-of-type {\n",
       "        vertical-align: middle;\n",
       "    }\n",
       "\n",
       "    .dataframe tbody tr th {\n",
       "        vertical-align: top;\n",
       "    }\n",
       "\n",
       "    .dataframe thead th {\n",
       "        text-align: right;\n",
       "    }\n",
       "</style>\n",
       "<table border=\"1\" class=\"dataframe\">\n",
       "  <thead>\n",
       "    <tr style=\"text-align: right;\">\n",
       "      <th></th>\n",
       "      <th>latitude</th>\n",
       "      <th>longitude</th>\n",
       "      <th>town</th>\n",
       "      <th>region</th>\n",
       "      <th>country</th>\n",
       "      <th>price</th>\n",
       "      <th>water</th>\n",
       "      <th>wc</th>\n",
       "      <th>grey_water</th>\n",
       "    </tr>\n",
       "  </thead>\n",
       "  <tbody>\n",
       "    <tr>\n",
       "      <th>0</th>\n",
       "      <td>39.06956</td>\n",
       "      <td>-0.40980</td>\n",
       "      <td>Carcaixent</td>\n",
       "      <td>Comunitat Valenciana</td>\n",
       "      <td>España</td>\n",
       "      <td>Free</td>\n",
       "      <td>yes</td>\n",
       "      <td>yes</td>\n",
       "      <td>yes</td>\n",
       "    </tr>\n",
       "    <tr>\n",
       "      <th>1</th>\n",
       "      <td>42.64159</td>\n",
       "      <td>-8.89696</td>\n",
       "      <td>Boiro</td>\n",
       "      <td>Galicia</td>\n",
       "      <td>España</td>\n",
       "      <td>Free</td>\n",
       "      <td>yes</td>\n",
       "      <td>yes</td>\n",
       "      <td>unknown</td>\n",
       "    </tr>\n",
       "  </tbody>\n",
       "</table>\n",
       "</div>"
      ],
      "text/plain": [
       "   latitude  longitude        town                region country price water  \\\n",
       "0  39.06956   -0.40980  Carcaixent  Comunitat Valenciana  España  Free   yes   \n",
       "1  42.64159   -8.89696       Boiro               Galicia  España  Free   yes   \n",
       "\n",
       "    wc grey_water  \n",
       "0  yes        yes  \n",
       "1  yes    unknown  "
      ]
     },
     "execution_count": 7,
     "metadata": {},
     "output_type": "execute_result"
    }
   ],
   "source": [
    "df = pd.read_csv(\"../files/03-areas_country.csv\", index_col= 0)\n",
    "df.head(2)"
   ]
  },
  {
   "cell_type": "code",
   "execution_count": 8,
   "metadata": {},
   "outputs": [],
   "source": [
    "# Iterating over rows in the DataFrame\n",
    "for index, row in df.iterrows():\n",
    "    # Query to insert data into the table\n",
    "    query_areas = f\"\"\"\n",
    "    INSERT INTO area (latitude, longitude, town, region, country, price, water, wc, grey_water)\n",
    "            VALUES ( \"{row['latitude']}\", \"{row['longitude']}\", \"{row['town']}\", \"{row['region']}\", \"{row['country']}\", \"{row['price']}\", \"{row['water']}\", \"{row['wc']}\", \"{row['grey_water']}\");\n",
    "            \"\"\"\n",
    "    area.insert_data(query_areas)"
   ]
  },
  {
   "cell_type": "code",
   "execution_count": 9,
   "metadata": {},
   "outputs": [
    {
     "data": {
      "text/html": [
       "<div>\n",
       "<style scoped>\n",
       "    .dataframe tbody tr th:only-of-type {\n",
       "        vertical-align: middle;\n",
       "    }\n",
       "\n",
       "    .dataframe tbody tr th {\n",
       "        vertical-align: top;\n",
       "    }\n",
       "\n",
       "    .dataframe thead th {\n",
       "        text-align: right;\n",
       "    }\n",
       "</style>\n",
       "<table border=\"1\" class=\"dataframe\">\n",
       "  <thead>\n",
       "    <tr style=\"text-align: right;\">\n",
       "      <th></th>\n",
       "      <th>Jan</th>\n",
       "      <th>Feb</th>\n",
       "      <th>Mar</th>\n",
       "      <th>Apr</th>\n",
       "      <th>May</th>\n",
       "      <th>Jun</th>\n",
       "      <th>Jul</th>\n",
       "      <th>Aug</th>\n",
       "      <th>Sep</th>\n",
       "      <th>Oct</th>\n",
       "      <th>Nov</th>\n",
       "      <th>Dec</th>\n",
       "      <th>latitude</th>\n",
       "      <th>longitude</th>\n",
       "      <th>town</th>\n",
       "      <th>country</th>\n",
       "    </tr>\n",
       "  </thead>\n",
       "  <tbody>\n",
       "    <tr>\n",
       "      <th>0</th>\n",
       "      <td>11.30</td>\n",
       "      <td>12.66</td>\n",
       "      <td>13.59</td>\n",
       "      <td>15.29</td>\n",
       "      <td>19.32</td>\n",
       "      <td>23.25</td>\n",
       "      <td>26.31</td>\n",
       "      <td>26.63</td>\n",
       "      <td>23.66</td>\n",
       "      <td>19.62</td>\n",
       "      <td>14.99</td>\n",
       "      <td>12.99</td>\n",
       "      <td>39.06956</td>\n",
       "      <td>-0.40980</td>\n",
       "      <td>Carcaixent</td>\n",
       "      <td>España</td>\n",
       "    </tr>\n",
       "    <tr>\n",
       "      <th>1</th>\n",
       "      <td>9.67</td>\n",
       "      <td>10.48</td>\n",
       "      <td>12.25</td>\n",
       "      <td>14.01</td>\n",
       "      <td>16.56</td>\n",
       "      <td>19.19</td>\n",
       "      <td>20.99</td>\n",
       "      <td>20.97</td>\n",
       "      <td>19.41</td>\n",
       "      <td>16.36</td>\n",
       "      <td>12.17</td>\n",
       "      <td>10.41</td>\n",
       "      <td>42.64159</td>\n",
       "      <td>-8.89696</td>\n",
       "      <td>Boiro</td>\n",
       "      <td>España</td>\n",
       "    </tr>\n",
       "  </tbody>\n",
       "</table>\n",
       "</div>"
      ],
      "text/plain": [
       "     Jan    Feb    Mar    Apr    May    Jun    Jul    Aug    Sep    Oct  \\\n",
       "0  11.30  12.66  13.59  15.29  19.32  23.25  26.31  26.63  23.66  19.62   \n",
       "1   9.67  10.48  12.25  14.01  16.56  19.19  20.99  20.97  19.41  16.36   \n",
       "\n",
       "     Nov    Dec  latitude  longitude        town country  \n",
       "0  14.99  12.99  39.06956   -0.40980  Carcaixent  España  \n",
       "1  12.17  10.41  42.64159   -8.89696       Boiro  España  "
      ]
     },
     "execution_count": 9,
     "metadata": {},
     "output_type": "execute_result"
    }
   ],
   "source": [
    "df_temp = pd.read_csv(\"../files/04-average-temperature.csv\", index_col= 0)\n",
    "df_temp.head(2)"
   ]
  },
  {
   "cell_type": "code",
   "execution_count": 10,
   "metadata": {},
   "outputs": [],
   "source": [
    "for index, row in df_temp.iterrows():\n",
    "    query_temperature = f\"\"\"\n",
    "    INSERT INTO `avg_temperature` (`Jan`, `Feb`, `Mar`, `Apr`, `May`, `Jun`, `Jul`, `Aug`, `Sep`, `Oct`, `Nov`, `Dec`, `latitude`, `longitude`, `town`, `country`)\n",
    "            VALUES  (\"{row['Jan']}\", \"{row['Feb']}\", \"{row['Mar']}\", \"{row['Apr']}\", \"{row['May']}\", \"{row['Jun']}\", \"{row['Jul']}\", \"{row['Aug']}\",\"{row['Sep']}\", \"{row['Oct']}\", \"{row['Nov']}\",\"{row['Dec']}\",\"{row['latitude']}\",\"{row['longitude']}\",\"{row['town']}\",\"{row['country']}\");\n",
    "    \"\"\"\n",
    "    area.insert_data(query_temperature)"
   ]
  }
 ],
 "metadata": {
  "kernelspec": {
   "display_name": "base",
   "language": "python",
   "name": "python3"
  },
  "language_info": {
   "codemirror_mode": {
    "name": "ipython",
    "version": 3
   },
   "file_extension": ".py",
   "mimetype": "text/x-python",
   "name": "python",
   "nbconvert_exporter": "python",
   "pygments_lexer": "ipython3",
   "version": "3.9.12"
  },
  "orig_nbformat": 4,
  "vscode": {
   "interpreter": {
    "hash": "f25093244bacc7e62393c275f4a06a2027bcbdb9a67d7fe53680dbd2484adc03"
   }
  }
 },
 "nbformat": 4,
 "nbformat_minor": 2
}
