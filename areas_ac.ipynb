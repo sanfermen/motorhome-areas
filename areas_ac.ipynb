{
 "cells": [
  {
   "cell_type": "code",
   "execution_count": 35,
   "metadata": {},
   "outputs": [],
   "source": [
    "# Librerías necesarias\n",
    "import pandas as pd\n",
    "import re\n",
    "import requests"
   ]
  },
  {
   "cell_type": "code",
   "execution_count": 3,
   "metadata": {},
   "outputs": [
    {
     "data": {
      "text/html": [
       "<div>\n",
       "<style scoped>\n",
       "    .dataframe tbody tr th:only-of-type {\n",
       "        vertical-align: middle;\n",
       "    }\n",
       "\n",
       "    .dataframe tbody tr th {\n",
       "        vertical-align: top;\n",
       "    }\n",
       "\n",
       "    .dataframe thead th {\n",
       "        text-align: right;\n",
       "    }\n",
       "</style>\n",
       "<table border=\"1\" class=\"dataframe\">\n",
       "  <thead>\n",
       "    <tr style=\"text-align: right;\">\n",
       "      <th></th>\n",
       "      <th>WKT</th>\n",
       "      <th>NOMBRE</th>\n",
       "    </tr>\n",
       "  </thead>\n",
       "  <tbody>\n",
       "    <tr>\n",
       "      <th>0</th>\n",
       "      <td>POINT (-0.4098 39.06956 0.0)</td>\n",
       "      <td>Area AC Hort de Soriano (Carcaixent)  (Gratuit...</td>\n",
       "    </tr>\n",
       "    <tr>\n",
       "      <th>1</th>\n",
       "      <td>POINT (-8.89696 42.64159 0.0)</td>\n",
       "      <td>Area de ac playa de BarraÃ±a (Boiro)  (Gratuit...</td>\n",
       "    </tr>\n",
       "    <tr>\n",
       "      <th>2</th>\n",
       "      <td>POINT (0.35921 42.90715 0.0)</td>\n",
       "      <td>Arreau Ã¡rea AC municipal  (2 eurosAgua:sivaci...</td>\n",
       "    </tr>\n",
       "    <tr>\n",
       "      <th>3</th>\n",
       "      <td>POINT (-0.41007 38.39479 0.0)</td>\n",
       "      <td>Camper Area Campello Beach   (14eur/nocheAgua:...</td>\n",
       "    </tr>\n",
       "    <tr>\n",
       "      <th>4</th>\n",
       "      <td>POINT (-8.44443 43.37179 0.0)</td>\n",
       "      <td>A CoruÃ±a  Gratuito: Si Pernocta: Si WC: Si Ag...</td>\n",
       "    </tr>\n",
       "  </tbody>\n",
       "</table>\n",
       "</div>"
      ],
      "text/plain": [
       "                             WKT  \\\n",
       "0   POINT (-0.4098 39.06956 0.0)   \n",
       "1  POINT (-8.89696 42.64159 0.0)   \n",
       "2   POINT (0.35921 42.90715 0.0)   \n",
       "3  POINT (-0.41007 38.39479 0.0)   \n",
       "4  POINT (-8.44443 43.37179 0.0)   \n",
       "\n",
       "                                              NOMBRE  \n",
       "0  Area AC Hort de Soriano (Carcaixent)  (Gratuit...  \n",
       "1  Area de ac playa de BarraÃ±a (Boiro)  (Gratuit...  \n",
       "2  Arreau Ã¡rea AC municipal  (2 eurosAgua:sivaci...  \n",
       "3  Camper Area Campello Beach   (14eur/nocheAgua:...  \n",
       "4  A CoruÃ±a  Gratuito: Si Pernocta: Si WC: Si Ag...  "
      ]
     },
     "execution_count": 3,
     "metadata": {},
     "output_type": "execute_result"
    }
   ],
   "source": [
    "df = pd.read_csv(\"ficheros/areas_ac.csv\")\n",
    "df.head()"
   ]
  },
  {
   "cell_type": "code",
   "execution_count": 4,
   "metadata": {},
   "outputs": [
    {
     "data": {
      "text/plain": [
       "WKT       0\n",
       "NOMBRE    0\n",
       "dtype: int64"
      ]
     },
     "execution_count": 4,
     "metadata": {},
     "output_type": "execute_result"
    }
   ],
   "source": [
    "\n",
    "df.isnull().sum()"
   ]
  },
  {
   "cell_type": "code",
   "execution_count": 6,
   "metadata": {},
   "outputs": [
    {
     "data": {
      "text/plain": [
       "WKT       object\n",
       "NOMBRE    object\n",
       "dtype: object"
      ]
     },
     "execution_count": 6,
     "metadata": {},
     "output_type": "execute_result"
    }
   ],
   "source": [
    "df.dtypes"
   ]
  },
  {
   "attachments": {},
   "cell_type": "markdown",
   "metadata": {},
   "source": [
    "### EXTRAER LA INFORMACIÓN LAS COLUMNAS\n",
    "---"
   ]
  },
  {
   "cell_type": "code",
   "execution_count": 12,
   "metadata": {},
   "outputs": [],
   "source": [
    "# Función para sacar las coordenadas de la columna WKT\n",
    "def sacar_latitud(col):\n",
    "    patron = \"-?\\d+\\.\\d+\" \n",
    "    return re.findall(patron, col)[1]\n",
    "\n",
    "def sacar_longitud(col):\n",
    "    patron = \"-?\\d+\\.\\d+\" \n",
    "    return re.findall(patron, col)[0]"
   ]
  },
  {
   "cell_type": "code",
   "execution_count": 13,
   "metadata": {},
   "outputs": [],
   "source": [
    "df[\"latitud\"]= df[\"WKT\"].apply(sacar_latitud)"
   ]
  },
  {
   "cell_type": "code",
   "execution_count": 14,
   "metadata": {},
   "outputs": [],
   "source": [
    "df[\"longitud\"] = df[\"WKT\"].apply(sacar_longitud)"
   ]
  },
  {
   "cell_type": "code",
   "execution_count": 15,
   "metadata": {},
   "outputs": [
    {
     "data": {
      "text/html": [
       "<div>\n",
       "<style scoped>\n",
       "    .dataframe tbody tr th:only-of-type {\n",
       "        vertical-align: middle;\n",
       "    }\n",
       "\n",
       "    .dataframe tbody tr th {\n",
       "        vertical-align: top;\n",
       "    }\n",
       "\n",
       "    .dataframe thead th {\n",
       "        text-align: right;\n",
       "    }\n",
       "</style>\n",
       "<table border=\"1\" class=\"dataframe\">\n",
       "  <thead>\n",
       "    <tr style=\"text-align: right;\">\n",
       "      <th></th>\n",
       "      <th>WKT</th>\n",
       "      <th>NOMBRE</th>\n",
       "      <th>latitud</th>\n",
       "      <th>longitud</th>\n",
       "    </tr>\n",
       "  </thead>\n",
       "  <tbody>\n",
       "    <tr>\n",
       "      <th>0</th>\n",
       "      <td>POINT (-0.4098 39.06956 0.0)</td>\n",
       "      <td>Area AC Hort de Soriano (Carcaixent)  (Gratuit...</td>\n",
       "      <td>39.06956</td>\n",
       "      <td>-0.4098</td>\n",
       "    </tr>\n",
       "    <tr>\n",
       "      <th>1</th>\n",
       "      <td>POINT (-8.89696 42.64159 0.0)</td>\n",
       "      <td>Area de ac playa de BarraÃ±a (Boiro)  (Gratuit...</td>\n",
       "      <td>42.64159</td>\n",
       "      <td>-8.89696</td>\n",
       "    </tr>\n",
       "  </tbody>\n",
       "</table>\n",
       "</div>"
      ],
      "text/plain": [
       "                             WKT  \\\n",
       "0   POINT (-0.4098 39.06956 0.0)   \n",
       "1  POINT (-8.89696 42.64159 0.0)   \n",
       "\n",
       "                                              NOMBRE   latitud  longitud  \n",
       "0  Area AC Hort de Soriano (Carcaixent)  (Gratuit...  39.06956   -0.4098  \n",
       "1  Area de ac playa de BarraÃ±a (Boiro)  (Gratuit...  42.64159  -8.89696  "
      ]
     },
     "execution_count": 15,
     "metadata": {},
     "output_type": "execute_result"
    }
   ],
   "source": [
    "df.head(2)"
   ]
  },
  {
   "cell_type": "code",
   "execution_count": 16,
   "metadata": {},
   "outputs": [],
   "source": [
    "# Función para buscar si es de pago o no\n",
    "def precio(col):\n",
    "    \n",
    "    patron1 = \"[G|g]ratuito:*\\s*[N|n]o\"\n",
    "    patron2 = \"[G|g]ratuito\"\n",
    "    patron3 = \".*\\d+\"\n",
    "    if re.findall(patron1,col):             \n",
    "        return \"De pago\"\n",
    "    elif re.findall(patron2,col):             \n",
    "        return \"Gratuito\"\n",
    "    elif re.findall(patron3,col):             \n",
    "        return \"De pago\"\n",
    "    else:\n",
    "        return \"Gratuito\""
   ]
  },
  {
   "cell_type": "code",
   "execution_count": 17,
   "metadata": {},
   "outputs": [],
   "source": [
    "df[\"precio\"] = df[\"NOMBRE\"].apply(precio)"
   ]
  },
  {
   "cell_type": "code",
   "execution_count": 18,
   "metadata": {},
   "outputs": [
    {
     "data": {
      "text/html": [
       "<div>\n",
       "<style scoped>\n",
       "    .dataframe tbody tr th:only-of-type {\n",
       "        vertical-align: middle;\n",
       "    }\n",
       "\n",
       "    .dataframe tbody tr th {\n",
       "        vertical-align: top;\n",
       "    }\n",
       "\n",
       "    .dataframe thead th {\n",
       "        text-align: right;\n",
       "    }\n",
       "</style>\n",
       "<table border=\"1\" class=\"dataframe\">\n",
       "  <thead>\n",
       "    <tr style=\"text-align: right;\">\n",
       "      <th></th>\n",
       "      <th>WKT</th>\n",
       "      <th>NOMBRE</th>\n",
       "      <th>latitud</th>\n",
       "      <th>longitud</th>\n",
       "      <th>precio</th>\n",
       "    </tr>\n",
       "  </thead>\n",
       "  <tbody>\n",
       "    <tr>\n",
       "      <th>0</th>\n",
       "      <td>POINT (-0.4098 39.06956 0.0)</td>\n",
       "      <td>Area AC Hort de Soriano (Carcaixent)  (Gratuit...</td>\n",
       "      <td>39.06956</td>\n",
       "      <td>-0.4098</td>\n",
       "      <td>Gratuito</td>\n",
       "    </tr>\n",
       "    <tr>\n",
       "      <th>1</th>\n",
       "      <td>POINT (-8.89696 42.64159 0.0)</td>\n",
       "      <td>Area de ac playa de BarraÃ±a (Boiro)  (Gratuit...</td>\n",
       "      <td>42.64159</td>\n",
       "      <td>-8.89696</td>\n",
       "      <td>Gratuito</td>\n",
       "    </tr>\n",
       "  </tbody>\n",
       "</table>\n",
       "</div>"
      ],
      "text/plain": [
       "                             WKT  \\\n",
       "0   POINT (-0.4098 39.06956 0.0)   \n",
       "1  POINT (-8.89696 42.64159 0.0)   \n",
       "\n",
       "                                              NOMBRE   latitud  longitud  \\\n",
       "0  Area AC Hort de Soriano (Carcaixent)  (Gratuit...  39.06956   -0.4098   \n",
       "1  Area de ac playa de BarraÃ±a (Boiro)  (Gratuit...  42.64159  -8.89696   \n",
       "\n",
       "     precio  \n",
       "0  Gratuito  \n",
       "1  Gratuito  "
      ]
     },
     "execution_count": 18,
     "metadata": {},
     "output_type": "execute_result"
    }
   ],
   "source": [
    "df.head(2)"
   ]
  },
  {
   "cell_type": "code",
   "execution_count": 19,
   "metadata": {},
   "outputs": [
    {
     "data": {
      "text/plain": [
       "Gratuito    552\n",
       "De pago     361\n",
       "Name: precio, dtype: int64"
      ]
     },
     "execution_count": 19,
     "metadata": {},
     "output_type": "execute_result"
    }
   ],
   "source": [
    "df.precio.value_counts()"
   ]
  },
  {
   "cell_type": "code",
   "execution_count": 20,
   "metadata": {},
   "outputs": [],
   "source": [
    "# Función para saber si disponen de servicio de aguas o no\n",
    "def buscar_agua(col):\n",
    "    patron = \"[A|a]gua:*\\s*[N|n]o*\"\n",
    "    patron2 = \"[A|a]gua:*\\s*[S|s]*i*\"\n",
    "    if re.findall(patron, col):\n",
    "        return \"no\"\n",
    "    elif re.findall(patron2, col):\n",
    "        return \"si\"\n",
    "    else:\n",
    "        return \"desconocido\""
   ]
  },
  {
   "cell_type": "code",
   "execution_count": 21,
   "metadata": {},
   "outputs": [],
   "source": [
    "df[\"agua\"] = df[\"NOMBRE\"].apply(buscar_agua)"
   ]
  },
  {
   "cell_type": "code",
   "execution_count": 22,
   "metadata": {},
   "outputs": [
    {
     "data": {
      "text/html": [
       "<div>\n",
       "<style scoped>\n",
       "    .dataframe tbody tr th:only-of-type {\n",
       "        vertical-align: middle;\n",
       "    }\n",
       "\n",
       "    .dataframe tbody tr th {\n",
       "        vertical-align: top;\n",
       "    }\n",
       "\n",
       "    .dataframe thead th {\n",
       "        text-align: right;\n",
       "    }\n",
       "</style>\n",
       "<table border=\"1\" class=\"dataframe\">\n",
       "  <thead>\n",
       "    <tr style=\"text-align: right;\">\n",
       "      <th></th>\n",
       "      <th>WKT</th>\n",
       "      <th>NOMBRE</th>\n",
       "      <th>latitud</th>\n",
       "      <th>longitud</th>\n",
       "      <th>precio</th>\n",
       "      <th>agua</th>\n",
       "    </tr>\n",
       "  </thead>\n",
       "  <tbody>\n",
       "    <tr>\n",
       "      <th>0</th>\n",
       "      <td>POINT (-0.4098 39.06956 0.0)</td>\n",
       "      <td>Area AC Hort de Soriano (Carcaixent)  (Gratuit...</td>\n",
       "      <td>39.06956</td>\n",
       "      <td>-0.4098</td>\n",
       "      <td>Gratuito</td>\n",
       "      <td>si</td>\n",
       "    </tr>\n",
       "    <tr>\n",
       "      <th>1</th>\n",
       "      <td>POINT (-8.89696 42.64159 0.0)</td>\n",
       "      <td>Area de ac playa de BarraÃ±a (Boiro)  (Gratuit...</td>\n",
       "      <td>42.64159</td>\n",
       "      <td>-8.89696</td>\n",
       "      <td>Gratuito</td>\n",
       "      <td>si</td>\n",
       "    </tr>\n",
       "  </tbody>\n",
       "</table>\n",
       "</div>"
      ],
      "text/plain": [
       "                             WKT  \\\n",
       "0   POINT (-0.4098 39.06956 0.0)   \n",
       "1  POINT (-8.89696 42.64159 0.0)   \n",
       "\n",
       "                                              NOMBRE   latitud  longitud  \\\n",
       "0  Area AC Hort de Soriano (Carcaixent)  (Gratuit...  39.06956   -0.4098   \n",
       "1  Area de ac playa de BarraÃ±a (Boiro)  (Gratuit...  42.64159  -8.89696   \n",
       "\n",
       "     precio agua  \n",
       "0  Gratuito   si  \n",
       "1  Gratuito   si  "
      ]
     },
     "execution_count": 22,
     "metadata": {},
     "output_type": "execute_result"
    }
   ],
   "source": [
    "df.head(2)"
   ]
  },
  {
   "cell_type": "code",
   "execution_count": 23,
   "metadata": {},
   "outputs": [
    {
     "data": {
      "text/plain": [
       "si             885\n",
       "no              19\n",
       "desconocido      9\n",
       "Name: agua, dtype: int64"
      ]
     },
     "execution_count": 23,
     "metadata": {},
     "output_type": "execute_result"
    }
   ],
   "source": [
    "df[\"agua\"].value_counts()"
   ]
  },
  {
   "cell_type": "code",
   "execution_count": 24,
   "metadata": {},
   "outputs": [],
   "source": [
    "# Función para saber si tienen wc\n",
    "def buscar_wc(col):\n",
    "    patron = \"[W|w][C|c]:*\\s*[N|n]o*\"\n",
    "    patron2 = \"[W|w][C|c]:*\\s*[S|s]*i*\"\n",
    "    if re.findall(patron, col):\n",
    "        return \"no\"\n",
    "    elif re.findall(patron2, col):\n",
    "        return \"si\"\n",
    "    else:\n",
    "        return \"desconocido\""
   ]
  },
  {
   "cell_type": "code",
   "execution_count": 25,
   "metadata": {},
   "outputs": [],
   "source": [
    "df[\"wc\"] = df[\"NOMBRE\"].apply(buscar_wc)"
   ]
  },
  {
   "cell_type": "code",
   "execution_count": 26,
   "metadata": {},
   "outputs": [
    {
     "data": {
      "text/html": [
       "<div>\n",
       "<style scoped>\n",
       "    .dataframe tbody tr th:only-of-type {\n",
       "        vertical-align: middle;\n",
       "    }\n",
       "\n",
       "    .dataframe tbody tr th {\n",
       "        vertical-align: top;\n",
       "    }\n",
       "\n",
       "    .dataframe thead th {\n",
       "        text-align: right;\n",
       "    }\n",
       "</style>\n",
       "<table border=\"1\" class=\"dataframe\">\n",
       "  <thead>\n",
       "    <tr style=\"text-align: right;\">\n",
       "      <th></th>\n",
       "      <th>WKT</th>\n",
       "      <th>NOMBRE</th>\n",
       "      <th>latitud</th>\n",
       "      <th>longitud</th>\n",
       "      <th>precio</th>\n",
       "      <th>agua</th>\n",
       "      <th>wc</th>\n",
       "    </tr>\n",
       "  </thead>\n",
       "  <tbody>\n",
       "    <tr>\n",
       "      <th>0</th>\n",
       "      <td>POINT (-0.4098 39.06956 0.0)</td>\n",
       "      <td>Area AC Hort de Soriano (Carcaixent)  (Gratuit...</td>\n",
       "      <td>39.06956</td>\n",
       "      <td>-0.4098</td>\n",
       "      <td>Gratuito</td>\n",
       "      <td>si</td>\n",
       "      <td>si</td>\n",
       "    </tr>\n",
       "    <tr>\n",
       "      <th>1</th>\n",
       "      <td>POINT (-8.89696 42.64159 0.0)</td>\n",
       "      <td>Area de ac playa de BarraÃ±a (Boiro)  (Gratuit...</td>\n",
       "      <td>42.64159</td>\n",
       "      <td>-8.89696</td>\n",
       "      <td>Gratuito</td>\n",
       "      <td>si</td>\n",
       "      <td>si</td>\n",
       "    </tr>\n",
       "  </tbody>\n",
       "</table>\n",
       "</div>"
      ],
      "text/plain": [
       "                             WKT  \\\n",
       "0   POINT (-0.4098 39.06956 0.0)   \n",
       "1  POINT (-8.89696 42.64159 0.0)   \n",
       "\n",
       "                                              NOMBRE   latitud  longitud  \\\n",
       "0  Area AC Hort de Soriano (Carcaixent)  (Gratuit...  39.06956   -0.4098   \n",
       "1  Area de ac playa de BarraÃ±a (Boiro)  (Gratuit...  42.64159  -8.89696   \n",
       "\n",
       "     precio agua  wc  \n",
       "0  Gratuito   si  si  \n",
       "1  Gratuito   si  si  "
      ]
     },
     "execution_count": 26,
     "metadata": {},
     "output_type": "execute_result"
    }
   ],
   "source": [
    "df.head(2)"
   ]
  },
  {
   "cell_type": "code",
   "execution_count": 27,
   "metadata": {},
   "outputs": [
    {
     "data": {
      "text/plain": [
       "no             511\n",
       "si             363\n",
       "desconocido     39\n",
       "Name: wc, dtype: int64"
      ]
     },
     "execution_count": 27,
     "metadata": {},
     "output_type": "execute_result"
    }
   ],
   "source": [
    "df.wc.value_counts()"
   ]
  },
  {
   "cell_type": "code",
   "execution_count": 28,
   "metadata": {},
   "outputs": [],
   "source": [
    "# Función para saber si le han etiquetado el servicio de vaciado\n",
    "def vaciado(col):\n",
    "    patron = \"[V|v]aciado:*\\s*[N|n]o*\"\n",
    "    patron2 = \"[V|v]aciado:*\\s*[S|s]*i*\"\n",
    "    if re.findall(patron, col):\n",
    "        return \"no\"\n",
    "    elif re.findall(patron2, col):\n",
    "        return \"si\"\n",
    "    else:\n",
    "        return \"desconocido\""
   ]
  },
  {
   "cell_type": "code",
   "execution_count": 29,
   "metadata": {},
   "outputs": [],
   "source": [
    "df[\"vaciado\"] = df[\"NOMBRE\"].apply(vaciado)"
   ]
  },
  {
   "cell_type": "code",
   "execution_count": 30,
   "metadata": {},
   "outputs": [
    {
     "data": {
      "text/html": [
       "<div>\n",
       "<style scoped>\n",
       "    .dataframe tbody tr th:only-of-type {\n",
       "        vertical-align: middle;\n",
       "    }\n",
       "\n",
       "    .dataframe tbody tr th {\n",
       "        vertical-align: top;\n",
       "    }\n",
       "\n",
       "    .dataframe thead th {\n",
       "        text-align: right;\n",
       "    }\n",
       "</style>\n",
       "<table border=\"1\" class=\"dataframe\">\n",
       "  <thead>\n",
       "    <tr style=\"text-align: right;\">\n",
       "      <th></th>\n",
       "      <th>WKT</th>\n",
       "      <th>NOMBRE</th>\n",
       "      <th>latitud</th>\n",
       "      <th>longitud</th>\n",
       "      <th>precio</th>\n",
       "      <th>agua</th>\n",
       "      <th>wc</th>\n",
       "      <th>vaciado</th>\n",
       "    </tr>\n",
       "  </thead>\n",
       "  <tbody>\n",
       "    <tr>\n",
       "      <th>0</th>\n",
       "      <td>POINT (-0.4098 39.06956 0.0)</td>\n",
       "      <td>Area AC Hort de Soriano (Carcaixent)  (Gratuit...</td>\n",
       "      <td>39.06956</td>\n",
       "      <td>-0.4098</td>\n",
       "      <td>Gratuito</td>\n",
       "      <td>si</td>\n",
       "      <td>si</td>\n",
       "      <td>si</td>\n",
       "    </tr>\n",
       "    <tr>\n",
       "      <th>1</th>\n",
       "      <td>POINT (-8.89696 42.64159 0.0)</td>\n",
       "      <td>Area de ac playa de BarraÃ±a (Boiro)  (Gratuit...</td>\n",
       "      <td>42.64159</td>\n",
       "      <td>-8.89696</td>\n",
       "      <td>Gratuito</td>\n",
       "      <td>si</td>\n",
       "      <td>si</td>\n",
       "      <td>desconocido</td>\n",
       "    </tr>\n",
       "  </tbody>\n",
       "</table>\n",
       "</div>"
      ],
      "text/plain": [
       "                             WKT  \\\n",
       "0   POINT (-0.4098 39.06956 0.0)   \n",
       "1  POINT (-8.89696 42.64159 0.0)   \n",
       "\n",
       "                                              NOMBRE   latitud  longitud  \\\n",
       "0  Area AC Hort de Soriano (Carcaixent)  (Gratuit...  39.06956   -0.4098   \n",
       "1  Area de ac playa de BarraÃ±a (Boiro)  (Gratuit...  42.64159  -8.89696   \n",
       "\n",
       "     precio agua  wc      vaciado  \n",
       "0  Gratuito   si  si           si  \n",
       "1  Gratuito   si  si  desconocido  "
      ]
     },
     "execution_count": 30,
     "metadata": {},
     "output_type": "execute_result"
    }
   ],
   "source": [
    "df.head(2)"
   ]
  },
  {
   "cell_type": "code",
   "execution_count": 31,
   "metadata": {},
   "outputs": [
    {
     "data": {
      "text/plain": [
       "si             629\n",
       "desconocido    278\n",
       "no               6\n",
       "Name: vaciado, dtype: int64"
      ]
     },
     "execution_count": 31,
     "metadata": {},
     "output_type": "execute_result"
    }
   ],
   "source": [
    "df.vaciado.value_counts()"
   ]
  },
  {
   "cell_type": "code",
   "execution_count": 40,
   "metadata": {},
   "outputs": [
    {
     "ename": "KeyError",
     "evalue": "\"['WKT'] not found in axis\"",
     "output_type": "error",
     "traceback": [
      "\u001b[0;31m---------------------------------------------------------------------------\u001b[0m",
      "\u001b[0;31mKeyError\u001b[0m                                  Traceback (most recent call last)",
      "\u001b[0;32m/tmp/ipykernel_550/2631266351.py\u001b[0m in \u001b[0;36m<module>\u001b[0;34m\u001b[0m\n\u001b[1;32m      1\u001b[0m \u001b[0;31m# Después de extraer la información, elimino la columna WKT\u001b[0m\u001b[0;34m\u001b[0m\u001b[0;34m\u001b[0m\u001b[0m\n\u001b[0;32m----> 2\u001b[0;31m \u001b[0mdf\u001b[0m\u001b[0;34m.\u001b[0m\u001b[0mdrop\u001b[0m\u001b[0;34m(\u001b[0m\u001b[0mcolumns\u001b[0m\u001b[0;34m=\u001b[0m\u001b[0;34m[\u001b[0m\u001b[0;34m\"WKT\"\u001b[0m\u001b[0;34m,\u001b[0m \u001b[0;34m\"NOMBRE\"\u001b[0m\u001b[0;34m]\u001b[0m\u001b[0;34m,\u001b[0m \u001b[0maxis\u001b[0m\u001b[0;34m=\u001b[0m\u001b[0;36m1\u001b[0m\u001b[0;34m,\u001b[0m \u001b[0minplace\u001b[0m\u001b[0;34m=\u001b[0m \u001b[0;32mTrue\u001b[0m\u001b[0;34m)\u001b[0m\u001b[0;34m\u001b[0m\u001b[0;34m\u001b[0m\u001b[0m\n\u001b[0m",
      "\u001b[0;32m~/anaconda3/lib/python3.9/site-packages/pandas/util/_decorators.py\u001b[0m in \u001b[0;36mwrapper\u001b[0;34m(*args, **kwargs)\u001b[0m\n\u001b[1;32m    329\u001b[0m                     \u001b[0mstacklevel\u001b[0m\u001b[0;34m=\u001b[0m\u001b[0mfind_stack_level\u001b[0m\u001b[0;34m(\u001b[0m\u001b[0;34m)\u001b[0m\u001b[0;34m,\u001b[0m\u001b[0;34m\u001b[0m\u001b[0;34m\u001b[0m\u001b[0m\n\u001b[1;32m    330\u001b[0m                 )\n\u001b[0;32m--> 331\u001b[0;31m             \u001b[0;32mreturn\u001b[0m \u001b[0mfunc\u001b[0m\u001b[0;34m(\u001b[0m\u001b[0;34m*\u001b[0m\u001b[0margs\u001b[0m\u001b[0;34m,\u001b[0m \u001b[0;34m**\u001b[0m\u001b[0mkwargs\u001b[0m\u001b[0;34m)\u001b[0m\u001b[0;34m\u001b[0m\u001b[0;34m\u001b[0m\u001b[0m\n\u001b[0m\u001b[1;32m    332\u001b[0m \u001b[0;34m\u001b[0m\u001b[0m\n\u001b[1;32m    333\u001b[0m         \u001b[0;31m# error: \"Callable[[VarArg(Any), KwArg(Any)], Any]\" has no\u001b[0m\u001b[0;34m\u001b[0m\u001b[0;34m\u001b[0m\u001b[0m\n",
      "\u001b[0;32m~/anaconda3/lib/python3.9/site-packages/pandas/core/frame.py\u001b[0m in \u001b[0;36mdrop\u001b[0;34m(self, labels, axis, index, columns, level, inplace, errors)\u001b[0m\n\u001b[1;32m   5394\u001b[0m                 \u001b[0mweight\u001b[0m  \u001b[0;36m1.0\u001b[0m     \u001b[0;36m0.8\u001b[0m\u001b[0;34m\u001b[0m\u001b[0;34m\u001b[0m\u001b[0m\n\u001b[1;32m   5395\u001b[0m         \"\"\"\n\u001b[0;32m-> 5396\u001b[0;31m         return super().drop(\n\u001b[0m\u001b[1;32m   5397\u001b[0m             \u001b[0mlabels\u001b[0m\u001b[0;34m=\u001b[0m\u001b[0mlabels\u001b[0m\u001b[0;34m,\u001b[0m\u001b[0;34m\u001b[0m\u001b[0;34m\u001b[0m\u001b[0m\n\u001b[1;32m   5398\u001b[0m             \u001b[0maxis\u001b[0m\u001b[0;34m=\u001b[0m\u001b[0maxis\u001b[0m\u001b[0;34m,\u001b[0m\u001b[0;34m\u001b[0m\u001b[0;34m\u001b[0m\u001b[0m\n",
      "\u001b[0;32m~/anaconda3/lib/python3.9/site-packages/pandas/util/_decorators.py\u001b[0m in \u001b[0;36mwrapper\u001b[0;34m(*args, **kwargs)\u001b[0m\n\u001b[1;32m    329\u001b[0m                     \u001b[0mstacklevel\u001b[0m\u001b[0;34m=\u001b[0m\u001b[0mfind_stack_level\u001b[0m\u001b[0;34m(\u001b[0m\u001b[0;34m)\u001b[0m\u001b[0;34m,\u001b[0m\u001b[0;34m\u001b[0m\u001b[0;34m\u001b[0m\u001b[0m\n\u001b[1;32m    330\u001b[0m                 )\n\u001b[0;32m--> 331\u001b[0;31m             \u001b[0;32mreturn\u001b[0m \u001b[0mfunc\u001b[0m\u001b[0;34m(\u001b[0m\u001b[0;34m*\u001b[0m\u001b[0margs\u001b[0m\u001b[0;34m,\u001b[0m \u001b[0;34m**\u001b[0m\u001b[0mkwargs\u001b[0m\u001b[0;34m)\u001b[0m\u001b[0;34m\u001b[0m\u001b[0;34m\u001b[0m\u001b[0m\n\u001b[0m\u001b[1;32m    332\u001b[0m \u001b[0;34m\u001b[0m\u001b[0m\n\u001b[1;32m    333\u001b[0m         \u001b[0;31m# error: \"Callable[[VarArg(Any), KwArg(Any)], Any]\" has no\u001b[0m\u001b[0;34m\u001b[0m\u001b[0;34m\u001b[0m\u001b[0m\n",
      "\u001b[0;32m~/anaconda3/lib/python3.9/site-packages/pandas/core/generic.py\u001b[0m in \u001b[0;36mdrop\u001b[0;34m(self, labels, axis, index, columns, level, inplace, errors)\u001b[0m\n\u001b[1;32m   4503\u001b[0m         \u001b[0;32mfor\u001b[0m \u001b[0maxis\u001b[0m\u001b[0;34m,\u001b[0m \u001b[0mlabels\u001b[0m \u001b[0;32min\u001b[0m \u001b[0maxes\u001b[0m\u001b[0;34m.\u001b[0m\u001b[0mitems\u001b[0m\u001b[0;34m(\u001b[0m\u001b[0;34m)\u001b[0m\u001b[0;34m:\u001b[0m\u001b[0;34m\u001b[0m\u001b[0;34m\u001b[0m\u001b[0m\n\u001b[1;32m   4504\u001b[0m             \u001b[0;32mif\u001b[0m \u001b[0mlabels\u001b[0m \u001b[0;32mis\u001b[0m \u001b[0;32mnot\u001b[0m \u001b[0;32mNone\u001b[0m\u001b[0;34m:\u001b[0m\u001b[0;34m\u001b[0m\u001b[0;34m\u001b[0m\u001b[0m\n\u001b[0;32m-> 4505\u001b[0;31m                 \u001b[0mobj\u001b[0m \u001b[0;34m=\u001b[0m \u001b[0mobj\u001b[0m\u001b[0;34m.\u001b[0m\u001b[0m_drop_axis\u001b[0m\u001b[0;34m(\u001b[0m\u001b[0mlabels\u001b[0m\u001b[0;34m,\u001b[0m \u001b[0maxis\u001b[0m\u001b[0;34m,\u001b[0m \u001b[0mlevel\u001b[0m\u001b[0;34m=\u001b[0m\u001b[0mlevel\u001b[0m\u001b[0;34m,\u001b[0m \u001b[0merrors\u001b[0m\u001b[0;34m=\u001b[0m\u001b[0merrors\u001b[0m\u001b[0;34m)\u001b[0m\u001b[0;34m\u001b[0m\u001b[0;34m\u001b[0m\u001b[0m\n\u001b[0m\u001b[1;32m   4506\u001b[0m \u001b[0;34m\u001b[0m\u001b[0m\n\u001b[1;32m   4507\u001b[0m         \u001b[0;32mif\u001b[0m \u001b[0minplace\u001b[0m\u001b[0;34m:\u001b[0m\u001b[0;34m\u001b[0m\u001b[0;34m\u001b[0m\u001b[0m\n",
      "\u001b[0;32m~/anaconda3/lib/python3.9/site-packages/pandas/core/generic.py\u001b[0m in \u001b[0;36m_drop_axis\u001b[0;34m(self, labels, axis, level, errors, only_slice)\u001b[0m\n\u001b[1;32m   4544\u001b[0m                 \u001b[0mnew_axis\u001b[0m \u001b[0;34m=\u001b[0m \u001b[0maxis\u001b[0m\u001b[0;34m.\u001b[0m\u001b[0mdrop\u001b[0m\u001b[0;34m(\u001b[0m\u001b[0mlabels\u001b[0m\u001b[0;34m,\u001b[0m \u001b[0mlevel\u001b[0m\u001b[0;34m=\u001b[0m\u001b[0mlevel\u001b[0m\u001b[0;34m,\u001b[0m \u001b[0merrors\u001b[0m\u001b[0;34m=\u001b[0m\u001b[0merrors\u001b[0m\u001b[0;34m)\u001b[0m\u001b[0;34m\u001b[0m\u001b[0;34m\u001b[0m\u001b[0m\n\u001b[1;32m   4545\u001b[0m             \u001b[0;32melse\u001b[0m\u001b[0;34m:\u001b[0m\u001b[0;34m\u001b[0m\u001b[0;34m\u001b[0m\u001b[0m\n\u001b[0;32m-> 4546\u001b[0;31m                 \u001b[0mnew_axis\u001b[0m \u001b[0;34m=\u001b[0m \u001b[0maxis\u001b[0m\u001b[0;34m.\u001b[0m\u001b[0mdrop\u001b[0m\u001b[0;34m(\u001b[0m\u001b[0mlabels\u001b[0m\u001b[0;34m,\u001b[0m \u001b[0merrors\u001b[0m\u001b[0;34m=\u001b[0m\u001b[0merrors\u001b[0m\u001b[0;34m)\u001b[0m\u001b[0;34m\u001b[0m\u001b[0;34m\u001b[0m\u001b[0m\n\u001b[0m\u001b[1;32m   4547\u001b[0m             \u001b[0mindexer\u001b[0m \u001b[0;34m=\u001b[0m \u001b[0maxis\u001b[0m\u001b[0;34m.\u001b[0m\u001b[0mget_indexer\u001b[0m\u001b[0;34m(\u001b[0m\u001b[0mnew_axis\u001b[0m\u001b[0;34m)\u001b[0m\u001b[0;34m\u001b[0m\u001b[0;34m\u001b[0m\u001b[0m\n\u001b[1;32m   4548\u001b[0m \u001b[0;34m\u001b[0m\u001b[0m\n",
      "\u001b[0;32m~/anaconda3/lib/python3.9/site-packages/pandas/core/indexes/base.py\u001b[0m in \u001b[0;36mdrop\u001b[0;34m(self, labels, errors)\u001b[0m\n\u001b[1;32m   6975\u001b[0m         \u001b[0;32mif\u001b[0m \u001b[0mmask\u001b[0m\u001b[0;34m.\u001b[0m\u001b[0many\u001b[0m\u001b[0;34m(\u001b[0m\u001b[0;34m)\u001b[0m\u001b[0;34m:\u001b[0m\u001b[0;34m\u001b[0m\u001b[0;34m\u001b[0m\u001b[0m\n\u001b[1;32m   6976\u001b[0m             \u001b[0;32mif\u001b[0m \u001b[0merrors\u001b[0m \u001b[0;34m!=\u001b[0m \u001b[0;34m\"ignore\"\u001b[0m\u001b[0;34m:\u001b[0m\u001b[0;34m\u001b[0m\u001b[0;34m\u001b[0m\u001b[0m\n\u001b[0;32m-> 6977\u001b[0;31m                 \u001b[0;32mraise\u001b[0m \u001b[0mKeyError\u001b[0m\u001b[0;34m(\u001b[0m\u001b[0;34mf\"{list(labels[mask])} not found in axis\"\u001b[0m\u001b[0;34m)\u001b[0m\u001b[0;34m\u001b[0m\u001b[0;34m\u001b[0m\u001b[0m\n\u001b[0m\u001b[1;32m   6978\u001b[0m             \u001b[0mindexer\u001b[0m \u001b[0;34m=\u001b[0m \u001b[0mindexer\u001b[0m\u001b[0;34m[\u001b[0m\u001b[0;34m~\u001b[0m\u001b[0mmask\u001b[0m\u001b[0;34m]\u001b[0m\u001b[0;34m\u001b[0m\u001b[0;34m\u001b[0m\u001b[0m\n\u001b[1;32m   6979\u001b[0m         \u001b[0;32mreturn\u001b[0m \u001b[0mself\u001b[0m\u001b[0;34m.\u001b[0m\u001b[0mdelete\u001b[0m\u001b[0;34m(\u001b[0m\u001b[0mindexer\u001b[0m\u001b[0;34m)\u001b[0m\u001b[0;34m\u001b[0m\u001b[0;34m\u001b[0m\u001b[0m\n",
      "\u001b[0;31mKeyError\u001b[0m: \"['WKT'] not found in axis\""
     ]
    }
   ],
   "source": [
    "# Después de extraer la información, elimino la columna WKT\n",
    "df.drop(columns=[\"WKT\", \"NOMBRE\"], axis=1, inplace= True)"
   ]
  },
  {
   "attachments": {},
   "cell_type": "markdown",
   "metadata": {},
   "source": [
    "### API PARA EXTRAER LA LOCALIDAD, PROVINCIA Y PAIS\n",
    "--- "
   ]
  },
  {
   "cell_type": "code",
   "execution_count": 36,
   "metadata": {},
   "outputs": [],
   "source": [
    "def localidad(lat, lon):\n",
    "    \n",
    "    # hacemos la llamada  a la API\n",
    "    url = f'https://nominatim.openstreetmap.org/reverse?format=jsonv2&lat={lat}&lon={lon}'\n",
    "\n",
    "    response = requests.get(url=url)\n",
    "    codigo_estado = response.status_code\n",
    "    razon_estado = response.reason\n",
    "   \n",
    "    respuesta = response.json()\n",
    "    direccion = respuesta[\"address\"]\n",
    "    lista = direccion.keys()\n",
    "    \n",
    "    # Dependiendo del país y del tamaño, vienen con diferente denominación\n",
    "    if \"town\" in lista:        \n",
    "        return direccion[\"town\"]\n",
    "    elif \"city\" in lista:\n",
    "        return direccion[\"city\"]\n",
    "    elif \"village\" in lista:\n",
    "        return direccion[\"village\"]\n",
    "    elif \"municipality\" in lista:\n",
    "        return direccion[\"municipality\"]\n",
    "    else:\n",
    "        return \"desconocido\""
   ]
  },
  {
   "cell_type": "code",
   "execution_count": 37,
   "metadata": {},
   "outputs": [],
   "source": [
    "df[\"población\"] = df.apply(lambda pepe: localidad(pepe[\"latitud\"], pepe[\"longitud\"]), axis= 1)"
   ]
  },
  {
   "cell_type": "code",
   "execution_count": 38,
   "metadata": {},
   "outputs": [
    {
     "data": {
      "text/html": [
       "<div>\n",
       "<style scoped>\n",
       "    .dataframe tbody tr th:only-of-type {\n",
       "        vertical-align: middle;\n",
       "    }\n",
       "\n",
       "    .dataframe tbody tr th {\n",
       "        vertical-align: top;\n",
       "    }\n",
       "\n",
       "    .dataframe thead th {\n",
       "        text-align: right;\n",
       "    }\n",
       "</style>\n",
       "<table border=\"1\" class=\"dataframe\">\n",
       "  <thead>\n",
       "    <tr style=\"text-align: right;\">\n",
       "      <th></th>\n",
       "      <th>NOMBRE</th>\n",
       "      <th>latitud</th>\n",
       "      <th>longitud</th>\n",
       "      <th>precio</th>\n",
       "      <th>agua</th>\n",
       "      <th>wc</th>\n",
       "      <th>vaciado</th>\n",
       "      <th>población</th>\n",
       "    </tr>\n",
       "  </thead>\n",
       "  <tbody>\n",
       "    <tr>\n",
       "      <th>0</th>\n",
       "      <td>Area AC Hort de Soriano (Carcaixent)  (Gratuit...</td>\n",
       "      <td>39.06956</td>\n",
       "      <td>-0.4098</td>\n",
       "      <td>Gratuito</td>\n",
       "      <td>si</td>\n",
       "      <td>si</td>\n",
       "      <td>si</td>\n",
       "      <td>Carcaixent</td>\n",
       "    </tr>\n",
       "    <tr>\n",
       "      <th>1</th>\n",
       "      <td>Area de ac playa de BarraÃ±a (Boiro)  (Gratuit...</td>\n",
       "      <td>42.64159</td>\n",
       "      <td>-8.89696</td>\n",
       "      <td>Gratuito</td>\n",
       "      <td>si</td>\n",
       "      <td>si</td>\n",
       "      <td>desconocido</td>\n",
       "      <td>Boiro</td>\n",
       "    </tr>\n",
       "    <tr>\n",
       "      <th>2</th>\n",
       "      <td>Arreau Ã¡rea AC municipal  (2 eurosAgua:sivaci...</td>\n",
       "      <td>42.90715</td>\n",
       "      <td>0.35921</td>\n",
       "      <td>De pago</td>\n",
       "      <td>si</td>\n",
       "      <td>no</td>\n",
       "      <td>si</td>\n",
       "      <td>Arreau</td>\n",
       "    </tr>\n",
       "    <tr>\n",
       "      <th>3</th>\n",
       "      <td>Camper Area Campello Beach   (14eur/nocheAgua:...</td>\n",
       "      <td>38.39479</td>\n",
       "      <td>-0.41007</td>\n",
       "      <td>De pago</td>\n",
       "      <td>si</td>\n",
       "      <td>si</td>\n",
       "      <td>desconocido</td>\n",
       "      <td>el Campello</td>\n",
       "    </tr>\n",
       "    <tr>\n",
       "      <th>4</th>\n",
       "      <td>A CoruÃ±a  Gratuito: Si Pernocta: Si WC: Si Ag...</td>\n",
       "      <td>43.37179</td>\n",
       "      <td>-8.44443</td>\n",
       "      <td>Gratuito</td>\n",
       "      <td>si</td>\n",
       "      <td>si</td>\n",
       "      <td>desconocido</td>\n",
       "      <td>A Coruña</td>\n",
       "    </tr>\n",
       "  </tbody>\n",
       "</table>\n",
       "</div>"
      ],
      "text/plain": [
       "                                              NOMBRE   latitud  longitud  \\\n",
       "0  Area AC Hort de Soriano (Carcaixent)  (Gratuit...  39.06956   -0.4098   \n",
       "1  Area de ac playa de BarraÃ±a (Boiro)  (Gratuit...  42.64159  -8.89696   \n",
       "2  Arreau Ã¡rea AC municipal  (2 eurosAgua:sivaci...  42.90715   0.35921   \n",
       "3  Camper Area Campello Beach   (14eur/nocheAgua:...  38.39479  -0.41007   \n",
       "4  A CoruÃ±a  Gratuito: Si Pernocta: Si WC: Si Ag...  43.37179  -8.44443   \n",
       "\n",
       "     precio agua  wc      vaciado    población  \n",
       "0  Gratuito   si  si           si   Carcaixent  \n",
       "1  Gratuito   si  si  desconocido        Boiro  \n",
       "2   De pago   si  no           si       Arreau  \n",
       "3   De pago   si  si  desconocido  el Campello  \n",
       "4  Gratuito   si  si  desconocido     A Coruña  "
      ]
     },
     "execution_count": 38,
     "metadata": {},
     "output_type": "execute_result"
    }
   ],
   "source": [
    "df.head()"
   ]
  },
  {
   "cell_type": "code",
   "execution_count": 39,
   "metadata": {},
   "outputs": [
    {
     "data": {
      "text/plain": [
       "Encamp                  3\n",
       "Thann                   2\n",
       "Campan                  2\n",
       "Roma                    2\n",
       "Ljubljana               2\n",
       "                       ..\n",
       "Jumièges                1\n",
       "Kalmar                  1\n",
       "Karlskrona              1\n",
       "Kaysersberg-Vignoble    1\n",
       "Cúllar                  1\n",
       "Name: población, Length: 887, dtype: int64"
      ]
     },
     "execution_count": 39,
     "metadata": {},
     "output_type": "execute_result"
    }
   ],
   "source": [
    "df[\"población\"].value_counts()"
   ]
  },
  {
   "cell_type": "code",
   "execution_count": 41,
   "metadata": {},
   "outputs": [],
   "source": [
    "def region(lat, lon):\n",
    "    \n",
    "    # hacemos la llamada  a la API\n",
    "    url = f'https://nominatim.openstreetmap.org/reverse?format=jsonv2&lat={lat}&lon={lon}'\n",
    "\n",
    "    response = requests.get(url=url)\n",
    "    codigo_estado = response.status_code\n",
    "    razon_estado = response.reason\n",
    "   \n",
    "    respuesta = response.json()\n",
    "    direccion = respuesta[\"address\"]\n",
    "    lista = direccion.keys()\n",
    "    \n",
    "    if \"state\" in lista:\n",
    "        return direccion[\"state\"]\n",
    "    elif \"county\" in lista:\n",
    "        return direccion[\"county\"]\n",
    "    else:\n",
    "        return direccion[\"country\"]"
   ]
  },
  {
   "cell_type": "code",
   "execution_count": 42,
   "metadata": {},
   "outputs": [],
   "source": [
    "df[\"region\"] = df.apply(lambda pepe: region(pepe[\"latitud\"], pepe[\"longitud\"]), axis= 1)"
   ]
  },
  {
   "cell_type": "code",
   "execution_count": 43,
   "metadata": {},
   "outputs": [
    {
     "data": {
      "text/html": [
       "<div>\n",
       "<style scoped>\n",
       "    .dataframe tbody tr th:only-of-type {\n",
       "        vertical-align: middle;\n",
       "    }\n",
       "\n",
       "    .dataframe tbody tr th {\n",
       "        vertical-align: top;\n",
       "    }\n",
       "\n",
       "    .dataframe thead th {\n",
       "        text-align: right;\n",
       "    }\n",
       "</style>\n",
       "<table border=\"1\" class=\"dataframe\">\n",
       "  <thead>\n",
       "    <tr style=\"text-align: right;\">\n",
       "      <th></th>\n",
       "      <th>NOMBRE</th>\n",
       "      <th>latitud</th>\n",
       "      <th>longitud</th>\n",
       "      <th>precio</th>\n",
       "      <th>agua</th>\n",
       "      <th>wc</th>\n",
       "      <th>vaciado</th>\n",
       "      <th>población</th>\n",
       "      <th>region</th>\n",
       "    </tr>\n",
       "  </thead>\n",
       "  <tbody>\n",
       "    <tr>\n",
       "      <th>0</th>\n",
       "      <td>Area AC Hort de Soriano (Carcaixent)  (Gratuit...</td>\n",
       "      <td>39.06956</td>\n",
       "      <td>-0.4098</td>\n",
       "      <td>Gratuito</td>\n",
       "      <td>si</td>\n",
       "      <td>si</td>\n",
       "      <td>si</td>\n",
       "      <td>Carcaixent</td>\n",
       "      <td>Comunitat Valenciana</td>\n",
       "    </tr>\n",
       "    <tr>\n",
       "      <th>1</th>\n",
       "      <td>Area de ac playa de BarraÃ±a (Boiro)  (Gratuit...</td>\n",
       "      <td>42.64159</td>\n",
       "      <td>-8.89696</td>\n",
       "      <td>Gratuito</td>\n",
       "      <td>si</td>\n",
       "      <td>si</td>\n",
       "      <td>desconocido</td>\n",
       "      <td>Boiro</td>\n",
       "      <td>Galicia</td>\n",
       "    </tr>\n",
       "  </tbody>\n",
       "</table>\n",
       "</div>"
      ],
      "text/plain": [
       "                                              NOMBRE   latitud  longitud  \\\n",
       "0  Area AC Hort de Soriano (Carcaixent)  (Gratuit...  39.06956   -0.4098   \n",
       "1  Area de ac playa de BarraÃ±a (Boiro)  (Gratuit...  42.64159  -8.89696   \n",
       "\n",
       "     precio agua  wc      vaciado   población                region  \n",
       "0  Gratuito   si  si           si  Carcaixent  Comunitat Valenciana  \n",
       "1  Gratuito   si  si  desconocido       Boiro               Galicia  "
      ]
     },
     "execution_count": 43,
     "metadata": {},
     "output_type": "execute_result"
    }
   ],
   "source": [
    "df.head(2)"
   ]
  },
  {
   "cell_type": "code",
   "execution_count": 44,
   "metadata": {},
   "outputs": [
    {
     "data": {
      "text/plain": [
       "Nouvelle-Aquitaine     100\n",
       "Occitanie               66\n",
       "Catalunya               64\n",
       "Galicia                 58\n",
       "Andalucía               38\n",
       "                      ... \n",
       "Puglia                   1\n",
       "Norge                    1\n",
       "England                  1\n",
       "Comunidad de Madrid      1\n",
       "San Marino               1\n",
       "Name: region, Length: 111, dtype: int64"
      ]
     },
     "execution_count": 44,
     "metadata": {},
     "output_type": "execute_result"
    }
   ],
   "source": [
    "df[\"region\"].value_counts()"
   ]
  },
  {
   "cell_type": "code",
   "execution_count": 45,
   "metadata": {},
   "outputs": [],
   "source": [
    "def pais(lat, lon):\n",
    "    \n",
    "    # hacemos la llamada  a la API\n",
    "    url = f'https://nominatim.openstreetmap.org/reverse?format=jsonv2&lat={lat}&lon={lon}'\n",
    "\n",
    "    response = requests.get(url=url)\n",
    "    codigo_estado = response.status_code\n",
    "    razon_estado = response.reason\n",
    "   \n",
    "    respuesta = response.json()\n",
    "    direccion = respuesta[\"address\"]\n",
    "    lista = direccion.keys()\n",
    "    \n",
    "    return direccion[\"country\"]"
   ]
  },
  {
   "cell_type": "code",
   "execution_count": 46,
   "metadata": {},
   "outputs": [],
   "source": [
    "df[\"pais\"] = df.apply(lambda pepe: pais(pepe[\"latitud\"], pepe[\"longitud\"]), axis= 1)"
   ]
  },
  {
   "cell_type": "code",
   "execution_count": 47,
   "metadata": {},
   "outputs": [
    {
     "data": {
      "text/html": [
       "<div>\n",
       "<style scoped>\n",
       "    .dataframe tbody tr th:only-of-type {\n",
       "        vertical-align: middle;\n",
       "    }\n",
       "\n",
       "    .dataframe tbody tr th {\n",
       "        vertical-align: top;\n",
       "    }\n",
       "\n",
       "    .dataframe thead th {\n",
       "        text-align: right;\n",
       "    }\n",
       "</style>\n",
       "<table border=\"1\" class=\"dataframe\">\n",
       "  <thead>\n",
       "    <tr style=\"text-align: right;\">\n",
       "      <th></th>\n",
       "      <th>NOMBRE</th>\n",
       "      <th>latitud</th>\n",
       "      <th>longitud</th>\n",
       "      <th>precio</th>\n",
       "      <th>agua</th>\n",
       "      <th>wc</th>\n",
       "      <th>vaciado</th>\n",
       "      <th>población</th>\n",
       "      <th>region</th>\n",
       "      <th>pais</th>\n",
       "    </tr>\n",
       "  </thead>\n",
       "  <tbody>\n",
       "    <tr>\n",
       "      <th>0</th>\n",
       "      <td>Area AC Hort de Soriano (Carcaixent)  (Gratuit...</td>\n",
       "      <td>39.06956</td>\n",
       "      <td>-0.4098</td>\n",
       "      <td>Gratuito</td>\n",
       "      <td>si</td>\n",
       "      <td>si</td>\n",
       "      <td>si</td>\n",
       "      <td>Carcaixent</td>\n",
       "      <td>Comunitat Valenciana</td>\n",
       "      <td>España</td>\n",
       "    </tr>\n",
       "    <tr>\n",
       "      <th>1</th>\n",
       "      <td>Area de ac playa de BarraÃ±a (Boiro)  (Gratuit...</td>\n",
       "      <td>42.64159</td>\n",
       "      <td>-8.89696</td>\n",
       "      <td>Gratuito</td>\n",
       "      <td>si</td>\n",
       "      <td>si</td>\n",
       "      <td>desconocido</td>\n",
       "      <td>Boiro</td>\n",
       "      <td>Galicia</td>\n",
       "      <td>España</td>\n",
       "    </tr>\n",
       "  </tbody>\n",
       "</table>\n",
       "</div>"
      ],
      "text/plain": [
       "                                              NOMBRE   latitud  longitud  \\\n",
       "0  Area AC Hort de Soriano (Carcaixent)  (Gratuit...  39.06956   -0.4098   \n",
       "1  Area de ac playa de BarraÃ±a (Boiro)  (Gratuit...  42.64159  -8.89696   \n",
       "\n",
       "     precio agua  wc      vaciado   población                region    pais  \n",
       "0  Gratuito   si  si           si  Carcaixent  Comunitat Valenciana  España  \n",
       "1  Gratuito   si  si  desconocido       Boiro               Galicia  España  "
      ]
     },
     "execution_count": 47,
     "metadata": {},
     "output_type": "execute_result"
    }
   ],
   "source": [
    "df.head(2)"
   ]
  },
  {
   "cell_type": "code",
   "execution_count": 48,
   "metadata": {},
   "outputs": [
    {
     "data": {
      "text/plain": [
       "España                            347\n",
       "France                            343\n",
       "Deutschland                        62\n",
       "Italia                             59\n",
       "Portugal                           37\n",
       "Slovenija                          12\n",
       "Norge                              10\n",
       "Sverige                             8\n",
       "Andorra                             6\n",
       "Nederland                           5\n",
       "Danmark                             5\n",
       "België / Belgique / Belgien         5\n",
       "Schweiz/Suisse/Svizzera/Svizra      2\n",
       "Österreich                          2\n",
       "United Kingdom                      2\n",
       "Hrvatska                            2\n",
       "Australia                           1\n",
       "Suomi / Finland                     1\n",
       "Lëtzebuerg                          1\n",
       "Polska                              1\n",
       "Slovensko                           1\n",
       "San Marino                          1\n",
       "Name: pais, dtype: int64"
      ]
     },
     "execution_count": 48,
     "metadata": {},
     "output_type": "execute_result"
    }
   ],
   "source": [
    "df[\"pais\"].value_counts()"
   ]
  },
  {
   "cell_type": "code",
   "execution_count": 53,
   "metadata": {},
   "outputs": [
    {
     "data": {
      "text/html": [
       "<div>\n",
       "<style scoped>\n",
       "    .dataframe tbody tr th:only-of-type {\n",
       "        vertical-align: middle;\n",
       "    }\n",
       "\n",
       "    .dataframe tbody tr th {\n",
       "        vertical-align: top;\n",
       "    }\n",
       "\n",
       "    .dataframe thead th {\n",
       "        text-align: right;\n",
       "    }\n",
       "</style>\n",
       "<table border=\"1\" class=\"dataframe\">\n",
       "  <thead>\n",
       "    <tr style=\"text-align: right;\">\n",
       "      <th></th>\n",
       "      <th>latitud</th>\n",
       "      <th>longitud</th>\n",
       "      <th>precio</th>\n",
       "      <th>agua</th>\n",
       "      <th>wc</th>\n",
       "      <th>vaciado</th>\n",
       "      <th>población</th>\n",
       "      <th>region</th>\n",
       "      <th>pais</th>\n",
       "    </tr>\n",
       "  </thead>\n",
       "  <tbody>\n",
       "    <tr>\n",
       "      <th>0</th>\n",
       "      <td>39.06956</td>\n",
       "      <td>-0.4098</td>\n",
       "      <td>Gratuito</td>\n",
       "      <td>si</td>\n",
       "      <td>si</td>\n",
       "      <td>si</td>\n",
       "      <td>Carcaixent</td>\n",
       "      <td>Comunitat Valenciana</td>\n",
       "      <td>España</td>\n",
       "    </tr>\n",
       "    <tr>\n",
       "      <th>1</th>\n",
       "      <td>42.64159</td>\n",
       "      <td>-8.89696</td>\n",
       "      <td>Gratuito</td>\n",
       "      <td>si</td>\n",
       "      <td>si</td>\n",
       "      <td>desconocido</td>\n",
       "      <td>Boiro</td>\n",
       "      <td>Galicia</td>\n",
       "      <td>España</td>\n",
       "    </tr>\n",
       "  </tbody>\n",
       "</table>\n",
       "</div>"
      ],
      "text/plain": [
       "    latitud  longitud    precio agua  wc      vaciado   población  \\\n",
       "0  39.06956   -0.4098  Gratuito   si  si           si  Carcaixent   \n",
       "1  42.64159  -8.89696  Gratuito   si  si  desconocido       Boiro   \n",
       "\n",
       "                 region    pais  \n",
       "0  Comunitat Valenciana  España  \n",
       "1               Galicia  España  "
      ]
     },
     "execution_count": 53,
     "metadata": {},
     "output_type": "execute_result"
    }
   ],
   "source": [
    "df.head(2)"
   ]
  },
  {
   "cell_type": "code",
   "execution_count": 54,
   "metadata": {},
   "outputs": [
    {
     "data": {
      "text/html": [
       "<div>\n",
       "<style scoped>\n",
       "    .dataframe tbody tr th:only-of-type {\n",
       "        vertical-align: middle;\n",
       "    }\n",
       "\n",
       "    .dataframe tbody tr th {\n",
       "        vertical-align: top;\n",
       "    }\n",
       "\n",
       "    .dataframe thead th {\n",
       "        text-align: right;\n",
       "    }\n",
       "</style>\n",
       "<table border=\"1\" class=\"dataframe\">\n",
       "  <thead>\n",
       "    <tr style=\"text-align: right;\">\n",
       "      <th></th>\n",
       "      <th>latitud</th>\n",
       "      <th>longitud</th>\n",
       "      <th>población</th>\n",
       "      <th>region</th>\n",
       "      <th>pais</th>\n",
       "      <th>precio</th>\n",
       "      <th>agua</th>\n",
       "      <th>wc</th>\n",
       "      <th>vaciado</th>\n",
       "    </tr>\n",
       "  </thead>\n",
       "  <tbody>\n",
       "    <tr>\n",
       "      <th>0</th>\n",
       "      <td>39.06956</td>\n",
       "      <td>-0.4098</td>\n",
       "      <td>Carcaixent</td>\n",
       "      <td>Comunitat Valenciana</td>\n",
       "      <td>España</td>\n",
       "      <td>Gratuito</td>\n",
       "      <td>si</td>\n",
       "      <td>si</td>\n",
       "      <td>si</td>\n",
       "    </tr>\n",
       "    <tr>\n",
       "      <th>1</th>\n",
       "      <td>42.64159</td>\n",
       "      <td>-8.89696</td>\n",
       "      <td>Boiro</td>\n",
       "      <td>Galicia</td>\n",
       "      <td>España</td>\n",
       "      <td>Gratuito</td>\n",
       "      <td>si</td>\n",
       "      <td>si</td>\n",
       "      <td>desconocido</td>\n",
       "    </tr>\n",
       "  </tbody>\n",
       "</table>\n",
       "</div>"
      ],
      "text/plain": [
       "    latitud  longitud   población                region    pais    precio  \\\n",
       "0  39.06956   -0.4098  Carcaixent  Comunitat Valenciana  España  Gratuito   \n",
       "1  42.64159  -8.89696       Boiro               Galicia  España  Gratuito   \n",
       "\n",
       "  agua  wc      vaciado  \n",
       "0   si  si           si  \n",
       "1   si  si  desconocido  "
      ]
     },
     "execution_count": 54,
     "metadata": {},
     "output_type": "execute_result"
    }
   ],
   "source": [
    "df = df.reindex(columns=[\"latitud\", \"longitud\", \"población\", \"region\", \"pais\", \"precio\", \"agua\", \"wc\", \"vaciado\"])\n",
    "df.head(2)"
   ]
  },
  {
   "cell_type": "code",
   "execution_count": 55,
   "metadata": {},
   "outputs": [],
   "source": [
    "df.to_csv(\"ficheros/areas_limpio.csv\")"
   ]
  }
 ],
 "metadata": {
  "kernelspec": {
   "display_name": "base",
   "language": "python",
   "name": "python3"
  },
  "language_info": {
   "codemirror_mode": {
    "name": "ipython",
    "version": 3
   },
   "file_extension": ".py",
   "mimetype": "text/x-python",
   "name": "python",
   "nbconvert_exporter": "python",
   "pygments_lexer": "ipython3",
   "version": "3.9.7 (default, Sep 16 2021, 13:09:58) \n[GCC 7.5.0]"
  },
  "orig_nbformat": 4,
  "vscode": {
   "interpreter": {
    "hash": "8a5edab282632443219e051e4ade2d1d5bbc671c781051bf1437897cbdfea0f1"
   }
  }
 },
 "nbformat": 4,
 "nbformat_minor": 2
}
