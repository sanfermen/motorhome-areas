{
 "cells": [
  {
   "cell_type": "code",
   "execution_count": 2,
   "metadata": {},
   "outputs": [],
   "source": [
    "import pandas as pd\n",
    "from meteostat import Stations, Point, Monthly, Daily\n",
    "from datetime import date, datetime\n",
    "import time\n",
    "import numpy as np\n",
    "\n",
    "import warnings\n",
    "warnings.filterwarnings(\"ignore\")"
   ]
  },
  {
   "cell_type": "code",
   "execution_count": 3,
   "metadata": {},
   "outputs": [
    {
     "data": {
      "text/html": [
       "<div>\n",
       "<style scoped>\n",
       "    .dataframe tbody tr th:only-of-type {\n",
       "        vertical-align: middle;\n",
       "    }\n",
       "\n",
       "    .dataframe tbody tr th {\n",
       "        vertical-align: top;\n",
       "    }\n",
       "\n",
       "    .dataframe thead th {\n",
       "        text-align: right;\n",
       "    }\n",
       "</style>\n",
       "<table border=\"1\" class=\"dataframe\">\n",
       "  <thead>\n",
       "    <tr style=\"text-align: right;\">\n",
       "      <th></th>\n",
       "      <th>latitude</th>\n",
       "      <th>longitude</th>\n",
       "      <th>town</th>\n",
       "      <th>region</th>\n",
       "      <th>country</th>\n",
       "      <th>price</th>\n",
       "      <th>water</th>\n",
       "      <th>wc</th>\n",
       "      <th>grey_water</th>\n",
       "    </tr>\n",
       "  </thead>\n",
       "  <tbody>\n",
       "    <tr>\n",
       "      <th>0</th>\n",
       "      <td>39.06956</td>\n",
       "      <td>-0.40980</td>\n",
       "      <td>Carcaixent</td>\n",
       "      <td>Comunitat Valenciana</td>\n",
       "      <td>España</td>\n",
       "      <td>Free</td>\n",
       "      <td>yes</td>\n",
       "      <td>yes</td>\n",
       "      <td>yes</td>\n",
       "    </tr>\n",
       "    <tr>\n",
       "      <th>1</th>\n",
       "      <td>42.64159</td>\n",
       "      <td>-8.89696</td>\n",
       "      <td>Boiro</td>\n",
       "      <td>Galicia</td>\n",
       "      <td>España</td>\n",
       "      <td>Free</td>\n",
       "      <td>yes</td>\n",
       "      <td>yes</td>\n",
       "      <td>unknown</td>\n",
       "    </tr>\n",
       "    <tr>\n",
       "      <th>2</th>\n",
       "      <td>42.90715</td>\n",
       "      <td>0.35921</td>\n",
       "      <td>Arreau</td>\n",
       "      <td>Occitanie</td>\n",
       "      <td>France</td>\n",
       "      <td>Paying</td>\n",
       "      <td>yes</td>\n",
       "      <td>no</td>\n",
       "      <td>yes</td>\n",
       "    </tr>\n",
       "    <tr>\n",
       "      <th>3</th>\n",
       "      <td>38.39479</td>\n",
       "      <td>-0.41007</td>\n",
       "      <td>el Campello</td>\n",
       "      <td>Comunitat Valenciana</td>\n",
       "      <td>España</td>\n",
       "      <td>Paying</td>\n",
       "      <td>yes</td>\n",
       "      <td>yes</td>\n",
       "      <td>unknown</td>\n",
       "    </tr>\n",
       "    <tr>\n",
       "      <th>4</th>\n",
       "      <td>43.37179</td>\n",
       "      <td>-8.44443</td>\n",
       "      <td>A Coruña</td>\n",
       "      <td>Galicia</td>\n",
       "      <td>España</td>\n",
       "      <td>Free</td>\n",
       "      <td>yes</td>\n",
       "      <td>yes</td>\n",
       "      <td>unknown</td>\n",
       "    </tr>\n",
       "  </tbody>\n",
       "</table>\n",
       "</div>"
      ],
      "text/plain": [
       "   latitude  longitude         town                region country   price  \\\n",
       "0  39.06956   -0.40980   Carcaixent  Comunitat Valenciana  España    Free   \n",
       "1  42.64159   -8.89696        Boiro               Galicia  España    Free   \n",
       "2  42.90715    0.35921       Arreau             Occitanie  France  Paying   \n",
       "3  38.39479   -0.41007  el Campello  Comunitat Valenciana  España  Paying   \n",
       "4  43.37179   -8.44443     A Coruña               Galicia  España    Free   \n",
       "\n",
       "  water   wc grey_water  \n",
       "0   yes  yes        yes  \n",
       "1   yes  yes    unknown  \n",
       "2   yes   no        yes  \n",
       "3   yes  yes    unknown  \n",
       "4   yes  yes    unknown  "
      ]
     },
     "execution_count": 3,
     "metadata": {},
     "output_type": "execute_result"
    }
   ],
   "source": [
    "df = pd.read_csv(\"../files/03-areas_country.csv\", index_col=0)\n",
    "df.head()"
   ]
  },
  {
   "attachments": {},
   "cell_type": "markdown",
   "metadata": {},
   "source": [
    "### Average temperature and precipitation by month from 1-1-2000 70 31-12-2022"
   ]
  },
  {
   "cell_type": "code",
   "execution_count": 4,
   "metadata": {},
   "outputs": [],
   "source": [
    "def weather_month(dataf, weat):\n",
    "    \n",
    "    # Dictionary to change the columns name\n",
    "    month_dict = {1: \"Jan\", 2: \"Feb\", 3: \"Mar\", 4: \"Apr\", 5: \"May\", 6: \"Jun\",\n",
    "                7: \"Jul\", 8: \"Aug\", 9: \"Sep\", 10: \"Oct\", 11: \"Nov\", 12: \"Dec\"}\n",
    "\n",
    "    data_list = [] # empty list to append the row dataframe\n",
    "\n",
    "    for ind, row in dataf.iterrows(): # iterate over the rows of the dataf\n",
    "        lat = row[\"latitude\"] # we need the latitude and the longitude to get the nearby stations\n",
    "        lon = row[\"longitude\"]\n",
    "    \n",
    "        # set time period\n",
    "        start = datetime(2000, 1, 1) \n",
    "        end = datetime(2022, 12, 31)\n",
    "\n",
    "        # get nearby stations\n",
    "        stations = Stations()\n",
    "        stations = stations.nearby(lat,lon)\n",
    "\n",
    "        # select a station with data for the selected period\n",
    "        try:\n",
    "            station = stations.fetch(4)\n",
    "            station = station[station[\"daily_end\"] > \"2002-01-01\"]\n",
    "            station_name = station.index[0]\n",
    "        except:\n",
    "            station = stations.fetch(4)\n",
    "            station_name = station.index[0]\n",
    "\n",
    "        # get daily data\n",
    "        data = Daily(station_name, start, end)\n",
    "        data = data.fetch()\n",
    "        data.reset_index(inplace=True)\n",
    "        data[\"time\"] = pd.to_datetime(data[\"time\"]) # convert the \"time\" column to datetime\n",
    "        data[\"month\"] = data[\"time\"].dt.month # extract the month from \"time\"\n",
    "\n",
    "        t_media = round(data.groupby(\"month\")[weat].mean(),2) # group by month and extract the average temperature\n",
    "        df_temp = t_media.to_frame().rename_axis(None, axis=0).T # convert to dataframe\n",
    "        \n",
    "        # add columns for lat, long, town and country\n",
    "        df_temp[\"latitude\"] = lat \n",
    "        df_temp[\"longitude\"] = lon\n",
    "        df_temp[\"town\"] = row[\"town\"]\n",
    "        df_temp[\"country\"] = row[\"country\"]\n",
    "        data_list.append(df_temp) # append the dataframe to the list\n",
    "    \n",
    "    # concat all the dataframe y the list and rename columns\n",
    "    dat = pd.concat(data_list, axis=0, ignore_index= True)\n",
    "    dat.rename(columns=month_dict, inplace= True)\n",
    "\n",
    "    return dat"
   ]
  },
  {
   "attachments": {},
   "cell_type": "markdown",
   "metadata": {},
   "source": [
    "### Weather data to obtain\n",
    "- **\"tavg\"** for temperature (average air temperature in ºC)\n",
    "- **\"prcp\"** for precipitation (daily precipitation total in mm)\n",
    "- It's also posible to obtain *\"snow\"* (snow depth in mm), *\"tmin\"* (minimun air temperature in ºC), *\"tmax\"* (maximum air temperature in ºC), *\"wdir\"* (average wind direction in degrees), *\"wspd\"*, average wind speed in km/h)"
   ]
  },
  {
   "cell_type": "code",
   "execution_count": 59,
   "metadata": {},
   "outputs": [],
   "source": [
    "# Create a dataf for the temperature\n",
    "df_avgtemperature = weather_month(df, \"tavg\")"
   ]
  },
  {
   "cell_type": "code",
   "execution_count": 60,
   "metadata": {},
   "outputs": [
    {
     "data": {
      "text/html": [
       "<div>\n",
       "<style scoped>\n",
       "    .dataframe tbody tr th:only-of-type {\n",
       "        vertical-align: middle;\n",
       "    }\n",
       "\n",
       "    .dataframe tbody tr th {\n",
       "        vertical-align: top;\n",
       "    }\n",
       "\n",
       "    .dataframe thead th {\n",
       "        text-align: right;\n",
       "    }\n",
       "</style>\n",
       "<table border=\"1\" class=\"dataframe\">\n",
       "  <thead>\n",
       "    <tr style=\"text-align: right;\">\n",
       "      <th></th>\n",
       "      <th>Jan</th>\n",
       "      <th>Feb</th>\n",
       "      <th>Mar</th>\n",
       "      <th>Apr</th>\n",
       "      <th>May</th>\n",
       "      <th>Jun</th>\n",
       "      <th>Jul</th>\n",
       "      <th>Aug</th>\n",
       "      <th>Sep</th>\n",
       "      <th>Oct</th>\n",
       "      <th>Nov</th>\n",
       "      <th>Dec</th>\n",
       "      <th>latitude</th>\n",
       "      <th>longitude</th>\n",
       "      <th>town</th>\n",
       "      <th>country</th>\n",
       "    </tr>\n",
       "  </thead>\n",
       "  <tbody>\n",
       "    <tr>\n",
       "      <th>0</th>\n",
       "      <td>11.30</td>\n",
       "      <td>12.66</td>\n",
       "      <td>13.59</td>\n",
       "      <td>15.29</td>\n",
       "      <td>19.32</td>\n",
       "      <td>23.25</td>\n",
       "      <td>26.31</td>\n",
       "      <td>26.63</td>\n",
       "      <td>23.66</td>\n",
       "      <td>19.62</td>\n",
       "      <td>14.99</td>\n",
       "      <td>12.99</td>\n",
       "      <td>39.06956</td>\n",
       "      <td>-0.40980</td>\n",
       "      <td>Carcaixent</td>\n",
       "      <td>España</td>\n",
       "    </tr>\n",
       "    <tr>\n",
       "      <th>1</th>\n",
       "      <td>9.67</td>\n",
       "      <td>10.48</td>\n",
       "      <td>12.25</td>\n",
       "      <td>14.01</td>\n",
       "      <td>16.56</td>\n",
       "      <td>19.19</td>\n",
       "      <td>20.99</td>\n",
       "      <td>20.97</td>\n",
       "      <td>19.41</td>\n",
       "      <td>16.36</td>\n",
       "      <td>12.17</td>\n",
       "      <td>10.41</td>\n",
       "      <td>42.64159</td>\n",
       "      <td>-8.89696</td>\n",
       "      <td>Boiro</td>\n",
       "      <td>España</td>\n",
       "    </tr>\n",
       "    <tr>\n",
       "      <th>2</th>\n",
       "      <td>5.22</td>\n",
       "      <td>6.17</td>\n",
       "      <td>8.84</td>\n",
       "      <td>11.27</td>\n",
       "      <td>14.62</td>\n",
       "      <td>18.40</td>\n",
       "      <td>19.91</td>\n",
       "      <td>19.96</td>\n",
       "      <td>17.30</td>\n",
       "      <td>13.86</td>\n",
       "      <td>8.55</td>\n",
       "      <td>6.17</td>\n",
       "      <td>42.90715</td>\n",
       "      <td>0.35921</td>\n",
       "      <td>Arreau</td>\n",
       "      <td>France</td>\n",
       "    </tr>\n",
       "    <tr>\n",
       "      <th>3</th>\n",
       "      <td>11.41</td>\n",
       "      <td>12.96</td>\n",
       "      <td>14.20</td>\n",
       "      <td>16.21</td>\n",
       "      <td>20.07</td>\n",
       "      <td>23.99</td>\n",
       "      <td>26.89</td>\n",
       "      <td>26.89</td>\n",
       "      <td>24.03</td>\n",
       "      <td>19.88</td>\n",
       "      <td>15.27</td>\n",
       "      <td>12.87</td>\n",
       "      <td>38.39479</td>\n",
       "      <td>-0.41007</td>\n",
       "      <td>el Campello</td>\n",
       "      <td>España</td>\n",
       "    </tr>\n",
       "    <tr>\n",
       "      <th>4</th>\n",
       "      <td>10.81</td>\n",
       "      <td>10.98</td>\n",
       "      <td>12.04</td>\n",
       "      <td>13.02</td>\n",
       "      <td>15.09</td>\n",
       "      <td>17.34</td>\n",
       "      <td>18.92</td>\n",
       "      <td>19.42</td>\n",
       "      <td>18.53</td>\n",
       "      <td>16.41</td>\n",
       "      <td>13.12</td>\n",
       "      <td>11.68</td>\n",
       "      <td>43.37179</td>\n",
       "      <td>-8.44443</td>\n",
       "      <td>A Coruña</td>\n",
       "      <td>España</td>\n",
       "    </tr>\n",
       "  </tbody>\n",
       "</table>\n",
       "</div>"
      ],
      "text/plain": [
       "     Jan    Feb    Mar    Apr    May    Jun    Jul    Aug    Sep    Oct  \\\n",
       "0  11.30  12.66  13.59  15.29  19.32  23.25  26.31  26.63  23.66  19.62   \n",
       "1   9.67  10.48  12.25  14.01  16.56  19.19  20.99  20.97  19.41  16.36   \n",
       "2   5.22   6.17   8.84  11.27  14.62  18.40  19.91  19.96  17.30  13.86   \n",
       "3  11.41  12.96  14.20  16.21  20.07  23.99  26.89  26.89  24.03  19.88   \n",
       "4  10.81  10.98  12.04  13.02  15.09  17.34  18.92  19.42  18.53  16.41   \n",
       "\n",
       "     Nov    Dec  latitude  longitude         town country  \n",
       "0  14.99  12.99  39.06956   -0.40980   Carcaixent  España  \n",
       "1  12.17  10.41  42.64159   -8.89696        Boiro  España  \n",
       "2   8.55   6.17  42.90715    0.35921       Arreau  France  \n",
       "3  15.27  12.87  38.39479   -0.41007  el Campello  España  \n",
       "4  13.12  11.68  43.37179   -8.44443     A Coruña  España  "
      ]
     },
     "execution_count": 60,
     "metadata": {},
     "output_type": "execute_result"
    }
   ],
   "source": [
    "df_avgtemperature.head()"
   ]
  },
  {
   "cell_type": "code",
   "execution_count": 61,
   "metadata": {},
   "outputs": [
    {
     "data": {
      "text/plain": [
       "Jan          0\n",
       "Feb          0\n",
       "Mar          0\n",
       "Apr          0\n",
       "May          0\n",
       "Jun          0\n",
       "Jul          0\n",
       "Aug          0\n",
       "Sep          0\n",
       "Oct          0\n",
       "Nov          0\n",
       "Dec          0\n",
       "latitude     0\n",
       "longitude    0\n",
       "town         0\n",
       "country      0\n",
       "dtype: int64"
      ]
     },
     "execution_count": 61,
     "metadata": {},
     "output_type": "execute_result"
    }
   ],
   "source": [
    "\n",
    "df_avgtemperature.isnull().sum()"
   ]
  },
  {
   "cell_type": "code",
   "execution_count": 62,
   "metadata": {},
   "outputs": [
    {
     "data": {
      "text/plain": [
       "(913, 16)"
      ]
     },
     "execution_count": 62,
     "metadata": {},
     "output_type": "execute_result"
    }
   ],
   "source": [
    "df_avgtemperature.shape"
   ]
  },
  {
   "cell_type": "code",
   "execution_count": 66,
   "metadata": {},
   "outputs": [],
   "source": [
    "towns = df_avgtemperature.town.unique().tolist()"
   ]
  },
  {
   "cell_type": "code",
   "execution_count": 68,
   "metadata": {},
   "outputs": [
    {
     "data": {
      "text/plain": [
       "887"
      ]
     },
     "execution_count": 68,
     "metadata": {},
     "output_type": "execute_result"
    }
   ],
   "source": [
    "len(towns)"
   ]
  },
  {
   "cell_type": "code",
   "execution_count": 63,
   "metadata": {},
   "outputs": [
    {
     "data": {
      "text/plain": [
       "Encamp                  3\n",
       "Thann                   2\n",
       "Campan                  2\n",
       "Roma                    2\n",
       "Ljubljana               2\n",
       "                       ..\n",
       "Jumièges                1\n",
       "Kalmar                  1\n",
       "Karlskrona              1\n",
       "Kaysersberg-Vignoble    1\n",
       "Cúllar                  1\n",
       "Name: town, Length: 887, dtype: int64"
      ]
     },
     "execution_count": 63,
     "metadata": {},
     "output_type": "execute_result"
    }
   ],
   "source": [
    "df_avgtemperature.town.value_counts()"
   ]
  },
  {
   "cell_type": "code",
   "execution_count": 69,
   "metadata": {},
   "outputs": [],
   "source": [
    "town_list = df_avgtemperature.town.value_counts()[df_avgtemperature.town.value_counts()>1].index.tolist()"
   ]
  },
  {
   "cell_type": "code",
   "execution_count": 70,
   "metadata": {},
   "outputs": [
    {
     "data": {
      "text/plain": [
       "25"
      ]
     },
     "execution_count": 70,
     "metadata": {},
     "output_type": "execute_result"
    }
   ],
   "source": [
    "len(town_list)"
   ]
  },
  {
   "cell_type": "code",
   "execution_count": 71,
   "metadata": {},
   "outputs": [],
   "source": [
    "df_avgtemperature = df_avgtemperature.drop_duplicates(subset=[\"town\"])"
   ]
  },
  {
   "cell_type": "code",
   "execution_count": 72,
   "metadata": {},
   "outputs": [
    {
     "data": {
      "text/html": [
       "<div>\n",
       "<style scoped>\n",
       "    .dataframe tbody tr th:only-of-type {\n",
       "        vertical-align: middle;\n",
       "    }\n",
       "\n",
       "    .dataframe tbody tr th {\n",
       "        vertical-align: top;\n",
       "    }\n",
       "\n",
       "    .dataframe thead th {\n",
       "        text-align: right;\n",
       "    }\n",
       "</style>\n",
       "<table border=\"1\" class=\"dataframe\">\n",
       "  <thead>\n",
       "    <tr style=\"text-align: right;\">\n",
       "      <th></th>\n",
       "      <th>Jan</th>\n",
       "      <th>Feb</th>\n",
       "      <th>Mar</th>\n",
       "      <th>Apr</th>\n",
       "      <th>May</th>\n",
       "      <th>Jun</th>\n",
       "      <th>Jul</th>\n",
       "      <th>Aug</th>\n",
       "      <th>Sep</th>\n",
       "      <th>Oct</th>\n",
       "      <th>Nov</th>\n",
       "      <th>Dec</th>\n",
       "      <th>latitude</th>\n",
       "      <th>longitude</th>\n",
       "      <th>town</th>\n",
       "      <th>country</th>\n",
       "    </tr>\n",
       "  </thead>\n",
       "  <tbody>\n",
       "    <tr>\n",
       "      <th>0</th>\n",
       "      <td>11.30</td>\n",
       "      <td>12.66</td>\n",
       "      <td>13.59</td>\n",
       "      <td>15.29</td>\n",
       "      <td>19.32</td>\n",
       "      <td>23.25</td>\n",
       "      <td>26.31</td>\n",
       "      <td>26.63</td>\n",
       "      <td>23.66</td>\n",
       "      <td>19.62</td>\n",
       "      <td>14.99</td>\n",
       "      <td>12.99</td>\n",
       "      <td>39.06956</td>\n",
       "      <td>-0.40980</td>\n",
       "      <td>Carcaixent</td>\n",
       "      <td>España</td>\n",
       "    </tr>\n",
       "    <tr>\n",
       "      <th>1</th>\n",
       "      <td>9.67</td>\n",
       "      <td>10.48</td>\n",
       "      <td>12.25</td>\n",
       "      <td>14.01</td>\n",
       "      <td>16.56</td>\n",
       "      <td>19.19</td>\n",
       "      <td>20.99</td>\n",
       "      <td>20.97</td>\n",
       "      <td>19.41</td>\n",
       "      <td>16.36</td>\n",
       "      <td>12.17</td>\n",
       "      <td>10.41</td>\n",
       "      <td>42.64159</td>\n",
       "      <td>-8.89696</td>\n",
       "      <td>Boiro</td>\n",
       "      <td>España</td>\n",
       "    </tr>\n",
       "  </tbody>\n",
       "</table>\n",
       "</div>"
      ],
      "text/plain": [
       "     Jan    Feb    Mar    Apr    May    Jun    Jul    Aug    Sep    Oct  \\\n",
       "0  11.30  12.66  13.59  15.29  19.32  23.25  26.31  26.63  23.66  19.62   \n",
       "1   9.67  10.48  12.25  14.01  16.56  19.19  20.99  20.97  19.41  16.36   \n",
       "\n",
       "     Nov    Dec  latitude  longitude        town country  \n",
       "0  14.99  12.99  39.06956   -0.40980  Carcaixent  España  \n",
       "1  12.17  10.41  42.64159   -8.89696       Boiro  España  "
      ]
     },
     "execution_count": 72,
     "metadata": {},
     "output_type": "execute_result"
    }
   ],
   "source": [
    "df_avgtemperature.head(2)"
   ]
  },
  {
   "cell_type": "code",
   "execution_count": 73,
   "metadata": {},
   "outputs": [
    {
     "data": {
      "text/plain": [
       "Carcaixent               1\n",
       "Villefranche-d'Allier    1\n",
       "Vercelli                 1\n",
       "Vernet-les-Bains         1\n",
       "Saint-Géry-Vers          1\n",
       "                        ..\n",
       "Ichtershausen            1\n",
       "A Illa de Arousa         1\n",
       "Vera                     1\n",
       "Langon                   1\n",
       "Cúllar                   1\n",
       "Name: town, Length: 887, dtype: int64"
      ]
     },
     "execution_count": 73,
     "metadata": {},
     "output_type": "execute_result"
    }
   ],
   "source": [
    "df_avgtemperature.town.value_counts()"
   ]
  },
  {
   "cell_type": "code",
   "execution_count": 74,
   "metadata": {},
   "outputs": [
    {
     "data": {
      "text/plain": [
       "(887, 16)"
      ]
     },
     "execution_count": 74,
     "metadata": {},
     "output_type": "execute_result"
    }
   ],
   "source": [
    "df_avgtemperature.shape"
   ]
  },
  {
   "cell_type": "code",
   "execution_count": 101,
   "metadata": {},
   "outputs": [],
   "source": [
    "df_avgtemperature = df_avgtemperature.reset_index()"
   ]
  },
  {
   "cell_type": "code",
   "execution_count": 102,
   "metadata": {},
   "outputs": [],
   "source": [
    "df_avgtemperature.to_csv(\"../files/04-average-temperature.csv\") # Save to csv"
   ]
  },
  {
   "cell_type": "code",
   "execution_count": 89,
   "metadata": {},
   "outputs": [],
   "source": [
    "df_precipitation = weather_month(df, \"prcp\") # Create a dataf for precipitation"
   ]
  },
  {
   "cell_type": "code",
   "execution_count": 90,
   "metadata": {},
   "outputs": [
    {
     "data": {
      "text/html": [
       "<div>\n",
       "<style scoped>\n",
       "    .dataframe tbody tr th:only-of-type {\n",
       "        vertical-align: middle;\n",
       "    }\n",
       "\n",
       "    .dataframe tbody tr th {\n",
       "        vertical-align: top;\n",
       "    }\n",
       "\n",
       "    .dataframe thead th {\n",
       "        text-align: right;\n",
       "    }\n",
       "</style>\n",
       "<table border=\"1\" class=\"dataframe\">\n",
       "  <thead>\n",
       "    <tr style=\"text-align: right;\">\n",
       "      <th></th>\n",
       "      <th>Jan</th>\n",
       "      <th>Feb</th>\n",
       "      <th>Mar</th>\n",
       "      <th>Apr</th>\n",
       "      <th>May</th>\n",
       "      <th>Jun</th>\n",
       "      <th>Jul</th>\n",
       "      <th>Aug</th>\n",
       "      <th>Sep</th>\n",
       "      <th>Oct</th>\n",
       "      <th>Nov</th>\n",
       "      <th>Dec</th>\n",
       "      <th>latitude</th>\n",
       "      <th>longitude</th>\n",
       "      <th>town</th>\n",
       "      <th>country</th>\n",
       "    </tr>\n",
       "  </thead>\n",
       "  <tbody>\n",
       "    <tr>\n",
       "      <th>0</th>\n",
       "      <td>1.16</td>\n",
       "      <td>0.94</td>\n",
       "      <td>1.65</td>\n",
       "      <td>1.35</td>\n",
       "      <td>1.57</td>\n",
       "      <td>0.89</td>\n",
       "      <td>0.23</td>\n",
       "      <td>0.55</td>\n",
       "      <td>2.35</td>\n",
       "      <td>2.22</td>\n",
       "      <td>2.11</td>\n",
       "      <td>1.19</td>\n",
       "      <td>39.06956</td>\n",
       "      <td>-0.40980</td>\n",
       "      <td>Carcaixent</td>\n",
       "      <td>España</td>\n",
       "    </tr>\n",
       "    <tr>\n",
       "      <th>1</th>\n",
       "      <td>6.03</td>\n",
       "      <td>4.46</td>\n",
       "      <td>4.71</td>\n",
       "      <td>4.79</td>\n",
       "      <td>3.13</td>\n",
       "      <td>2.03</td>\n",
       "      <td>1.29</td>\n",
       "      <td>1.64</td>\n",
       "      <td>2.22</td>\n",
       "      <td>7.01</td>\n",
       "      <td>7.07</td>\n",
       "      <td>7.06</td>\n",
       "      <td>42.64159</td>\n",
       "      <td>-8.89696</td>\n",
       "      <td>Boiro</td>\n",
       "      <td>España</td>\n",
       "    </tr>\n",
       "    <tr>\n",
       "      <th>2</th>\n",
       "      <td>3.43</td>\n",
       "      <td>2.86</td>\n",
       "      <td>2.60</td>\n",
       "      <td>3.17</td>\n",
       "      <td>3.26</td>\n",
       "      <td>2.38</td>\n",
       "      <td>2.03</td>\n",
       "      <td>1.88</td>\n",
       "      <td>2.25</td>\n",
       "      <td>2.28</td>\n",
       "      <td>3.72</td>\n",
       "      <td>2.93</td>\n",
       "      <td>42.90715</td>\n",
       "      <td>0.35921</td>\n",
       "      <td>Arreau</td>\n",
       "      <td>France</td>\n",
       "    </tr>\n",
       "  </tbody>\n",
       "</table>\n",
       "</div>"
      ],
      "text/plain": [
       "    Jan   Feb   Mar   Apr   May   Jun   Jul   Aug   Sep   Oct   Nov   Dec  \\\n",
       "0  1.16  0.94  1.65  1.35  1.57  0.89  0.23  0.55  2.35  2.22  2.11  1.19   \n",
       "1  6.03  4.46  4.71  4.79  3.13  2.03  1.29  1.64  2.22  7.01  7.07  7.06   \n",
       "2  3.43  2.86  2.60  3.17  3.26  2.38  2.03  1.88  2.25  2.28  3.72  2.93   \n",
       "\n",
       "   latitude  longitude        town country  \n",
       "0  39.06956   -0.40980  Carcaixent  España  \n",
       "1  42.64159   -8.89696       Boiro  España  \n",
       "2  42.90715    0.35921      Arreau  France  "
      ]
     },
     "execution_count": 90,
     "metadata": {},
     "output_type": "execute_result"
    }
   ],
   "source": [
    "df_precipitation.head(3)"
   ]
  },
  {
   "cell_type": "code",
   "execution_count": 91,
   "metadata": {},
   "outputs": [
    {
     "data": {
      "text/plain": [
       "Jan          126\n",
       "Feb          126\n",
       "Mar          128\n",
       "Apr          127\n",
       "May           13\n",
       "Jun           13\n",
       "Jul           13\n",
       "Aug           13\n",
       "Sep           13\n",
       "Oct           13\n",
       "Nov           13\n",
       "Dec           13\n",
       "latitude       0\n",
       "longitude      0\n",
       "town           0\n",
       "country        0\n",
       "dtype: int64"
      ]
     },
     "execution_count": 91,
     "metadata": {},
     "output_type": "execute_result"
    }
   ],
   "source": [
    "df_precipitation.isnull().sum()"
   ]
  },
  {
   "cell_type": "code",
   "execution_count": 92,
   "metadata": {},
   "outputs": [],
   "source": [
    "null_list = df_precipitation[df_precipitation.loc[:,\"Jan\":\"Dec\"].isnull().all(axis=1)].index.tolist()"
   ]
  },
  {
   "cell_type": "code",
   "execution_count": 93,
   "metadata": {},
   "outputs": [
    {
     "data": {
      "text/plain": [
       "[9, 66, 75, 133, 174, 175, 344, 425, 531, 560, 620, 669, 726]"
      ]
     },
     "execution_count": 93,
     "metadata": {},
     "output_type": "execute_result"
    }
   ],
   "source": [
    "null_list"
   ]
  },
  {
   "cell_type": "code",
   "execution_count": 94,
   "metadata": {},
   "outputs": [],
   "source": [
    "df_precipitation.drop(null_list, axis=0, inplace=True)"
   ]
  },
  {
   "cell_type": "code",
   "execution_count": 96,
   "metadata": {},
   "outputs": [
    {
     "data": {
      "text/html": [
       "<div>\n",
       "<style scoped>\n",
       "    .dataframe tbody tr th:only-of-type {\n",
       "        vertical-align: middle;\n",
       "    }\n",
       "\n",
       "    .dataframe tbody tr th {\n",
       "        vertical-align: top;\n",
       "    }\n",
       "\n",
       "    .dataframe thead th {\n",
       "        text-align: right;\n",
       "    }\n",
       "</style>\n",
       "<table border=\"1\" class=\"dataframe\">\n",
       "  <thead>\n",
       "    <tr style=\"text-align: right;\">\n",
       "      <th></th>\n",
       "      <th>Jan</th>\n",
       "      <th>Feb</th>\n",
       "      <th>Mar</th>\n",
       "      <th>Apr</th>\n",
       "      <th>May</th>\n",
       "      <th>Jun</th>\n",
       "      <th>Jul</th>\n",
       "      <th>Aug</th>\n",
       "      <th>Sep</th>\n",
       "      <th>Oct</th>\n",
       "      <th>Nov</th>\n",
       "      <th>Dec</th>\n",
       "      <th>latitude</th>\n",
       "      <th>longitude</th>\n",
       "      <th>town</th>\n",
       "      <th>country</th>\n",
       "    </tr>\n",
       "  </thead>\n",
       "  <tbody>\n",
       "    <tr>\n",
       "      <th>910</th>\n",
       "      <td>1.16</td>\n",
       "      <td>1.28</td>\n",
       "      <td>1.53</td>\n",
       "      <td>2.17</td>\n",
       "      <td>0.99</td>\n",
       "      <td>0.02</td>\n",
       "      <td>0.06</td>\n",
       "      <td>0.02</td>\n",
       "      <td>0.34</td>\n",
       "      <td>1.75</td>\n",
       "      <td>2.7</td>\n",
       "      <td>2.33</td>\n",
       "      <td>37.58107</td>\n",
       "      <td>-6.75165</td>\n",
       "      <td>Valverde del Camino</td>\n",
       "      <td>España</td>\n",
       "    </tr>\n",
       "    <tr>\n",
       "      <th>911</th>\n",
       "      <td>1.35</td>\n",
       "      <td>1.41</td>\n",
       "      <td>0.89</td>\n",
       "      <td>2.26</td>\n",
       "      <td>2.50</td>\n",
       "      <td>3.16</td>\n",
       "      <td>2.14</td>\n",
       "      <td>1.44</td>\n",
       "      <td>2.26</td>\n",
       "      <td>3.85</td>\n",
       "      <td>4.3</td>\n",
       "      <td>3.18</td>\n",
       "      <td>44.89777</td>\n",
       "      <td>5.36963</td>\n",
       "      <td>Vassieux-en-Vercors</td>\n",
       "      <td>France</td>\n",
       "    </tr>\n",
       "    <tr>\n",
       "      <th>912</th>\n",
       "      <td>0.67</td>\n",
       "      <td>0.61</td>\n",
       "      <td>0.96</td>\n",
       "      <td>0.64</td>\n",
       "      <td>0.40</td>\n",
       "      <td>0.10</td>\n",
       "      <td>0.01</td>\n",
       "      <td>0.09</td>\n",
       "      <td>0.53</td>\n",
       "      <td>0.76</td>\n",
       "      <td>0.8</td>\n",
       "      <td>1.13</td>\n",
       "      <td>37.55425</td>\n",
       "      <td>-2.60865</td>\n",
       "      <td>Cúllar</td>\n",
       "      <td>España</td>\n",
       "    </tr>\n",
       "  </tbody>\n",
       "</table>\n",
       "</div>"
      ],
      "text/plain": [
       "      Jan   Feb   Mar   Apr   May   Jun   Jul   Aug   Sep   Oct  Nov   Dec  \\\n",
       "910  1.16  1.28  1.53  2.17  0.99  0.02  0.06  0.02  0.34  1.75  2.7  2.33   \n",
       "911  1.35  1.41  0.89  2.26  2.50  3.16  2.14  1.44  2.26  3.85  4.3  3.18   \n",
       "912  0.67  0.61  0.96  0.64  0.40  0.10  0.01  0.09  0.53  0.76  0.8  1.13   \n",
       "\n",
       "     latitude  longitude                 town country  \n",
       "910  37.58107   -6.75165  Valverde del Camino  España  \n",
       "911  44.89777    5.36963  Vassieux-en-Vercors  France  \n",
       "912  37.55425   -2.60865               Cúllar  España  "
      ]
     },
     "execution_count": 96,
     "metadata": {},
     "output_type": "execute_result"
    }
   ],
   "source": [
    "df_precipitation.tail(3)"
   ]
  },
  {
   "cell_type": "code",
   "execution_count": 98,
   "metadata": {},
   "outputs": [
    {
     "data": {
      "text/html": [
       "<div>\n",
       "<style scoped>\n",
       "    .dataframe tbody tr th:only-of-type {\n",
       "        vertical-align: middle;\n",
       "    }\n",
       "\n",
       "    .dataframe tbody tr th {\n",
       "        vertical-align: top;\n",
       "    }\n",
       "\n",
       "    .dataframe thead th {\n",
       "        text-align: right;\n",
       "    }\n",
       "</style>\n",
       "<table border=\"1\" class=\"dataframe\">\n",
       "  <thead>\n",
       "    <tr style=\"text-align: right;\">\n",
       "      <th></th>\n",
       "      <th>index</th>\n",
       "      <th>Jan</th>\n",
       "      <th>Feb</th>\n",
       "      <th>Mar</th>\n",
       "      <th>Apr</th>\n",
       "      <th>May</th>\n",
       "      <th>Jun</th>\n",
       "      <th>Jul</th>\n",
       "      <th>Aug</th>\n",
       "      <th>Sep</th>\n",
       "      <th>Oct</th>\n",
       "      <th>Nov</th>\n",
       "      <th>Dec</th>\n",
       "      <th>latitude</th>\n",
       "      <th>longitude</th>\n",
       "      <th>town</th>\n",
       "      <th>country</th>\n",
       "    </tr>\n",
       "  </thead>\n",
       "  <tbody>\n",
       "    <tr>\n",
       "      <th>897</th>\n",
       "      <td>910</td>\n",
       "      <td>1.16</td>\n",
       "      <td>1.28</td>\n",
       "      <td>1.53</td>\n",
       "      <td>2.17</td>\n",
       "      <td>0.99</td>\n",
       "      <td>0.02</td>\n",
       "      <td>0.06</td>\n",
       "      <td>0.02</td>\n",
       "      <td>0.34</td>\n",
       "      <td>1.75</td>\n",
       "      <td>2.7</td>\n",
       "      <td>2.33</td>\n",
       "      <td>37.58107</td>\n",
       "      <td>-6.75165</td>\n",
       "      <td>Valverde del Camino</td>\n",
       "      <td>España</td>\n",
       "    </tr>\n",
       "    <tr>\n",
       "      <th>898</th>\n",
       "      <td>911</td>\n",
       "      <td>1.35</td>\n",
       "      <td>1.41</td>\n",
       "      <td>0.89</td>\n",
       "      <td>2.26</td>\n",
       "      <td>2.50</td>\n",
       "      <td>3.16</td>\n",
       "      <td>2.14</td>\n",
       "      <td>1.44</td>\n",
       "      <td>2.26</td>\n",
       "      <td>3.85</td>\n",
       "      <td>4.3</td>\n",
       "      <td>3.18</td>\n",
       "      <td>44.89777</td>\n",
       "      <td>5.36963</td>\n",
       "      <td>Vassieux-en-Vercors</td>\n",
       "      <td>France</td>\n",
       "    </tr>\n",
       "    <tr>\n",
       "      <th>899</th>\n",
       "      <td>912</td>\n",
       "      <td>0.67</td>\n",
       "      <td>0.61</td>\n",
       "      <td>0.96</td>\n",
       "      <td>0.64</td>\n",
       "      <td>0.40</td>\n",
       "      <td>0.10</td>\n",
       "      <td>0.01</td>\n",
       "      <td>0.09</td>\n",
       "      <td>0.53</td>\n",
       "      <td>0.76</td>\n",
       "      <td>0.8</td>\n",
       "      <td>1.13</td>\n",
       "      <td>37.55425</td>\n",
       "      <td>-2.60865</td>\n",
       "      <td>Cúllar</td>\n",
       "      <td>España</td>\n",
       "    </tr>\n",
       "  </tbody>\n",
       "</table>\n",
       "</div>"
      ],
      "text/plain": [
       "     index   Jan   Feb   Mar   Apr   May   Jun   Jul   Aug   Sep   Oct  Nov  \\\n",
       "897    910  1.16  1.28  1.53  2.17  0.99  0.02  0.06  0.02  0.34  1.75  2.7   \n",
       "898    911  1.35  1.41  0.89  2.26  2.50  3.16  2.14  1.44  2.26  3.85  4.3   \n",
       "899    912  0.67  0.61  0.96  0.64  0.40  0.10  0.01  0.09  0.53  0.76  0.8   \n",
       "\n",
       "      Dec  latitude  longitude                 town country  \n",
       "897  2.33  37.58107   -6.75165  Valverde del Camino  España  \n",
       "898  3.18  44.89777    5.36963  Vassieux-en-Vercors  France  \n",
       "899  1.13  37.55425   -2.60865               Cúllar  España  "
      ]
     },
     "execution_count": 98,
     "metadata": {},
     "output_type": "execute_result"
    }
   ],
   "source": [
    "df_precipitation.tail(3)"
   ]
  },
  {
   "cell_type": "code",
   "execution_count": 99,
   "metadata": {},
   "outputs": [
    {
     "data": {
      "text/plain": [
       "Encamp                  3\n",
       "København               2\n",
       "Laruns                  2\n",
       "Loudenvielle            2\n",
       "Cangas                  2\n",
       "                       ..\n",
       "Kalmar                  1\n",
       "Karlskrona              1\n",
       "Kaysersberg-Vignoble    1\n",
       "Kehl                    1\n",
       "Cúllar                  1\n",
       "Name: town, Length: 874, dtype: int64"
      ]
     },
     "execution_count": 99,
     "metadata": {},
     "output_type": "execute_result"
    }
   ],
   "source": [
    "df_precipitation.town.value_counts()"
   ]
  },
  {
   "cell_type": "code",
   "execution_count": 100,
   "metadata": {},
   "outputs": [],
   "source": [
    "df_precipitation = df_precipitation.drop_duplicates(subset=[\"town\"])"
   ]
  },
  {
   "cell_type": "code",
   "execution_count": 103,
   "metadata": {},
   "outputs": [],
   "source": [
    "df_precipitation = df_precipitation.reset_index()"
   ]
  },
  {
   "cell_type": "code",
   "execution_count": 104,
   "metadata": {},
   "outputs": [],
   "source": [
    "df_precipitation.to_csv(\"../files/05-precipitation.csv\") # save to csv"
   ]
  }
 ],
 "metadata": {
  "kernelspec": {
   "display_name": "base",
   "language": "python",
   "name": "python3"
  },
  "language_info": {
   "codemirror_mode": {
    "name": "ipython",
    "version": 3
   },
   "file_extension": ".py",
   "mimetype": "text/x-python",
   "name": "python",
   "nbconvert_exporter": "python",
   "pygments_lexer": "ipython3",
   "version": "3.9.7"
  },
  "orig_nbformat": 4,
  "vscode": {
   "interpreter": {
    "hash": "f25093244bacc7e62393c275f4a06a2027bcbdb9a67d7fe53680dbd2484adc03"
   }
  }
 },
 "nbformat": 4,
 "nbformat_minor": 2
}
