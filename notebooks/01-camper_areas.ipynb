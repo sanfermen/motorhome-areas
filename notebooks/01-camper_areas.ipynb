{
 "cells": [
  {
   "attachments": {},
   "cell_type": "markdown",
   "metadata": {},
   "source": [
    "### Libraries"
   ]
  },
  {
   "cell_type": "code",
   "execution_count": 1,
   "metadata": {},
   "outputs": [],
   "source": [
    "import pandas as pd\n",
    "import re\n",
    "import requests"
   ]
  },
  {
   "attachments": {},
   "cell_type": "markdown",
   "metadata": {},
   "source": [
    "**Objective**: Extract and transform information from a csv file to obtain information about some motorhomes areas"
   ]
  },
  {
   "cell_type": "code",
   "execution_count": 2,
   "metadata": {},
   "outputs": [
    {
     "data": {
      "text/html": [
       "<div>\n",
       "<style scoped>\n",
       "    .dataframe tbody tr th:only-of-type {\n",
       "        vertical-align: middle;\n",
       "    }\n",
       "\n",
       "    .dataframe tbody tr th {\n",
       "        vertical-align: top;\n",
       "    }\n",
       "\n",
       "    .dataframe thead th {\n",
       "        text-align: right;\n",
       "    }\n",
       "</style>\n",
       "<table border=\"1\" class=\"dataframe\">\n",
       "  <thead>\n",
       "    <tr style=\"text-align: right;\">\n",
       "      <th></th>\n",
       "      <th>WKT</th>\n",
       "      <th>NOMBRE</th>\n",
       "    </tr>\n",
       "  </thead>\n",
       "  <tbody>\n",
       "    <tr>\n",
       "      <th>0</th>\n",
       "      <td>POINT (-0.4098 39.06956 0.0)</td>\n",
       "      <td>Area AC Hort de Soriano (Carcaixent)  (Gratuit...</td>\n",
       "    </tr>\n",
       "    <tr>\n",
       "      <th>1</th>\n",
       "      <td>POINT (-8.89696 42.64159 0.0)</td>\n",
       "      <td>Area de ac playa de BarraÃ±a (Boiro)  (Gratuit...</td>\n",
       "    </tr>\n",
       "    <tr>\n",
       "      <th>2</th>\n",
       "      <td>POINT (0.35921 42.90715 0.0)</td>\n",
       "      <td>Arreau Ã¡rea AC municipal  (2 eurosAgua:sivaci...</td>\n",
       "    </tr>\n",
       "    <tr>\n",
       "      <th>3</th>\n",
       "      <td>POINT (-0.41007 38.39479 0.0)</td>\n",
       "      <td>Camper Area Campello Beach   (14eur/nocheAgua:...</td>\n",
       "    </tr>\n",
       "    <tr>\n",
       "      <th>4</th>\n",
       "      <td>POINT (-8.44443 43.37179 0.0)</td>\n",
       "      <td>A CoruÃ±a  Gratuito: Si Pernocta: Si WC: Si Ag...</td>\n",
       "    </tr>\n",
       "  </tbody>\n",
       "</table>\n",
       "</div>"
      ],
      "text/plain": [
       "                             WKT  \\\n",
       "0   POINT (-0.4098 39.06956 0.0)   \n",
       "1  POINT (-8.89696 42.64159 0.0)   \n",
       "2   POINT (0.35921 42.90715 0.0)   \n",
       "3  POINT (-0.41007 38.39479 0.0)   \n",
       "4  POINT (-8.44443 43.37179 0.0)   \n",
       "\n",
       "                                              NOMBRE  \n",
       "0  Area AC Hort de Soriano (Carcaixent)  (Gratuit...  \n",
       "1  Area de ac playa de BarraÃ±a (Boiro)  (Gratuit...  \n",
       "2  Arreau Ã¡rea AC municipal  (2 eurosAgua:sivaci...  \n",
       "3  Camper Area Campello Beach   (14eur/nocheAgua:...  \n",
       "4  A CoruÃ±a  Gratuito: Si Pernocta: Si WC: Si Ag...  "
      ]
     },
     "execution_count": 2,
     "metadata": {},
     "output_type": "execute_result"
    }
   ],
   "source": [
    "df = pd.read_csv(\"../files/01-areas_ac.csv\")\n",
    "df.head()"
   ]
  },
  {
   "cell_type": "code",
   "execution_count": 3,
   "metadata": {},
   "outputs": [
    {
     "data": {
      "text/plain": [
       "WKT       0\n",
       "NOMBRE    0\n",
       "dtype: int64"
      ]
     },
     "execution_count": 3,
     "metadata": {},
     "output_type": "execute_result"
    }
   ],
   "source": [
    "# Check if any value is NaN\n",
    "df.isnull().sum()"
   ]
  },
  {
   "cell_type": "code",
   "execution_count": 4,
   "metadata": {},
   "outputs": [
    {
     "data": {
      "text/plain": [
       "WKT       object\n",
       "NOMBRE    object\n",
       "dtype: object"
      ]
     },
     "execution_count": 4,
     "metadata": {},
     "output_type": "execute_result"
    }
   ],
   "source": [
    "# Check the data type\n",
    "df.dtypes"
   ]
  },
  {
   "cell_type": "code",
   "execution_count": 5,
   "metadata": {},
   "outputs": [
    {
     "data": {
      "text/plain": [
       "0"
      ]
     },
     "execution_count": 5,
     "metadata": {},
     "output_type": "execute_result"
    }
   ],
   "source": [
    "# Check duplicates\n",
    "df.duplicated().sum()"
   ]
  },
  {
   "attachments": {},
   "cell_type": "markdown",
   "metadata": {},
   "source": [
    "### EXTRACT COLUMNS INFORMATION\n",
    "---"
   ]
  },
  {
   "cell_type": "code",
   "execution_count": 6,
   "metadata": {},
   "outputs": [],
   "source": [
    "# Function to get coordinates\n",
    "def get_latitude(col):\n",
    "    pattern = \"-?\\d+\\.\\d+\" \n",
    "    return re.findall(pattern, col)[1]\n",
    "\n",
    "def get_longitude(col):\n",
    "    pattern = \"-?\\d+\\.\\d+\" \n",
    "    return re.findall(pattern, col)[0]"
   ]
  },
  {
   "cell_type": "code",
   "execution_count": 7,
   "metadata": {},
   "outputs": [],
   "source": [
    "df[\"latitude\"]= df[\"WKT\"].apply(get_latitude)"
   ]
  },
  {
   "cell_type": "code",
   "execution_count": 8,
   "metadata": {},
   "outputs": [],
   "source": [
    "df[\"longitude\"] = df[\"WKT\"].apply(get_longitude)"
   ]
  },
  {
   "cell_type": "code",
   "execution_count": 9,
   "metadata": {},
   "outputs": [
    {
     "data": {
      "text/html": [
       "<div>\n",
       "<style scoped>\n",
       "    .dataframe tbody tr th:only-of-type {\n",
       "        vertical-align: middle;\n",
       "    }\n",
       "\n",
       "    .dataframe tbody tr th {\n",
       "        vertical-align: top;\n",
       "    }\n",
       "\n",
       "    .dataframe thead th {\n",
       "        text-align: right;\n",
       "    }\n",
       "</style>\n",
       "<table border=\"1\" class=\"dataframe\">\n",
       "  <thead>\n",
       "    <tr style=\"text-align: right;\">\n",
       "      <th></th>\n",
       "      <th>WKT</th>\n",
       "      <th>NOMBRE</th>\n",
       "      <th>latitude</th>\n",
       "      <th>longitude</th>\n",
       "    </tr>\n",
       "  </thead>\n",
       "  <tbody>\n",
       "    <tr>\n",
       "      <th>0</th>\n",
       "      <td>POINT (-0.4098 39.06956 0.0)</td>\n",
       "      <td>Area AC Hort de Soriano (Carcaixent)  (Gratuit...</td>\n",
       "      <td>39.06956</td>\n",
       "      <td>-0.4098</td>\n",
       "    </tr>\n",
       "    <tr>\n",
       "      <th>1</th>\n",
       "      <td>POINT (-8.89696 42.64159 0.0)</td>\n",
       "      <td>Area de ac playa de BarraÃ±a (Boiro)  (Gratuit...</td>\n",
       "      <td>42.64159</td>\n",
       "      <td>-8.89696</td>\n",
       "    </tr>\n",
       "  </tbody>\n",
       "</table>\n",
       "</div>"
      ],
      "text/plain": [
       "                             WKT  \\\n",
       "0   POINT (-0.4098 39.06956 0.0)   \n",
       "1  POINT (-8.89696 42.64159 0.0)   \n",
       "\n",
       "                                              NOMBRE  latitude longitude  \n",
       "0  Area AC Hort de Soriano (Carcaixent)  (Gratuit...  39.06956   -0.4098  \n",
       "1  Area de ac playa de BarraÃ±a (Boiro)  (Gratuit...  42.64159  -8.89696  "
      ]
     },
     "execution_count": 9,
     "metadata": {},
     "output_type": "execute_result"
    }
   ],
   "source": [
    "df.head(2)"
   ]
  },
  {
   "cell_type": "code",
   "execution_count": 10,
   "metadata": {},
   "outputs": [],
   "source": [
    "# Function to get if it's free\n",
    "def area_price(col):\n",
    "    pattern1 = \"[G|g]ratuito:*\\s*[N|n]o\"\n",
    "    pattern2 = \"[G|g]ratuito\"\n",
    "    pattern3 = \".*\\d+\"\n",
    "    if re.findall(pattern1,col):             \n",
    "        return \"Paying\"\n",
    "    elif re.findall(pattern2,col):             \n",
    "        return \"Free\"\n",
    "    elif re.findall(pattern3,col):             \n",
    "        return \"Paying\"\n",
    "    else:\n",
    "        return \"Free\""
   ]
  },
  {
   "cell_type": "code",
   "execution_count": 11,
   "metadata": {},
   "outputs": [],
   "source": [
    "df[\"price\"] = df[\"NOMBRE\"].apply(area_price)"
   ]
  },
  {
   "cell_type": "code",
   "execution_count": 12,
   "metadata": {},
   "outputs": [
    {
     "data": {
      "text/html": [
       "<div>\n",
       "<style scoped>\n",
       "    .dataframe tbody tr th:only-of-type {\n",
       "        vertical-align: middle;\n",
       "    }\n",
       "\n",
       "    .dataframe tbody tr th {\n",
       "        vertical-align: top;\n",
       "    }\n",
       "\n",
       "    .dataframe thead th {\n",
       "        text-align: right;\n",
       "    }\n",
       "</style>\n",
       "<table border=\"1\" class=\"dataframe\">\n",
       "  <thead>\n",
       "    <tr style=\"text-align: right;\">\n",
       "      <th></th>\n",
       "      <th>WKT</th>\n",
       "      <th>NOMBRE</th>\n",
       "      <th>latitude</th>\n",
       "      <th>longitude</th>\n",
       "      <th>price</th>\n",
       "    </tr>\n",
       "  </thead>\n",
       "  <tbody>\n",
       "    <tr>\n",
       "      <th>0</th>\n",
       "      <td>POINT (-0.4098 39.06956 0.0)</td>\n",
       "      <td>Area AC Hort de Soriano (Carcaixent)  (Gratuit...</td>\n",
       "      <td>39.06956</td>\n",
       "      <td>-0.4098</td>\n",
       "      <td>Free</td>\n",
       "    </tr>\n",
       "    <tr>\n",
       "      <th>1</th>\n",
       "      <td>POINT (-8.89696 42.64159 0.0)</td>\n",
       "      <td>Area de ac playa de BarraÃ±a (Boiro)  (Gratuit...</td>\n",
       "      <td>42.64159</td>\n",
       "      <td>-8.89696</td>\n",
       "      <td>Free</td>\n",
       "    </tr>\n",
       "  </tbody>\n",
       "</table>\n",
       "</div>"
      ],
      "text/plain": [
       "                             WKT  \\\n",
       "0   POINT (-0.4098 39.06956 0.0)   \n",
       "1  POINT (-8.89696 42.64159 0.0)   \n",
       "\n",
       "                                              NOMBRE  latitude longitude price  \n",
       "0  Area AC Hort de Soriano (Carcaixent)  (Gratuit...  39.06956   -0.4098  Free  \n",
       "1  Area de ac playa de BarraÃ±a (Boiro)  (Gratuit...  42.64159  -8.89696  Free  "
      ]
     },
     "execution_count": 12,
     "metadata": {},
     "output_type": "execute_result"
    }
   ],
   "source": [
    "df.head(2)"
   ]
  },
  {
   "cell_type": "code",
   "execution_count": 13,
   "metadata": {},
   "outputs": [
    {
     "data": {
      "text/plain": [
       "Free      552\n",
       "Paying    361\n",
       "Name: price, dtype: int64"
      ]
     },
     "execution_count": 13,
     "metadata": {},
     "output_type": "execute_result"
    }
   ],
   "source": [
    "df.price.value_counts()"
   ]
  },
  {
   "cell_type": "code",
   "execution_count": 14,
   "metadata": {},
   "outputs": [],
   "source": [
    "# Function to know if they have water service\n",
    "def get_water(col):\n",
    "    pattern = \"[A|a]gua:*\\s*[N|n]o*\"\n",
    "    pattern2 = \"[A|a]gua:*\\s*[S|s]*i*\"\n",
    "    if re.findall(pattern, col):\n",
    "        return \"no\"\n",
    "    elif re.findall(pattern2, col):\n",
    "        return \"yes\"\n",
    "    else:\n",
    "        return \"unknown\""
   ]
  },
  {
   "cell_type": "code",
   "execution_count": 15,
   "metadata": {},
   "outputs": [],
   "source": [
    "df[\"water\"] = df[\"NOMBRE\"].apply(get_water)"
   ]
  },
  {
   "cell_type": "code",
   "execution_count": 16,
   "metadata": {},
   "outputs": [
    {
     "data": {
      "text/html": [
       "<div>\n",
       "<style scoped>\n",
       "    .dataframe tbody tr th:only-of-type {\n",
       "        vertical-align: middle;\n",
       "    }\n",
       "\n",
       "    .dataframe tbody tr th {\n",
       "        vertical-align: top;\n",
       "    }\n",
       "\n",
       "    .dataframe thead th {\n",
       "        text-align: right;\n",
       "    }\n",
       "</style>\n",
       "<table border=\"1\" class=\"dataframe\">\n",
       "  <thead>\n",
       "    <tr style=\"text-align: right;\">\n",
       "      <th></th>\n",
       "      <th>WKT</th>\n",
       "      <th>NOMBRE</th>\n",
       "      <th>latitude</th>\n",
       "      <th>longitude</th>\n",
       "      <th>price</th>\n",
       "      <th>water</th>\n",
       "    </tr>\n",
       "  </thead>\n",
       "  <tbody>\n",
       "    <tr>\n",
       "      <th>0</th>\n",
       "      <td>POINT (-0.4098 39.06956 0.0)</td>\n",
       "      <td>Area AC Hort de Soriano (Carcaixent)  (Gratuit...</td>\n",
       "      <td>39.06956</td>\n",
       "      <td>-0.4098</td>\n",
       "      <td>Free</td>\n",
       "      <td>yes</td>\n",
       "    </tr>\n",
       "    <tr>\n",
       "      <th>1</th>\n",
       "      <td>POINT (-8.89696 42.64159 0.0)</td>\n",
       "      <td>Area de ac playa de BarraÃ±a (Boiro)  (Gratuit...</td>\n",
       "      <td>42.64159</td>\n",
       "      <td>-8.89696</td>\n",
       "      <td>Free</td>\n",
       "      <td>yes</td>\n",
       "    </tr>\n",
       "  </tbody>\n",
       "</table>\n",
       "</div>"
      ],
      "text/plain": [
       "                             WKT  \\\n",
       "0   POINT (-0.4098 39.06956 0.0)   \n",
       "1  POINT (-8.89696 42.64159 0.0)   \n",
       "\n",
       "                                              NOMBRE  latitude longitude  \\\n",
       "0  Area AC Hort de Soriano (Carcaixent)  (Gratuit...  39.06956   -0.4098   \n",
       "1  Area de ac playa de BarraÃ±a (Boiro)  (Gratuit...  42.64159  -8.89696   \n",
       "\n",
       "  price water  \n",
       "0  Free   yes  \n",
       "1  Free   yes  "
      ]
     },
     "execution_count": 16,
     "metadata": {},
     "output_type": "execute_result"
    }
   ],
   "source": [
    "df.head(2)"
   ]
  },
  {
   "cell_type": "code",
   "execution_count": 17,
   "metadata": {},
   "outputs": [
    {
     "data": {
      "text/plain": [
       "yes        885\n",
       "no          19\n",
       "unknown      9\n",
       "Name: water, dtype: int64"
      ]
     },
     "execution_count": 17,
     "metadata": {},
     "output_type": "execute_result"
    }
   ],
   "source": [
    "df[\"water\"].value_counts()"
   ]
  },
  {
   "cell_type": "code",
   "execution_count": 18,
   "metadata": {},
   "outputs": [],
   "source": [
    "# Function to know if they have wc\n",
    "def get_wc(col):\n",
    "    pattern = \"[W|w][C|c]:*\\s*[N|n]o*\"\n",
    "    pattern2 = \"[W|w][C|c]:*\\s*[S|s]*i*\"\n",
    "    if re.findall(pattern, col):\n",
    "        return \"no\"\n",
    "    elif re.findall(pattern2, col):\n",
    "        return \"yes\"\n",
    "    else:\n",
    "        return \"unknown\""
   ]
  },
  {
   "cell_type": "code",
   "execution_count": 19,
   "metadata": {},
   "outputs": [],
   "source": [
    "df[\"wc\"] = df[\"NOMBRE\"].apply(get_wc)"
   ]
  },
  {
   "cell_type": "code",
   "execution_count": 20,
   "metadata": {},
   "outputs": [
    {
     "data": {
      "text/html": [
       "<div>\n",
       "<style scoped>\n",
       "    .dataframe tbody tr th:only-of-type {\n",
       "        vertical-align: middle;\n",
       "    }\n",
       "\n",
       "    .dataframe tbody tr th {\n",
       "        vertical-align: top;\n",
       "    }\n",
       "\n",
       "    .dataframe thead th {\n",
       "        text-align: right;\n",
       "    }\n",
       "</style>\n",
       "<table border=\"1\" class=\"dataframe\">\n",
       "  <thead>\n",
       "    <tr style=\"text-align: right;\">\n",
       "      <th></th>\n",
       "      <th>WKT</th>\n",
       "      <th>NOMBRE</th>\n",
       "      <th>latitude</th>\n",
       "      <th>longitude</th>\n",
       "      <th>price</th>\n",
       "      <th>water</th>\n",
       "      <th>wc</th>\n",
       "    </tr>\n",
       "  </thead>\n",
       "  <tbody>\n",
       "    <tr>\n",
       "      <th>0</th>\n",
       "      <td>POINT (-0.4098 39.06956 0.0)</td>\n",
       "      <td>Area AC Hort de Soriano (Carcaixent)  (Gratuit...</td>\n",
       "      <td>39.06956</td>\n",
       "      <td>-0.4098</td>\n",
       "      <td>Free</td>\n",
       "      <td>yes</td>\n",
       "      <td>yes</td>\n",
       "    </tr>\n",
       "    <tr>\n",
       "      <th>1</th>\n",
       "      <td>POINT (-8.89696 42.64159 0.0)</td>\n",
       "      <td>Area de ac playa de BarraÃ±a (Boiro)  (Gratuit...</td>\n",
       "      <td>42.64159</td>\n",
       "      <td>-8.89696</td>\n",
       "      <td>Free</td>\n",
       "      <td>yes</td>\n",
       "      <td>yes</td>\n",
       "    </tr>\n",
       "  </tbody>\n",
       "</table>\n",
       "</div>"
      ],
      "text/plain": [
       "                             WKT  \\\n",
       "0   POINT (-0.4098 39.06956 0.0)   \n",
       "1  POINT (-8.89696 42.64159 0.0)   \n",
       "\n",
       "                                              NOMBRE  latitude longitude  \\\n",
       "0  Area AC Hort de Soriano (Carcaixent)  (Gratuit...  39.06956   -0.4098   \n",
       "1  Area de ac playa de BarraÃ±a (Boiro)  (Gratuit...  42.64159  -8.89696   \n",
       "\n",
       "  price water   wc  \n",
       "0  Free   yes  yes  \n",
       "1  Free   yes  yes  "
      ]
     },
     "execution_count": 20,
     "metadata": {},
     "output_type": "execute_result"
    }
   ],
   "source": [
    "df.head(2)"
   ]
  },
  {
   "cell_type": "code",
   "execution_count": 21,
   "metadata": {},
   "outputs": [
    {
     "data": {
      "text/plain": [
       "no         511\n",
       "yes        363\n",
       "unknown     39\n",
       "Name: wc, dtype: int64"
      ]
     },
     "execution_count": 21,
     "metadata": {},
     "output_type": "execute_result"
    }
   ],
   "source": [
    "df.wc.value_counts()"
   ]
  },
  {
   "cell_type": "code",
   "execution_count": 22,
   "metadata": {},
   "outputs": [],
   "source": [
    "# Function to know if they have grey water disposal\n",
    "def water_disposal(col):\n",
    "    pattern = \"[V|v]aciado:*\\s*[N|n]o*\"\n",
    "    pattern2 = \"[V|v]aciado:*\\s*[S|s]*i*\"\n",
    "    if re.findall(pattern, col):\n",
    "        return \"no\"\n",
    "    elif re.findall(pattern2, col):\n",
    "        return \"yes\"\n",
    "    else:\n",
    "        return \"unknown\""
   ]
  },
  {
   "cell_type": "code",
   "execution_count": 23,
   "metadata": {},
   "outputs": [],
   "source": [
    "df[\"grey_water\"] = df[\"NOMBRE\"].apply(water_disposal)"
   ]
  },
  {
   "cell_type": "code",
   "execution_count": 24,
   "metadata": {},
   "outputs": [
    {
     "data": {
      "text/html": [
       "<div>\n",
       "<style scoped>\n",
       "    .dataframe tbody tr th:only-of-type {\n",
       "        vertical-align: middle;\n",
       "    }\n",
       "\n",
       "    .dataframe tbody tr th {\n",
       "        vertical-align: top;\n",
       "    }\n",
       "\n",
       "    .dataframe thead th {\n",
       "        text-align: right;\n",
       "    }\n",
       "</style>\n",
       "<table border=\"1\" class=\"dataframe\">\n",
       "  <thead>\n",
       "    <tr style=\"text-align: right;\">\n",
       "      <th></th>\n",
       "      <th>WKT</th>\n",
       "      <th>NOMBRE</th>\n",
       "      <th>latitude</th>\n",
       "      <th>longitude</th>\n",
       "      <th>price</th>\n",
       "      <th>water</th>\n",
       "      <th>wc</th>\n",
       "      <th>grey_water</th>\n",
       "    </tr>\n",
       "  </thead>\n",
       "  <tbody>\n",
       "    <tr>\n",
       "      <th>0</th>\n",
       "      <td>POINT (-0.4098 39.06956 0.0)</td>\n",
       "      <td>Area AC Hort de Soriano (Carcaixent)  (Gratuit...</td>\n",
       "      <td>39.06956</td>\n",
       "      <td>-0.4098</td>\n",
       "      <td>Free</td>\n",
       "      <td>yes</td>\n",
       "      <td>yes</td>\n",
       "      <td>yes</td>\n",
       "    </tr>\n",
       "    <tr>\n",
       "      <th>1</th>\n",
       "      <td>POINT (-8.89696 42.64159 0.0)</td>\n",
       "      <td>Area de ac playa de BarraÃ±a (Boiro)  (Gratuit...</td>\n",
       "      <td>42.64159</td>\n",
       "      <td>-8.89696</td>\n",
       "      <td>Free</td>\n",
       "      <td>yes</td>\n",
       "      <td>yes</td>\n",
       "      <td>unknown</td>\n",
       "    </tr>\n",
       "  </tbody>\n",
       "</table>\n",
       "</div>"
      ],
      "text/plain": [
       "                             WKT  \\\n",
       "0   POINT (-0.4098 39.06956 0.0)   \n",
       "1  POINT (-8.89696 42.64159 0.0)   \n",
       "\n",
       "                                              NOMBRE  latitude longitude  \\\n",
       "0  Area AC Hort de Soriano (Carcaixent)  (Gratuit...  39.06956   -0.4098   \n",
       "1  Area de ac playa de BarraÃ±a (Boiro)  (Gratuit...  42.64159  -8.89696   \n",
       "\n",
       "  price water   wc grey_water  \n",
       "0  Free   yes  yes        yes  \n",
       "1  Free   yes  yes    unknown  "
      ]
     },
     "execution_count": 24,
     "metadata": {},
     "output_type": "execute_result"
    }
   ],
   "source": [
    "df.head(2)"
   ]
  },
  {
   "cell_type": "code",
   "execution_count": 25,
   "metadata": {},
   "outputs": [
    {
     "data": {
      "text/plain": [
       "yes        629\n",
       "unknown    278\n",
       "no           6\n",
       "Name: grey_water, dtype: int64"
      ]
     },
     "execution_count": 25,
     "metadata": {},
     "output_type": "execute_result"
    }
   ],
   "source": [
    "df.grey_water.value_counts()"
   ]
  },
  {
   "cell_type": "code",
   "execution_count": 26,
   "metadata": {},
   "outputs": [],
   "source": [
    "# Drop the columns we don't need\n",
    "df.drop(columns=[\"WKT\", \"NOMBRE\"], axis=1, inplace= True)"
   ]
  },
  {
   "cell_type": "code",
   "execution_count": 27,
   "metadata": {},
   "outputs": [],
   "source": [
    "df.to_csv(\"../files/02-areas_clean.csv\")"
   ]
  }
 ],
 "metadata": {
  "kernelspec": {
   "display_name": "base",
   "language": "python",
   "name": "python3"
  },
  "language_info": {
   "codemirror_mode": {
    "name": "ipython",
    "version": 3
   },
   "file_extension": ".py",
   "mimetype": "text/x-python",
   "name": "python",
   "nbconvert_exporter": "python",
   "pygments_lexer": "ipython3",
   "version": "3.9.7"
  },
  "orig_nbformat": 4,
  "vscode": {
   "interpreter": {
    "hash": "f25093244bacc7e62393c275f4a06a2027bcbdb9a67d7fe53680dbd2484adc03"
   }
  }
 },
 "nbformat": 4,
 "nbformat_minor": 2
}
